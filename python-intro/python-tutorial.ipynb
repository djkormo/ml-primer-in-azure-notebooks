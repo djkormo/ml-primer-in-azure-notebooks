{
  "cells": [
    {
      "metadata": {
        "slideshow": {
          "slide_type": "slide"
        }
      },
      "cell_type": "markdown",
      "source": "# Numbers"
    },
    {
      "metadata": {
        "slideshow": {
          "slide_type": "slide"
        },
        "ExecuteTime": {
          "start_time": "2020-02-08T20:10:37.398357Z",
          "end_time": "2020-02-08T20:10:37.431761Z"
        },
        "trusted": true
      },
      "cell_type": "code",
      "source": "2**31",
      "execution_count": 28,
      "outputs": [
        {
          "output_type": "execute_result",
          "execution_count": 28,
          "data": {
            "text/plain": "2147483648"
          },
          "metadata": {}
        }
      ]
    },
    {
      "metadata": {
        "slideshow": {
          "slide_type": "slide"
        },
        "ExecuteTime": {
          "start_time": "2020-02-08T20:10:37.450809Z",
          "end_time": "2020-02-08T20:10:37.648566Z"
        },
        "trusted": true
      },
      "cell_type": "code",
      "source": "2**63",
      "execution_count": 29,
      "outputs": [
        {
          "output_type": "execute_result",
          "execution_count": 29,
          "data": {
            "text/plain": "9223372036854775808"
          },
          "metadata": {}
        }
      ]
    },
    {
      "metadata": {
        "slideshow": {
          "slide_type": "slide"
        },
        "ExecuteTime": {
          "start_time": "2020-02-08T20:10:37.656703Z",
          "end_time": "2020-02-08T20:10:37.94311Z"
        },
        "trusted": true
      },
      "cell_type": "code",
      "source": "2**64",
      "execution_count": 30,
      "outputs": [
        {
          "output_type": "execute_result",
          "execution_count": 30,
          "data": {
            "text/plain": "18446744073709551616"
          },
          "metadata": {}
        }
      ]
    },
    {
      "metadata": {
        "slideshow": {
          "slide_type": "slide"
        },
        "ExecuteTime": {
          "start_time": "2020-02-08T20:10:37.95856Z",
          "end_time": "2020-02-08T20:10:38.099115Z"
        },
        "trusted": true
      },
      "cell_type": "code",
      "source": "2**128",
      "execution_count": 31,
      "outputs": [
        {
          "output_type": "execute_result",
          "execution_count": 31,
          "data": {
            "text/plain": "340282366920938463463374607431768211456"
          },
          "metadata": {}
        }
      ]
    },
    {
      "metadata": {
        "slideshow": {
          "slide_type": "subslide"
        },
        "ExecuteTime": {
          "start_time": "2020-02-08T20:10:38.123503Z",
          "end_time": "2020-02-08T20:10:38.268679Z"
        },
        "trusted": true
      },
      "cell_type": "code",
      "source": "2**4000",
      "execution_count": 32,
      "outputs": [
        {
          "output_type": "execute_result",
          "execution_count": 32,
          "data": {
            "text/plain": "13182040934309431001038897942365913631840191610932727690928034502417569281128344551079752123172122033140940756480716823038446817694240581281731062452512184038544674444386888956328970642771993930036586552924249514488832183389415832375620009284922608946111038578754077913265440918583125586050431647284603636490823850007826811672468900210689104488089485347192152708820119765006125944858397761874669301278745233504796586994514054435217053803732703240283400815926169348364799472716094576894007243168662568886603065832486830606125017643356469732407252874567217733694824236675323341755681839221954693820456072020253884371226826844858636194212875139566587445390068014747975813971748114770439248826688667129237954128555841874460665729630492658600179338272579110020881228767361200603478973120168893997574353727653998969223092798255701666067972698906236921628764772837915526086464389161570534616956703744840502975279094087587298968423516531626090898389351449020056851221079048966718878943309232071978575639877208621237040940126912767610658141079378758043403611425454744180577150855204937163460902512732551260539639221457005977247266676344018155647509515396711351487546062479444592779055555421362722504575706910949376"
          },
          "metadata": {}
        }
      ]
    },
    {
      "metadata": {
        "slideshow": {
          "slide_type": "fragment"
        },
        "ExecuteTime": {
          "start_time": "2020-02-08T20:10:38.281806Z",
          "end_time": "2020-02-08T20:10:38.474739Z"
        },
        "trusted": true
      },
      "cell_type": "code",
      "source": "len(str(2**4000))",
      "execution_count": 33,
      "outputs": [
        {
          "output_type": "execute_result",
          "execution_count": 33,
          "data": {
            "text/plain": "1205"
          },
          "metadata": {}
        }
      ]
    },
    {
      "metadata": {
        "slideshow": {
          "slide_type": "fragment"
        }
      },
      "cell_type": "markdown",
      "source": "# Data types"
    },
    {
      "metadata": {},
      "cell_type": "markdown",
      "source": "## Lists"
    },
    {
      "metadata": {
        "ExecuteTime": {
          "start_time": "2020-02-08T20:10:38.488987Z",
          "end_time": "2020-02-08T20:10:38.686564Z"
        },
        "trusted": true
      },
      "cell_type": "code",
      "source": "arr = [0,1,2,3]\nprint(arr)",
      "execution_count": 34,
      "outputs": [
        {
          "output_type": "stream",
          "text": "[0, 1, 2, 3]\n",
          "name": "stdout"
        }
      ]
    },
    {
      "metadata": {
        "ExecuteTime": {
          "start_time": "2020-02-08T20:10:38.700134Z",
          "end_time": "2020-02-08T20:10:38.806564Z"
        },
        "trusted": true
      },
      "cell_type": "code",
      "source": "arr = [1,2,'cos', [10,11,12], 3.14]\narr",
      "execution_count": 35,
      "outputs": [
        {
          "output_type": "execute_result",
          "execution_count": 35,
          "data": {
            "text/plain": "[1, 2, 'cos', [10, 11, 12], 3.14]"
          },
          "metadata": {}
        }
      ]
    },
    {
      "metadata": {
        "ExecuteTime": {
          "start_time": "2020-02-08T20:10:38.817244Z",
          "end_time": "2020-02-08T20:10:38.919047Z"
        },
        "trusted": true
      },
      "cell_type": "code",
      "source": "arr = [0,1,2,3]\narr",
      "execution_count": 36,
      "outputs": [
        {
          "output_type": "execute_result",
          "execution_count": 36,
          "data": {
            "text/plain": "[0, 1, 2, 3]"
          },
          "metadata": {}
        }
      ]
    },
    {
      "metadata": {
        "ExecuteTime": {
          "start_time": "2020-02-08T20:10:38.925994Z",
          "end_time": "2020-02-08T20:10:39.092424Z"
        },
        "trusted": true
      },
      "cell_type": "code",
      "source": "len(arr)",
      "execution_count": 37,
      "outputs": [
        {
          "output_type": "execute_result",
          "execution_count": 37,
          "data": {
            "text/plain": "4"
          },
          "metadata": {}
        }
      ]
    },
    {
      "metadata": {
        "ExecuteTime": {
          "start_time": "2020-02-08T20:10:39.111466Z",
          "end_time": "2020-02-08T20:10:39.252712Z"
        },
        "trusted": true
      },
      "cell_type": "code",
      "source": "arr[1]",
      "execution_count": 38,
      "outputs": [
        {
          "output_type": "execute_result",
          "execution_count": 38,
          "data": {
            "text/plain": "1"
          },
          "metadata": {}
        }
      ]
    },
    {
      "metadata": {
        "ExecuteTime": {
          "start_time": "2020-02-08T20:10:39.272184Z",
          "end_time": "2020-02-08T20:10:39.459196Z"
        },
        "trusted": true
      },
      "cell_type": "code",
      "source": "arr[-1]",
      "execution_count": 39,
      "outputs": [
        {
          "output_type": "execute_result",
          "execution_count": 39,
          "data": {
            "text/plain": "3"
          },
          "metadata": {}
        }
      ]
    },
    {
      "metadata": {
        "ExecuteTime": {
          "start_time": "2020-02-08T20:10:39.474305Z",
          "end_time": "2020-02-08T20:10:39.684323Z"
        },
        "trusted": true
      },
      "cell_type": "code",
      "source": "arr[1:3]",
      "execution_count": 40,
      "outputs": [
        {
          "output_type": "execute_result",
          "execution_count": 40,
          "data": {
            "text/plain": "[1, 2]"
          },
          "metadata": {}
        }
      ]
    },
    {
      "metadata": {
        "ExecuteTime": {
          "start_time": "2020-02-08T20:10:39.691865Z",
          "end_time": "2020-02-08T20:10:39.829969Z"
        },
        "trusted": true
      },
      "cell_type": "code",
      "source": "arr[:3]",
      "execution_count": 41,
      "outputs": [
        {
          "output_type": "execute_result",
          "execution_count": 41,
          "data": {
            "text/plain": "[0, 1, 2]"
          },
          "metadata": {}
        }
      ]
    },
    {
      "metadata": {
        "ExecuteTime": {
          "start_time": "2020-02-08T20:10:39.832257Z",
          "end_time": "2020-02-08T20:10:40.479218Z"
        },
        "trusted": true
      },
      "cell_type": "code",
      "source": "arr[-2:]",
      "execution_count": 42,
      "outputs": [
        {
          "output_type": "execute_result",
          "execution_count": 42,
          "data": {
            "text/plain": "[2, 3]"
          },
          "metadata": {}
        }
      ]
    },
    {
      "metadata": {
        "ExecuteTime": {
          "start_time": "2020-02-08T20:10:40.484825Z",
          "end_time": "2020-02-08T20:10:40.657942Z"
        },
        "trusted": true
      },
      "cell_type": "code",
      "source": "arr[-3:-1]",
      "execution_count": 43,
      "outputs": [
        {
          "output_type": "execute_result",
          "execution_count": 43,
          "data": {
            "text/plain": "[1, 2]"
          },
          "metadata": {}
        }
      ]
    },
    {
      "metadata": {
        "ExecuteTime": {
          "start_time": "2020-02-08T20:10:40.664357Z",
          "end_time": "2020-02-08T20:10:40.768313Z"
        },
        "trusted": true
      },
      "cell_type": "code",
      "source": "arr = [0,1,2,3,4,5,6]\narr[0:5]",
      "execution_count": 44,
      "outputs": [
        {
          "output_type": "execute_result",
          "execution_count": 44,
          "data": {
            "text/plain": "[0, 1, 2, 3, 4]"
          },
          "metadata": {}
        }
      ]
    },
    {
      "metadata": {
        "ExecuteTime": {
          "start_time": "2020-02-08T20:10:40.773397Z",
          "end_time": "2020-02-08T20:10:40.887584Z"
        },
        "trusted": true
      },
      "cell_type": "code",
      "source": "arr[0:5:2]",
      "execution_count": 45,
      "outputs": [
        {
          "output_type": "execute_result",
          "execution_count": 45,
          "data": {
            "text/plain": "[0, 2, 4]"
          },
          "metadata": {}
        }
      ]
    },
    {
      "metadata": {
        "ExecuteTime": {
          "start_time": "2020-02-08T20:10:40.904422Z",
          "end_time": "2020-02-08T20:10:41.053456Z"
        },
        "trusted": true
      },
      "cell_type": "code",
      "source": "arr[::2]",
      "execution_count": 46,
      "outputs": [
        {
          "output_type": "execute_result",
          "execution_count": 46,
          "data": {
            "text/plain": "[0, 2, 4, 6]"
          },
          "metadata": {}
        }
      ]
    },
    {
      "metadata": {
        "ExecuteTime": {
          "start_time": "2020-02-08T20:10:41.06929Z",
          "end_time": "2020-02-08T20:10:41.223155Z"
        },
        "trusted": true
      },
      "cell_type": "code",
      "source": "arr[::-1]",
      "execution_count": 47,
      "outputs": [
        {
          "output_type": "execute_result",
          "execution_count": 47,
          "data": {
            "text/plain": "[6, 5, 4, 3, 2, 1, 0]"
          },
          "metadata": {}
        }
      ]
    },
    {
      "metadata": {
        "ExecuteTime": {
          "start_time": "2020-02-08T20:10:41.239422Z",
          "end_time": "2020-02-08T20:10:41.375319Z"
        },
        "trusted": true
      },
      "cell_type": "code",
      "source": "a=[0,1,2,3]\nb=['a','b','c','d']\na+b",
      "execution_count": 48,
      "outputs": [
        {
          "output_type": "execute_result",
          "execution_count": 48,
          "data": {
            "text/plain": "[0, 1, 2, 3, 'a', 'b', 'c', 'd']"
          },
          "metadata": {}
        }
      ]
    },
    {
      "metadata": {
        "ExecuteTime": {
          "start_time": "2020-02-08T20:10:41.399499Z",
          "end_time": "2020-02-08T20:10:41.605945Z"
        },
        "trusted": true
      },
      "cell_type": "code",
      "source": "a=[10,20,30,40]\na.append(100)\na",
      "execution_count": 49,
      "outputs": [
        {
          "output_type": "execute_result",
          "execution_count": 49,
          "data": {
            "text/plain": "[10, 20, 30, 40, 100]"
          },
          "metadata": {}
        }
      ]
    },
    {
      "metadata": {
        "ExecuteTime": {
          "start_time": "2020-02-08T20:10:41.610551Z",
          "end_time": "2020-02-08T20:10:41.971132Z"
        },
        "trusted": true
      },
      "cell_type": "code",
      "source": "a=[10,20,20,30,40]\na.remove(20)\na",
      "execution_count": 50,
      "outputs": [
        {
          "output_type": "execute_result",
          "execution_count": 50,
          "data": {
            "text/plain": "[10, 20, 30, 40]"
          },
          "metadata": {}
        }
      ]
    },
    {
      "metadata": {},
      "cell_type": "markdown",
      "source": "## Tuples"
    },
    {
      "metadata": {
        "ExecuteTime": {
          "start_time": "2020-02-08T20:10:41.982316Z",
          "end_time": "2020-02-08T20:10:42.432772Z"
        },
        "trusted": true
      },
      "cell_type": "code",
      "source": "a = (1,2,3)\na",
      "execution_count": 51,
      "outputs": [
        {
          "output_type": "execute_result",
          "execution_count": 51,
          "data": {
            "text/plain": "(1, 2, 3)"
          },
          "metadata": {}
        }
      ]
    },
    {
      "metadata": {
        "ExecuteTime": {
          "start_time": "2020-02-08T20:10:42.450361Z",
          "end_time": "2020-02-08T20:10:42.74217Z"
        },
        "trusted": true
      },
      "cell_type": "code",
      "source": "a[0]",
      "execution_count": 52,
      "outputs": [
        {
          "output_type": "execute_result",
          "execution_count": 52,
          "data": {
            "text/plain": "1"
          },
          "metadata": {}
        }
      ]
    },
    {
      "metadata": {
        "ExecuteTime": {
          "start_time": "2020-02-08T20:10:42.750228Z",
          "end_time": "2020-02-08T20:10:42.90279Z"
        },
        "trusted": true
      },
      "cell_type": "code",
      "source": "try:\n    a[1]=1\nexcept Exception as e:\n    print('Exception:', e)",
      "execution_count": 53,
      "outputs": [
        {
          "output_type": "stream",
          "text": "Exception: 'tuple' object does not support item assignment\n",
          "name": "stdout"
        }
      ]
    },
    {
      "metadata": {},
      "cell_type": "markdown",
      "source": "## Dictionaries"
    },
    {
      "metadata": {
        "ExecuteTime": {
          "start_time": "2020-02-08T20:10:42.923245Z",
          "end_time": "2020-02-08T20:10:43.204766Z"
        },
        "trusted": true
      },
      "cell_type": "code",
      "source": "oceny = {'polski': 3.5, 'matematyka': 5, 'fizyka': 4, \n         'informatyka': 6}\noceny",
      "execution_count": 54,
      "outputs": [
        {
          "output_type": "execute_result",
          "execution_count": 54,
          "data": {
            "text/plain": "{'fizyka': 4, 'informatyka': 6, 'matematyka': 5, 'polski': 3.5}"
          },
          "metadata": {}
        }
      ]
    },
    {
      "metadata": {
        "ExecuteTime": {
          "start_time": "2020-02-08T20:10:43.214331Z",
          "end_time": "2020-02-08T20:10:43.344946Z"
        },
        "trusted": true
      },
      "cell_type": "code",
      "source": "oceny['informatyka']",
      "execution_count": 55,
      "outputs": [
        {
          "output_type": "execute_result",
          "execution_count": 55,
          "data": {
            "text/plain": "6"
          },
          "metadata": {}
        }
      ]
    },
    {
      "metadata": {
        "ExecuteTime": {
          "start_time": "2020-02-08T20:10:43.361238Z",
          "end_time": "2020-02-08T20:10:43.537321Z"
        },
        "trusted": true
      },
      "cell_type": "code",
      "source": "oceny['nowy przedmiot'] = 2.0\noceny",
      "execution_count": 56,
      "outputs": [
        {
          "output_type": "execute_result",
          "execution_count": 56,
          "data": {
            "text/plain": "{'fizyka': 4,\n 'informatyka': 6,\n 'matematyka': 5,\n 'nowy przedmiot': 2.0,\n 'polski': 3.5}"
          },
          "metadata": {}
        }
      ]
    },
    {
      "metadata": {},
      "cell_type": "markdown",
      "source": "# Sets"
    },
    {
      "metadata": {
        "ExecuteTime": {
          "start_time": "2020-02-08T20:10:43.558393Z",
          "end_time": "2020-02-08T20:10:43.740891Z"
        },
        "trusted": true
      },
      "cell_type": "code",
      "source": "ulubione_przedmioty = set(['polski', 'muzyka', 'geografia', 'historia'])\nulubione_przedmioty",
      "execution_count": 57,
      "outputs": [
        {
          "output_type": "execute_result",
          "execution_count": 57,
          "data": {
            "text/plain": "{'geografia', 'historia', 'muzyka', 'polski'}"
          },
          "metadata": {}
        }
      ]
    },
    {
      "metadata": {
        "ExecuteTime": {
          "start_time": "2020-02-08T20:10:43.751529Z",
          "end_time": "2020-02-08T20:10:44.009136Z"
        },
        "trusted": true
      },
      "cell_type": "code",
      "source": "'informatyka' in ulubione_przedmioty",
      "execution_count": 58,
      "outputs": [
        {
          "output_type": "execute_result",
          "execution_count": 58,
          "data": {
            "text/plain": "False"
          },
          "metadata": {}
        }
      ]
    },
    {
      "metadata": {
        "ExecuteTime": {
          "start_time": "2020-02-08T20:10:44.023773Z",
          "end_time": "2020-02-08T20:10:44.348737Z"
        },
        "trusted": true
      },
      "cell_type": "code",
      "source": "if 'polski' in ulubione_przedmioty:\n    print('Kocham j. polski!')",
      "execution_count": 59,
      "outputs": [
        {
          "output_type": "stream",
          "text": "Kocham j. polski!\n",
          "name": "stdout"
        }
      ]
    },
    {
      "metadata": {
        "ExecuteTime": {
          "start_time": "2020-02-08T20:10:44.352451Z",
          "end_time": "2020-02-08T20:10:44.654277Z"
        },
        "trusted": true
      },
      "cell_type": "code",
      "source": "a = set(['a','b','c','d'])\nb = set(['c','d','e','f'])\na.union(b)",
      "execution_count": 60,
      "outputs": [
        {
          "output_type": "execute_result",
          "execution_count": 60,
          "data": {
            "text/plain": "{'a', 'b', 'c', 'd', 'e', 'f'}"
          },
          "metadata": {}
        }
      ]
    },
    {
      "metadata": {
        "ExecuteTime": {
          "start_time": "2020-02-08T20:10:44.660651Z",
          "end_time": "2020-02-08T20:10:44.861323Z"
        },
        "trusted": true
      },
      "cell_type": "code",
      "source": "a.intersection(b)",
      "execution_count": 61,
      "outputs": [
        {
          "output_type": "execute_result",
          "execution_count": 61,
          "data": {
            "text/plain": "{'c', 'd'}"
          },
          "metadata": {}
        }
      ]
    },
    {
      "metadata": {
        "ExecuteTime": {
          "start_time": "2020-02-08T20:10:44.879991Z",
          "end_time": "2020-02-08T20:10:45.033993Z"
        },
        "trusted": true
      },
      "cell_type": "code",
      "source": "a.difference(b)",
      "execution_count": 62,
      "outputs": [
        {
          "output_type": "execute_result",
          "execution_count": 62,
          "data": {
            "text/plain": "{'a', 'b'}"
          },
          "metadata": {}
        }
      ]
    },
    {
      "metadata": {},
      "cell_type": "markdown",
      "source": "## Strings"
    },
    {
      "metadata": {
        "ExecuteTime": {
          "start_time": "2020-02-08T20:10:45.054372Z",
          "end_time": "2020-02-08T20:10:45.205438Z"
        },
        "trusted": true
      },
      "cell_type": "code",
      "source": "print('Imię: {}'.format('Wojciech'))",
      "execution_count": 63,
      "outputs": [
        {
          "output_type": "stream",
          "text": "Imię: Wojciech\n",
          "name": "stdout"
        }
      ]
    },
    {
      "metadata": {
        "ExecuteTime": {
          "start_time": "2020-02-08T20:10:45.236894Z",
          "end_time": "2020-02-08T20:10:45.55432Z"
        },
        "trusted": true
      },
      "cell_type": "code",
      "source": "from math import pi\nprint(' Imię:     {},\\n Nazwisko: {},\\n PESEL:    {},\\n Ulubiona: {}\\n'\n    .format('Wojciech', 'Jaśkowski', '8212...', pi))",
      "execution_count": 64,
      "outputs": [
        {
          "output_type": "stream",
          "text": " Imię:     Wojciech,\n Nazwisko: Jaśkowski,\n PESEL:    8212...,\n Ulubiona: 3.141592653589793\n\n",
          "name": "stdout"
        }
      ]
    },
    {
      "metadata": {
        "ExecuteTime": {
          "start_time": "2020-02-08T20:10:45.571241Z",
          "end_time": "2020-02-08T20:10:45.825124Z"
        },
        "trusted": true
      },
      "cell_type": "code",
      "source": "from math import pi\nprint('''\nImię:     {imie},\nNazwisko: {nazw},\nPESEL:    {pesel},\nUlubiona: {ulub}\n'''.format(\n    nazw='Jaśkowski', \n    imie='Wojciech', \n    pesel='8212...', \n    ulub=pi))",
      "execution_count": 65,
      "outputs": [
        {
          "output_type": "stream",
          "text": "\nImię:     Wojciech,\nNazwisko: Jaśkowski,\nPESEL:    8212...,\nUlubiona: 3.141592653589793\n\n",
          "name": "stdout"
        }
      ]
    },
    {
      "metadata": {
        "ExecuteTime": {
          "start_time": "2020-02-08T20:10:45.840606Z",
          "end_time": "2020-02-08T20:10:46.00017Z"
        },
        "trusted": true
      },
      "cell_type": "code",
      "source": "print('ęśćńżół')\nprint('יהוה')",
      "execution_count": 66,
      "outputs": [
        {
          "output_type": "stream",
          "text": "ęśćńżół\nיהוה\n",
          "name": "stdout"
        }
      ]
    },
    {
      "metadata": {
        "ExecuteTime": {
          "start_time": "2020-02-08T20:10:46.017726Z",
          "end_time": "2020-02-08T20:10:46.216683Z"
        },
        "trusted": true
      },
      "cell_type": "code",
      "source": "s = 'ala'\nprint(s[0:2])",
      "execution_count": 67,
      "outputs": [
        {
          "output_type": "stream",
          "text": "al\n",
          "name": "stdout"
        }
      ]
    },
    {
      "metadata": {
        "ExecuteTime": {
          "start_time": "2020-02-08T20:10:46.234373Z",
          "end_time": "2020-02-08T20:10:46.326205Z"
        },
        "trusted": true
      },
      "cell_type": "code",
      "source": "print('ala')\nprint(\"ala\")",
      "execution_count": 68,
      "outputs": [
        {
          "output_type": "stream",
          "text": "ala\nala\n",
          "name": "stdout"
        }
      ]
    },
    {
      "metadata": {
        "ExecuteTime": {
          "start_time": "2020-02-08T20:10:46.337513Z",
          "end_time": "2020-02-08T20:10:46.529784Z"
        },
        "trusted": true
      },
      "cell_type": "code",
      "source": "print('ala ma \"kota\"')\nprint(\"ala ma 'kota'\")",
      "execution_count": 69,
      "outputs": [
        {
          "output_type": "stream",
          "text": "ala ma \"kota\"\nala ma 'kota'\n",
          "name": "stdout"
        }
      ]
    },
    {
      "metadata": {
        "ExecuteTime": {
          "start_time": "2020-02-08T20:10:46.549326Z",
          "end_time": "2020-02-08T20:10:46.69059Z"
        },
        "trusted": true
      },
      "cell_type": "code",
      "source": "str(12)",
      "execution_count": 70,
      "outputs": [
        {
          "output_type": "execute_result",
          "execution_count": 70,
          "data": {
            "text/plain": "'12'"
          },
          "metadata": {}
        }
      ]
    },
    {
      "metadata": {
        "ExecuteTime": {
          "start_time": "2020-02-08T20:10:46.706761Z",
          "end_time": "2020-02-08T20:10:46.800474Z"
        },
        "trusted": true
      },
      "cell_type": "code",
      "source": "int('12')",
      "execution_count": 71,
      "outputs": [
        {
          "output_type": "execute_result",
          "execution_count": 71,
          "data": {
            "text/plain": "12"
          },
          "metadata": {}
        }
      ]
    },
    {
      "metadata": {
        "ExecuteTime": {
          "start_time": "2020-02-08T20:10:46.803481Z",
          "end_time": "2020-02-08T20:10:46.954537Z"
        },
        "trusted": true
      },
      "cell_type": "code",
      "source": "float('12.1')",
      "execution_count": 72,
      "outputs": [
        {
          "output_type": "execute_result",
          "execution_count": 72,
          "data": {
            "text/plain": "12.1"
          },
          "metadata": {}
        }
      ]
    },
    {
      "metadata": {
        "ExecuteTime": {
          "start_time": "2020-02-08T20:10:46.961081Z",
          "end_time": "2020-02-08T20:10:47.092544Z"
        },
        "trusted": true
      },
      "cell_type": "code",
      "source": "text = 'Python is easy;really?'\ntext.split()",
      "execution_count": 73,
      "outputs": [
        {
          "output_type": "execute_result",
          "execution_count": 73,
          "data": {
            "text/plain": "['Python', 'is', 'easy;really?']"
          },
          "metadata": {}
        }
      ]
    },
    {
      "metadata": {
        "ExecuteTime": {
          "start_time": "2020-02-08T20:10:47.10746Z",
          "end_time": "2020-02-08T20:10:47.265323Z"
        },
        "trusted": true
      },
      "cell_type": "code",
      "source": "text.split(';')",
      "execution_count": 74,
      "outputs": [
        {
          "output_type": "execute_result",
          "execution_count": 74,
          "data": {
            "text/plain": "['Python is easy', 'really?']"
          },
          "metadata": {}
        }
      ]
    },
    {
      "metadata": {
        "ExecuteTime": {
          "start_time": "2020-02-08T20:10:47.270339Z",
          "end_time": "2020-02-08T20:10:47.403329Z"
        },
        "trusted": true
      },
      "cell_type": "code",
      "source": "import re\nre.split(' |;', text)",
      "execution_count": 75,
      "outputs": [
        {
          "output_type": "execute_result",
          "execution_count": 75,
          "data": {
            "text/plain": "['Python', 'is', 'easy', 'really?']"
          },
          "metadata": {}
        }
      ]
    },
    {
      "metadata": {
        "ExecuteTime": {
          "start_time": "2020-02-08T20:10:47.436047Z",
          "end_time": "2020-02-08T20:10:47.605046Z"
        },
        "trusted": true
      },
      "cell_type": "code",
      "source": "arr = ['a','b','c','d']\nstr(arr)",
      "execution_count": 76,
      "outputs": [
        {
          "output_type": "execute_result",
          "execution_count": 76,
          "data": {
            "text/plain": "\"['a', 'b', 'c', 'd']\""
          },
          "metadata": {}
        }
      ]
    },
    {
      "metadata": {
        "ExecuteTime": {
          "start_time": "2020-02-08T20:10:47.628378Z",
          "end_time": "2020-02-08T20:10:47.873585Z"
        },
        "trusted": true
      },
      "cell_type": "code",
      "source": "'; '.join(arr)",
      "execution_count": 77,
      "outputs": [
        {
          "output_type": "execute_result",
          "execution_count": 77,
          "data": {
            "text/plain": "'a; b; c; d'"
          },
          "metadata": {}
        }
      ]
    },
    {
      "metadata": {},
      "cell_type": "markdown",
      "source": "# Flow control"
    },
    {
      "metadata": {
        "ExecuteTime": {
          "start_time": "2020-02-08T20:10:47.882463Z",
          "end_time": "2020-02-08T20:10:48.027566Z"
        },
        "trusted": true
      },
      "cell_type": "code",
      "source": "arr = ['a', 'b', 'c', 'd']\nfor a in arr:\n    print(a)",
      "execution_count": 78,
      "outputs": [
        {
          "output_type": "stream",
          "text": "a\nb\nc\nd\n",
          "name": "stdout"
        }
      ]
    },
    {
      "metadata": {
        "ExecuteTime": {
          "start_time": "2020-02-08T20:10:48.035374Z",
          "end_time": "2020-02-08T20:10:48.18084Z"
        },
        "trusted": true
      },
      "cell_type": "code",
      "source": "list(range(4))",
      "execution_count": 79,
      "outputs": [
        {
          "output_type": "execute_result",
          "execution_count": 79,
          "data": {
            "text/plain": "[0, 1, 2, 3]"
          },
          "metadata": {}
        }
      ]
    },
    {
      "metadata": {
        "ExecuteTime": {
          "start_time": "2020-02-08T20:10:48.195131Z",
          "end_time": "2020-02-08T20:10:48.373656Z"
        },
        "trusted": true
      },
      "cell_type": "code",
      "source": "for i in range(len(arr)):\n    print(i, arr[i])",
      "execution_count": 80,
      "outputs": [
        {
          "output_type": "stream",
          "text": "0 a\n1 b\n2 c\n3 d\n",
          "name": "stdout"
        }
      ]
    },
    {
      "metadata": {
        "ExecuteTime": {
          "start_time": "2020-02-08T20:10:48.39914Z",
          "end_time": "2020-02-08T20:10:48.695927Z"
        },
        "trusted": true
      },
      "cell_type": "code",
      "source": "for i, a in enumerate(arr):\n    print(i, a)",
      "execution_count": 81,
      "outputs": [
        {
          "output_type": "stream",
          "text": "0 a\n1 b\n2 c\n3 d\n",
          "name": "stdout"
        }
      ]
    },
    {
      "metadata": {
        "ExecuteTime": {
          "start_time": "2020-02-08T20:10:48.707289Z",
          "end_time": "2020-02-08T20:10:48.849341Z"
        },
        "trusted": true
      },
      "cell_type": "code",
      "source": "a = [0,1,2,3]\nb = ['a','b','c','d']\nn = len(a)\nfor i in range(n):\n    print(a[i], b[i])",
      "execution_count": 82,
      "outputs": [
        {
          "output_type": "stream",
          "text": "0 a\n1 b\n2 c\n3 d\n",
          "name": "stdout"
        }
      ]
    },
    {
      "metadata": {
        "ExecuteTime": {
          "start_time": "2020-02-08T20:10:48.866968Z",
          "end_time": "2020-02-08T20:10:48.985408Z"
        },
        "trusted": true
      },
      "cell_type": "code",
      "source": "a = [0,1,2,3]\nb = ['a','b','c','d']\nfor x, y in zip(a, b):\n    print(x, y)",
      "execution_count": 83,
      "outputs": [
        {
          "output_type": "stream",
          "text": "0 a\n1 b\n2 c\n3 d\n",
          "name": "stdout"
        }
      ]
    },
    {
      "metadata": {
        "ExecuteTime": {
          "start_time": "2020-02-08T20:10:49.005829Z",
          "end_time": "2020-02-08T20:10:49.090409Z"
        },
        "trusted": true
      },
      "cell_type": "code",
      "source": "list(zip(a,b))",
      "execution_count": 84,
      "outputs": [
        {
          "output_type": "execute_result",
          "execution_count": 84,
          "data": {
            "text/plain": "[(0, 'a'), (1, 'b'), (2, 'c'), (3, 'd')]"
          },
          "metadata": {}
        }
      ]
    },
    {
      "metadata": {
        "ExecuteTime": {
          "start_time": "2020-02-08T20:10:49.100765Z",
          "end_time": "2020-02-08T20:10:49.299644Z"
        },
        "trusted": true
      },
      "cell_type": "code",
      "source": "c=['ala','ma','kota','!']\nzipped = list(zip(a,b,c))\nzipped",
      "execution_count": 85,
      "outputs": [
        {
          "output_type": "execute_result",
          "execution_count": 85,
          "data": {
            "text/plain": "[(0, 'a', 'ala'), (1, 'b', 'ma'), (2, 'c', 'kota'), (3, 'd', '!')]"
          },
          "metadata": {}
        }
      ]
    },
    {
      "metadata": {
        "ExecuteTime": {
          "start_time": "2020-02-08T20:10:49.316092Z",
          "end_time": "2020-02-08T20:10:49.601869Z"
        },
        "trusted": true
      },
      "cell_type": "code",
      "source": "a, b, c = list(zip(*zipped))\nprint(a)\nprint(b)\nprint(c)",
      "execution_count": 86,
      "outputs": [
        {
          "output_type": "stream",
          "text": "(0, 1, 2, 3)\n('a', 'b', 'c', 'd')\n('ala', 'ma', 'kota', '!')\n",
          "name": "stdout"
        }
      ]
    },
    {
      "metadata": {
        "ExecuteTime": {
          "start_time": "2020-02-08T20:10:49.618605Z",
          "end_time": "2020-02-08T20:10:50.233268Z"
        },
        "trusted": true
      },
      "cell_type": "code",
      "source": "arr = [0,1,2,3]\nfor a in arr:\n    if a % 3 == 0:\n        print('{} = 0 (mod 3)'.format(a))\n    elif a % 3 == 1:\n        print('{} = 1 (mod 3)'.format(a))\n    else:\n        print('{} = 2 (mod 3)'.format(a))",
      "execution_count": 87,
      "outputs": [
        {
          "output_type": "stream",
          "text": "0 = 0 (mod 3)\n1 = 1 (mod 3)\n2 = 2 (mod 3)\n3 = 0 (mod 3)\n",
          "name": "stdout"
        }
      ]
    },
    {
      "metadata": {
        "ExecuteTime": {
          "start_time": "2020-02-08T20:10:50.250113Z",
          "end_time": "2020-02-08T20:10:50.426732Z"
        },
        "trusted": true
      },
      "cell_type": "code",
      "source": "12 // 5",
      "execution_count": 88,
      "outputs": [
        {
          "output_type": "execute_result",
          "execution_count": 88,
          "data": {
            "text/plain": "2"
          },
          "metadata": {}
        }
      ]
    },
    {
      "metadata": {
        "ExecuteTime": {
          "start_time": "2020-02-08T20:10:50.428588Z",
          "end_time": "2020-02-08T20:10:50.730292Z"
        },
        "trusted": true
      },
      "cell_type": "code",
      "source": "s = 'python'\nwhile s[0] != 'h':\n    s = s[1:]\nprint(s)",
      "execution_count": 89,
      "outputs": [
        {
          "output_type": "stream",
          "text": "hon\n",
          "name": "stdout"
        }
      ]
    },
    {
      "metadata": {
        "ExecuteTime": {
          "start_time": "2020-02-08T20:10:50.75551Z",
          "end_time": "2020-02-08T20:10:50.887229Z"
        },
        "trusted": true
      },
      "cell_type": "code",
      "source": "a = 1\nif -1 <= a and a <= 1:\n    print('A is in range')",
      "execution_count": 90,
      "outputs": [
        {
          "output_type": "stream",
          "text": "A is in range\n",
          "name": "stdout"
        }
      ]
    },
    {
      "metadata": {
        "ExecuteTime": {
          "start_time": "2020-02-08T20:10:50.891249Z",
          "end_time": "2020-02-08T20:10:51.454849Z"
        },
        "trusted": true
      },
      "cell_type": "code",
      "source": "if -1 <= a <= 1:\n    print('A is in range')",
      "execution_count": 91,
      "outputs": [
        {
          "output_type": "stream",
          "text": "A is in range\n",
          "name": "stdout"
        }
      ]
    },
    {
      "metadata": {
        "ExecuteTime": {
          "start_time": "2020-02-08T20:10:51.475398Z",
          "end_time": "2020-02-08T20:10:51.757835Z"
        },
        "trusted": true
      },
      "cell_type": "code",
      "source": "a = [1, 2, 3]\nif not 4 in a:\n    print('4 is missing')\n    ",
      "execution_count": 92,
      "outputs": [
        {
          "output_type": "stream",
          "text": "4 is missing\n",
          "name": "stdout"
        }
      ]
    },
    {
      "metadata": {
        "ExecuteTime": {
          "start_time": "2020-02-08T20:10:51.768514Z",
          "end_time": "2020-02-08T20:10:52.17664Z"
        },
        "trusted": true
      },
      "cell_type": "code",
      "source": "# or, continue, break\n",
      "execution_count": 93,
      "outputs": []
    },
    {
      "metadata": {},
      "cell_type": "markdown",
      "source": "## Iterating over dictionaries"
    },
    {
      "metadata": {
        "ExecuteTime": {
          "start_time": "2020-02-08T20:10:52.198848Z",
          "end_time": "2020-02-08T20:10:52.582443Z"
        },
        "trusted": true
      },
      "cell_type": "code",
      "source": "d = {'a': 1, 'b': 2, 12: 'mama'}\nfor v in d:\n    print(v)",
      "execution_count": 94,
      "outputs": [
        {
          "output_type": "stream",
          "text": "a\n12\nb\n",
          "name": "stdout"
        }
      ]
    },
    {
      "metadata": {
        "ExecuteTime": {
          "start_time": "2020-02-08T20:10:52.597996Z",
          "end_time": "2020-02-08T20:10:52.848777Z"
        },
        "trusted": true
      },
      "cell_type": "code",
      "source": "for k, v in d.items():\n    print(str(k) + ' => ' + str(v))",
      "execution_count": 95,
      "outputs": [
        {
          "output_type": "stream",
          "text": "a => 1\n12 => mama\nb => 2\n",
          "name": "stdout"
        }
      ]
    },
    {
      "metadata": {},
      "cell_type": "markdown",
      "source": "## Functions"
    },
    {
      "metadata": {
        "ExecuteTime": {
          "start_time": "2020-02-08T20:10:52.859067Z",
          "end_time": "2020-02-08T20:10:53.15747Z"
        },
        "trusted": true
      },
      "cell_type": "code",
      "source": "def suma(a, b):    \n    return a + b\n        \nsuma(1,3)",
      "execution_count": 96,
      "outputs": [
        {
          "output_type": "execute_result",
          "execution_count": 96,
          "data": {
            "text/plain": "4"
          },
          "metadata": {}
        }
      ]
    },
    {
      "metadata": {
        "ExecuteTime": {
          "start_time": "2020-02-08T20:10:53.163315Z",
          "end_time": "2020-02-08T20:10:53.444682Z"
        },
        "trusted": true
      },
      "cell_type": "code",
      "source": "def suma(a, b, wa=1, wb=1):\n    return wa * a + wb * b\n\nprint(suma(1, 3))",
      "execution_count": 97,
      "outputs": [
        {
          "output_type": "stream",
          "text": "4\n",
          "name": "stdout"
        }
      ]
    },
    {
      "metadata": {
        "ExecuteTime": {
          "start_time": "2020-02-08T20:10:53.461841Z",
          "end_time": "2020-02-08T20:10:53.763779Z"
        },
        "trusted": true
      },
      "cell_type": "code",
      "source": "print(suma(1, 3, 2, 1))",
      "execution_count": 98,
      "outputs": [
        {
          "output_type": "stream",
          "text": "5\n",
          "name": "stdout"
        }
      ]
    },
    {
      "metadata": {
        "ExecuteTime": {
          "start_time": "2020-02-08T20:10:53.772402Z",
          "end_time": "2020-02-08T20:10:54.164018Z"
        },
        "trusted": true
      },
      "cell_type": "code",
      "source": "print(suma(1, 3, wb=2, wa=1))",
      "execution_count": 99,
      "outputs": [
        {
          "output_type": "stream",
          "text": "7\n",
          "name": "stdout"
        }
      ]
    },
    {
      "metadata": {
        "ExecuteTime": {
          "start_time": "2020-02-08T20:10:54.180988Z",
          "end_time": "2020-02-08T20:10:54.445387Z"
        },
        "trusted": true
      },
      "cell_type": "code",
      "source": "print(suma(1, 3, wb=2))",
      "execution_count": 100,
      "outputs": [
        {
          "output_type": "stream",
          "text": "7\n",
          "name": "stdout"
        }
      ]
    },
    {
      "metadata": {
        "ExecuteTime": {
          "start_time": "2020-02-08T20:10:54.463148Z",
          "end_time": "2020-02-08T20:10:54.619919Z"
        },
        "trusted": true
      },
      "cell_type": "code",
      "source": "def f(arr):\n    n = x = arr[0]\n    for a in arr:\n        if n > a:\n            n = a\n        if x < a:\n            x = a\n    return n, x\n\nprint(f([2,3,1,4]))",
      "execution_count": 101,
      "outputs": [
        {
          "output_type": "stream",
          "text": "(1, 4)\n",
          "name": "stdout"
        }
      ]
    },
    {
      "metadata": {
        "ExecuteTime": {
          "start_time": "2020-02-08T20:10:54.638759Z",
          "end_time": "2020-02-08T20:10:55.015473Z"
        },
        "trusted": true
      },
      "cell_type": "code",
      "source": "a, b = f([2,3,1,4])\nprint(a)\nprint(b)",
      "execution_count": 102,
      "outputs": [
        {
          "output_type": "stream",
          "text": "1\n4\n",
          "name": "stdout"
        }
      ]
    },
    {
      "metadata": {
        "ExecuteTime": {
          "start_time": "2020-02-08T20:10:55.034357Z",
          "end_time": "2020-02-08T20:10:55.44682Z"
        },
        "trusted": true
      },
      "cell_type": "code",
      "source": "x = f([2,3,1,4])\nx",
      "execution_count": 103,
      "outputs": [
        {
          "output_type": "execute_result",
          "execution_count": 103,
          "data": {
            "text/plain": "(1, 4)"
          },
          "metadata": {}
        }
      ]
    },
    {
      "metadata": {
        "ExecuteTime": {
          "start_time": "2020-02-08T20:10:55.455545Z",
          "end_time": "2020-02-08T20:10:55.651635Z"
        },
        "trusted": true
      },
      "cell_type": "code",
      "source": "a = 1\nb = 2\na, b = b, a\nprint('a = ' + str(a))\nprint('b = ' + str(b))",
      "execution_count": 104,
      "outputs": [
        {
          "output_type": "stream",
          "text": "a = 2\nb = 1\n",
          "name": "stdout"
        }
      ]
    },
    {
      "metadata": {
        "ExecuteTime": {
          "start_time": "2020-02-08T20:10:55.666516Z",
          "end_time": "2020-02-08T20:10:55.963149Z"
        },
        "trusted": true
      },
      "cell_type": "code",
      "source": "x = ['ala','ma','kota']\na, b, c = x\nprint('a = ' + str(a))\nprint('b = ' + str(b))\nprint('c = ' + str(c))",
      "execution_count": 105,
      "outputs": [
        {
          "output_type": "stream",
          "text": "a = ala\nb = ma\nc = kota\n",
          "name": "stdout"
        }
      ]
    },
    {
      "metadata": {
        "ExecuteTime": {
          "start_time": "2020-02-08T20:10:55.968575Z",
          "end_time": "2020-02-08T20:10:56.224132Z"
        },
        "trusted": true
      },
      "cell_type": "code",
      "source": "def f(wa=1, wb=1):   \n    def g(a, b):\n        return a * wa + b * wb\n    return g\n\nf(1,3)",
      "execution_count": 106,
      "outputs": [
        {
          "output_type": "execute_result",
          "execution_count": 106,
          "data": {
            "text/plain": "<function __main__.f.<locals>.g>"
          },
          "metadata": {}
        }
      ]
    },
    {
      "metadata": {
        "ExecuteTime": {
          "start_time": "2020-02-08T20:10:56.243587Z",
          "end_time": "2020-02-08T20:10:56.434263Z"
        },
        "trusted": true
      },
      "cell_type": "code",
      "source": "wazona = f(0, 1)\nwazona(1,2)",
      "execution_count": 107,
      "outputs": [
        {
          "output_type": "execute_result",
          "execution_count": 107,
          "data": {
            "text/plain": "2"
          },
          "metadata": {}
        }
      ]
    },
    {
      "metadata": {
        "ExecuteTime": {
          "start_time": "2020-02-08T20:10:56.446405Z",
          "end_time": "2020-02-08T20:10:56.659583Z"
        },
        "trusted": true
      },
      "cell_type": "code",
      "source": "wazona(1, 3)",
      "execution_count": 108,
      "outputs": [
        {
          "output_type": "execute_result",
          "execution_count": 108,
          "data": {
            "text/plain": "3"
          },
          "metadata": {}
        }
      ]
    },
    {
      "metadata": {
        "ExecuteTime": {
          "start_time": "2020-02-08T20:10:56.676196Z",
          "end_time": "2020-02-08T20:10:56.868893Z"
        },
        "trusted": true
      },
      "cell_type": "code",
      "source": "arr = [-3, 2, 1, 4]\narr.sort()\narr",
      "execution_count": 109,
      "outputs": [
        {
          "output_type": "execute_result",
          "execution_count": 109,
          "data": {
            "text/plain": "[-3, 1, 2, 4]"
          },
          "metadata": {}
        }
      ]
    },
    {
      "metadata": {
        "ExecuteTime": {
          "start_time": "2020-02-08T20:10:56.880018Z",
          "end_time": "2020-02-08T20:10:57.05195Z"
        },
        "trusted": true
      },
      "cell_type": "code",
      "source": "arr.sort(reverse=True)\narr",
      "execution_count": 110,
      "outputs": [
        {
          "output_type": "execute_result",
          "execution_count": 110,
          "data": {
            "text/plain": "[4, 2, 1, -3]"
          },
          "metadata": {}
        }
      ]
    },
    {
      "metadata": {
        "ExecuteTime": {
          "start_time": "2020-02-08T20:10:57.064603Z",
          "end_time": "2020-02-08T20:10:57.26473Z"
        },
        "trusted": true
      },
      "cell_type": "code",
      "source": "def mykey(x):\n    return abs(x)\narr.sort(key=mykey)\narr",
      "execution_count": 111,
      "outputs": [
        {
          "output_type": "execute_result",
          "execution_count": 111,
          "data": {
            "text/plain": "[1, 2, -3, 4]"
          },
          "metadata": {}
        }
      ]
    },
    {
      "metadata": {
        "ExecuteTime": {
          "start_time": "2020-02-08T20:10:57.277926Z",
          "end_time": "2020-02-08T20:10:57.624487Z"
        },
        "trusted": true
      },
      "cell_type": "code",
      "source": "arr.sort(key=lambda x: abs(x))\narr",
      "execution_count": 112,
      "outputs": [
        {
          "output_type": "execute_result",
          "execution_count": 112,
          "data": {
            "text/plain": "[1, 2, -3, 4]"
          },
          "metadata": {}
        }
      ]
    },
    {
      "metadata": {
        "ExecuteTime": {
          "start_time": "2020-02-08T20:10:57.641043Z",
          "end_time": "2020-02-08T20:10:57.770178Z"
        },
        "trusted": true
      },
      "cell_type": "code",
      "source": "f = lambda a, b: a - b\nprint(f(1,2))",
      "execution_count": 113,
      "outputs": [
        {
          "output_type": "stream",
          "text": "-1\n",
          "name": "stdout"
        }
      ]
    },
    {
      "metadata": {
        "ExecuteTime": {
          "start_time": "2020-02-08T20:10:57.786215Z",
          "end_time": "2020-02-08T20:10:57.933704Z"
        },
        "trusted": true
      },
      "cell_type": "code",
      "source": "g = lambda a, b: a + b\nprint(g(1,2))",
      "execution_count": 114,
      "outputs": [
        {
          "output_type": "stream",
          "text": "3\n",
          "name": "stdout"
        }
      ]
    },
    {
      "metadata": {
        "ExecuteTime": {
          "start_time": "2020-02-08T20:10:57.953762Z",
          "end_time": "2020-02-08T20:10:58.360399Z"
        },
        "trusted": true
      },
      "cell_type": "code",
      "source": "f, g = g, f\nprint(f(1,2))\nprint(g(1,2))",
      "execution_count": 115,
      "outputs": [
        {
          "output_type": "stream",
          "text": "3\n-1\n",
          "name": "stdout"
        }
      ]
    },
    {
      "metadata": {},
      "cell_type": "markdown",
      "source": "# Various"
    },
    {
      "metadata": {},
      "cell_type": "markdown",
      "source": "## Complex numbers"
    },
    {
      "metadata": {
        "ExecuteTime": {
          "start_time": "2020-02-08T20:10:58.378674Z",
          "end_time": "2020-02-08T20:10:58.741176Z"
        },
        "trusted": true
      },
      "cell_type": "code",
      "source": "1+3j",
      "execution_count": 116,
      "outputs": [
        {
          "output_type": "execute_result",
          "execution_count": 116,
          "data": {
            "text/plain": "(1+3j)"
          },
          "metadata": {}
        }
      ]
    },
    {
      "metadata": {
        "ExecuteTime": {
          "start_time": "2020-02-08T20:10:58.747381Z",
          "end_time": "2020-02-08T20:10:58.983935Z"
        },
        "trusted": true
      },
      "cell_type": "code",
      "source": "abs(1+3j)",
      "execution_count": 117,
      "outputs": [
        {
          "output_type": "execute_result",
          "execution_count": 117,
          "data": {
            "text/plain": "3.1622776601683795"
          },
          "metadata": {}
        }
      ]
    },
    {
      "metadata": {
        "ExecuteTime": {
          "start_time": "2020-02-08T20:10:59.005713Z",
          "end_time": "2020-02-08T20:10:59.521132Z"
        },
        "trusted": true
      },
      "cell_type": "code",
      "source": "(1+3j)*(2-1j)",
      "execution_count": 118,
      "outputs": [
        {
          "output_type": "execute_result",
          "execution_count": 118,
          "data": {
            "text/plain": "(5+5j)"
          },
          "metadata": {}
        }
      ]
    },
    {
      "metadata": {},
      "cell_type": "markdown",
      "source": "## Generators (yield)"
    },
    {
      "metadata": {
        "ExecuteTime": {
          "start_time": "2020-02-08T20:10:59.538114Z",
          "end_time": "2020-02-08T20:10:59.913449Z"
        },
        "trusted": true
      },
      "cell_type": "code",
      "source": "def whatdoido():\n    a, b = 0, 1\n    while True:\n        yield a\n        a, b = b, a + b\n        \nprint(whatdoido())",
      "execution_count": 119,
      "outputs": [
        {
          "output_type": "stream",
          "text": "<generator object whatdoido at 0x7efc7ed1dca8>\n",
          "name": "stdout"
        }
      ]
    },
    {
      "metadata": {
        "ExecuteTime": {
          "start_time": "2020-02-08T20:10:59.927512Z",
          "end_time": "2020-02-08T20:11:00.060229Z"
        },
        "trusted": true
      },
      "cell_type": "code",
      "source": "g = whatdoido()\nprint(next(g))",
      "execution_count": 120,
      "outputs": [
        {
          "output_type": "stream",
          "text": "0\n",
          "name": "stdout"
        }
      ]
    },
    {
      "metadata": {
        "ExecuteTime": {
          "start_time": "2020-02-08T20:11:00.086024Z",
          "end_time": "2020-02-08T20:11:00.251253Z"
        },
        "trusted": true
      },
      "cell_type": "code",
      "source": "print(next(g))\nprint(next(g))\nprint(next(g))",
      "execution_count": 121,
      "outputs": [
        {
          "output_type": "stream",
          "text": "1\n1\n2\n",
          "name": "stdout"
        }
      ]
    },
    {
      "metadata": {
        "ExecuteTime": {
          "start_time": "2020-02-08T20:11:00.255486Z",
          "end_time": "2020-02-08T20:11:00.41138Z"
        },
        "trusted": true
      },
      "cell_type": "code",
      "source": "for i in range(10):\n    print(next(g))",
      "execution_count": 122,
      "outputs": [
        {
          "output_type": "stream",
          "text": "3\n5\n8\n13\n21\n34\n55\n89\n144\n233\n",
          "name": "stdout"
        }
      ]
    },
    {
      "metadata": {
        "ExecuteTime": {
          "start_time": "2020-02-08T20:11:00.441578Z",
          "end_time": "2020-02-08T20:11:00.611769Z"
        },
        "trusted": true
      },
      "cell_type": "code",
      "source": "for v in whatdoido():\n    if v > 100:\n        break\n    print(v)",
      "execution_count": 123,
      "outputs": [
        {
          "output_type": "stream",
          "text": "0\n1\n1\n2\n3\n5\n8\n13\n21\n34\n55\n89\n",
          "name": "stdout"
        }
      ]
    },
    {
      "metadata": {
        "ExecuteTime": {
          "start_time": "2020-02-08T20:11:00.621011Z",
          "end_time": "2020-02-08T20:11:00.873354Z"
        },
        "trusted": true
      },
      "cell_type": "code",
      "source": "def combinations(iterable, r):\n    # combinations('ABCD', 2) --> AB AC AD BC BD CD\n    # combinations(range(4), 3) --> 012 013 023 123\n    pool = tuple(iterable)\n    n = len(pool)\n    if r > n:\n        return\n    indices = list(range(r))\n    yield tuple(pool[i] for i in indices)\n    while True:\n        for i in reversed(range(r)):\n            if indices[i] != i + n - r:\n                break\n        else:\n            return\n        indices[i] += 1\n        for j in range(i+1, r):\n            indices[j] = indices[j-1] + 1\n        yield tuple(pool[i] for i in indices)\n        \npairs = combinations('ABCD', 2)\nprint(pairs)\nfor pair in pairs:\n    print(pair)",
      "execution_count": 124,
      "outputs": [
        {
          "output_type": "stream",
          "text": "<generator object combinations at 0x7efc7ed5b7d8>\n('A', 'B')\n('A', 'C')\n('A', 'D')\n('B', 'C')\n('B', 'D')\n('C', 'D')\n",
          "name": "stdout"
        }
      ]
    },
    {
      "metadata": {
        "ExecuteTime": {
          "start_time": "2020-02-08T20:11:00.886417Z",
          "end_time": "2020-02-08T20:11:01.352663Z"
        },
        "trusted": true
      },
      "cell_type": "code",
      "source": "# Pierwsze trzy pary, które mają A i G w środku\npairs = combinations('ABCDEFGH', 3)\nfound = 0\nfor pair in pairs:\n    if 'A' in pair and 'G' in pair and found < 3:\n        found += 1\n        print(pair)",
      "execution_count": 125,
      "outputs": [
        {
          "output_type": "stream",
          "text": "('A', 'B', 'G')\n('A', 'C', 'G')\n('A', 'D', 'G')\n",
          "name": "stdout"
        }
      ]
    },
    {
      "metadata": {},
      "cell_type": "markdown",
      "source": "## Build-in functions"
    },
    {
      "metadata": {
        "ExecuteTime": {
          "start_time": "2020-02-08T20:11:01.371087Z",
          "end_time": "2020-02-08T20:11:01.675068Z"
        },
        "trusted": true
      },
      "cell_type": "code",
      "source": "x=1\neval('max([x,2,-2,3])')",
      "execution_count": 126,
      "outputs": [
        {
          "output_type": "execute_result",
          "execution_count": 126,
          "data": {
            "text/plain": "3"
          },
          "metadata": {}
        }
      ]
    },
    {
      "metadata": {
        "ExecuteTime": {
          "start_time": "2020-02-08T20:11:01.681416Z",
          "end_time": "2020-02-08T20:11:02.074665Z"
        },
        "trusted": true
      },
      "cell_type": "code",
      "source": "exec('import math; print(math.sin(2*math.pi))')",
      "execution_count": 127,
      "outputs": [
        {
          "output_type": "stream",
          "text": "-2.4492935982947064e-16\n",
          "name": "stdout"
        }
      ]
    },
    {
      "metadata": {
        "ExecuteTime": {
          "start_time": "2020-02-08T20:11:02.093442Z",
          "end_time": "2020-02-08T20:11:02.348142Z"
        },
        "trusted": true
      },
      "cell_type": "code",
      "source": "print(all([True, False, True]))\nprint(any([True, False, True]))",
      "execution_count": 128,
      "outputs": [
        {
          "output_type": "stream",
          "text": "False\nTrue\n",
          "name": "stdout"
        }
      ]
    },
    {
      "metadata": {
        "ExecuteTime": {
          "start_time": "2020-02-08T20:11:02.350037Z",
          "end_time": "2020-02-08T20:11:02.50791Z"
        },
        "trusted": true
      },
      "cell_type": "code",
      "source": "print(sum([1,2,3]))\nprint(min([1,2,3]))\nprint(max([1,2,3]))",
      "execution_count": 129,
      "outputs": [
        {
          "output_type": "stream",
          "text": "6\n1\n3\n",
          "name": "stdout"
        }
      ]
    },
    {
      "metadata": {
        "ExecuteTime": {
          "start_time": "2020-02-08T20:11:02.521324Z",
          "end_time": "2020-02-08T20:11:02.768938Z"
        },
        "trusted": true
      },
      "cell_type": "code",
      "source": "print(abs(-12))\nprint(round(3.14159, 3))",
      "execution_count": 130,
      "outputs": [
        {
          "output_type": "stream",
          "text": "12\n3.142\n",
          "name": "stdout"
        }
      ]
    },
    {
      "metadata": {
        "ExecuteTime": {
          "start_time": "2020-02-08T20:11:02.787496Z",
          "end_time": "2020-02-08T20:11:02.924135Z"
        },
        "trusted": true
      },
      "cell_type": "code",
      "source": "print(float(12))\nprint(int(12.7))",
      "execution_count": 131,
      "outputs": [
        {
          "output_type": "stream",
          "text": "12.0\n12\n",
          "name": "stdout"
        }
      ]
    },
    {
      "metadata": {
        "ExecuteTime": {
          "start_time": "2020-02-08T20:11:02.933397Z",
          "end_time": "2020-02-08T20:11:03.114062Z"
        },
        "trusted": true
      },
      "cell_type": "code",
      "source": "print(str(123))\nprint(str([1,2,3]))",
      "execution_count": 132,
      "outputs": [
        {
          "output_type": "stream",
          "text": "123\n[1, 2, 3]\n",
          "name": "stdout"
        }
      ]
    },
    {
      "metadata": {
        "ExecuteTime": {
          "start_time": "2020-02-08T20:11:03.136326Z",
          "end_time": "2020-02-08T20:11:03.38416Z"
        },
        "trusted": true
      },
      "cell_type": "code",
      "source": "print(ord('a'))\nprint(chr(98))",
      "execution_count": 133,
      "outputs": [
        {
          "output_type": "stream",
          "text": "97\nb\n",
          "name": "stdout"
        }
      ]
    },
    {
      "metadata": {
        "ExecuteTime": {
          "start_time": "2020-02-08T20:11:03.398741Z",
          "end_time": "2020-02-08T20:11:03.724999Z"
        },
        "trusted": true
      },
      "cell_type": "code",
      "source": "print(type('ala ma kota'))\nprint(type([1,2,3]))",
      "execution_count": 134,
      "outputs": [
        {
          "output_type": "stream",
          "text": "<class 'str'>\n<class 'list'>\n",
          "name": "stdout"
        }
      ]
    },
    {
      "metadata": {},
      "cell_type": "markdown",
      "source": "## Global"
    },
    {
      "metadata": {
        "ExecuteTime": {
          "start_time": "2020-02-08T20:11:03.731709Z",
          "end_time": "2020-02-08T20:11:03.90903Z"
        },
        "trusted": true
      },
      "cell_type": "code",
      "source": "text = 'ala ma kota'\n\ndef a():\n    print('a: ' + text) \ndef b():\n    print('b: '  + text)\n    text = 'ala ma psa'    ",
      "execution_count": 135,
      "outputs": []
    },
    {
      "metadata": {
        "ExecuteTime": {
          "start_time": "2020-02-08T20:11:03.923986Z",
          "end_time": "2020-02-08T20:11:04.023744Z"
        },
        "trusted": true
      },
      "cell_type": "code",
      "source": "a()",
      "execution_count": 136,
      "outputs": [
        {
          "output_type": "stream",
          "text": "a: ala ma kota\n",
          "name": "stdout"
        }
      ]
    },
    {
      "metadata": {
        "ExecuteTime": {
          "start_time": "2020-02-08T20:11:04.031142Z",
          "end_time": "2020-02-08T20:11:04.662202Z"
        },
        "trusted": true
      },
      "cell_type": "code",
      "source": "try:\n    b()\nexcept:\n    import traceback\n    print(traceback.format_exc())",
      "execution_count": 137,
      "outputs": [
        {
          "output_type": "stream",
          "text": "Traceback (most recent call last):\n  File \"<ipython-input-137-84aab3e3f319>\", line 2, in <module>\n    b()\n  File \"<ipython-input-135-39e82c4eb044>\", line 6, in b\n    print('b: '  + text)\nUnboundLocalError: local variable 'text' referenced before assignment\n\n",
          "name": "stdout"
        }
      ]
    },
    {
      "metadata": {
        "ExecuteTime": {
          "start_time": "2020-02-08T20:11:04.681271Z",
          "end_time": "2020-02-08T20:11:04.730779Z"
        },
        "trusted": true
      },
      "cell_type": "code",
      "source": "text = 'ala ma kota'\ndef c():\n    global text\n    print('c: '  + text)\n    text = 'ala ma psa'\nc()",
      "execution_count": 138,
      "outputs": [
        {
          "output_type": "stream",
          "text": "c: ala ma kota\n",
          "name": "stdout"
        }
      ]
    },
    {
      "metadata": {},
      "cell_type": "markdown",
      "source": "# Comprehensions"
    },
    {
      "metadata": {},
      "cell_type": "markdown",
      "source": "## Lists"
    },
    {
      "metadata": {
        "ExecuteTime": {
          "start_time": "2020-02-08T20:11:04.747641Z",
          "end_time": "2020-02-08T20:11:05.009584Z"
        },
        "trusted": true
      },
      "cell_type": "code",
      "source": "arr = [0,1,2,3,4,5]\nnew = []\nfor a in arr:\n    new.append('A' + str(a))\nnew",
      "execution_count": 139,
      "outputs": [
        {
          "output_type": "execute_result",
          "execution_count": 139,
          "data": {
            "text/plain": "['A0', 'A1', 'A2', 'A3', 'A4', 'A5']"
          },
          "metadata": {}
        }
      ]
    },
    {
      "metadata": {
        "ExecuteTime": {
          "start_time": "2020-02-08T20:11:05.01695Z",
          "end_time": "2020-02-08T20:11:05.210205Z"
        },
        "trusted": true
      },
      "cell_type": "code",
      "source": "arr = [0,1,2,3,4,5]\nnew = ['A' + str(a) for a in arr]\nnew",
      "execution_count": 140,
      "outputs": [
        {
          "output_type": "execute_result",
          "execution_count": 140,
          "data": {
            "text/plain": "['A0', 'A1', 'A2', 'A3', 'A4', 'A5']"
          },
          "metadata": {}
        }
      ]
    },
    {
      "metadata": {
        "ExecuteTime": {
          "start_time": "2020-02-08T20:11:05.225941Z",
          "end_time": "2020-02-08T20:11:05.537865Z"
        },
        "trusted": true
      },
      "cell_type": "code",
      "source": "arr = [0,1,2,3,4,5]\nnew = ['A' + str(a) for a in arr if a % 2 == 0]\nnew",
      "execution_count": 141,
      "outputs": [
        {
          "output_type": "execute_result",
          "execution_count": 141,
          "data": {
            "text/plain": "['A0', 'A2', 'A4']"
          },
          "metadata": {}
        }
      ]
    },
    {
      "metadata": {
        "ExecuteTime": {
          "start_time": "2020-02-08T20:11:05.551798Z",
          "end_time": "2020-02-08T20:11:05.950332Z"
        },
        "trusted": true
      },
      "cell_type": "code",
      "source": "arr = [0,13,2,4,11]\nsum([1 for a in arr if a % 2 == 0])",
      "execution_count": 142,
      "outputs": [
        {
          "output_type": "execute_result",
          "execution_count": 142,
          "data": {
            "text/plain": "3"
          },
          "metadata": {}
        }
      ]
    },
    {
      "metadata": {
        "ExecuteTime": {
          "start_time": "2020-02-08T20:11:05.970975Z",
          "end_time": "2020-02-08T20:11:06.224784Z"
        },
        "trusted": true
      },
      "cell_type": "code",
      "source": "# Chcemy wszystkie pierwsze litery wyrazów zamienić na wielkie\ntext = 'to jest krótki text nie na temat'\nsplitted = text.split()\nsplitted",
      "execution_count": 143,
      "outputs": [
        {
          "output_type": "execute_result",
          "execution_count": 143,
          "data": {
            "text/plain": "['to', 'jest', 'krótki', 'text', 'nie', 'na', 'temat']"
          },
          "metadata": {}
        }
      ]
    },
    {
      "metadata": {
        "ExecuteTime": {
          "start_time": "2020-02-08T20:11:06.233588Z",
          "end_time": "2020-02-08T20:11:06.484806Z"
        },
        "trusted": true
      },
      "cell_type": "code",
      "source": "big = [x[0].upper() + x[1:] for x in splitted]\nbig",
      "execution_count": 144,
      "outputs": [
        {
          "output_type": "execute_result",
          "execution_count": 144,
          "data": {
            "text/plain": "['To', 'Jest', 'Krótki', 'Text', 'Nie', 'Na', 'Temat']"
          },
          "metadata": {}
        }
      ]
    },
    {
      "metadata": {
        "ExecuteTime": {
          "start_time": "2020-02-08T20:11:06.501815Z",
          "end_time": "2020-02-08T20:11:06.789262Z"
        },
        "trusted": true
      },
      "cell_type": "code",
      "source": "\" \".join(big)",
      "execution_count": 145,
      "outputs": [
        {
          "output_type": "execute_result",
          "execution_count": 145,
          "data": {
            "text/plain": "'To Jest Krótki Text Nie Na Temat'"
          },
          "metadata": {}
        }
      ]
    },
    {
      "metadata": {
        "ExecuteTime": {
          "start_time": "2020-02-08T20:11:06.804358Z",
          "end_time": "2020-02-08T20:11:06.961242Z"
        },
        "trusted": true
      },
      "cell_type": "code",
      "source": "text = 'to jest krótki text nie na temat'\nprint(\" \".join([x[0].upper() + x[1:] for x in text.split()]))",
      "execution_count": 146,
      "outputs": [
        {
          "output_type": "stream",
          "text": "To Jest Krótki Text Nie Na Temat\n",
          "name": "stdout"
        }
      ]
    },
    {
      "metadata": {},
      "cell_type": "markdown",
      "source": "## Dictionaries"
    },
    {
      "metadata": {
        "ExecuteTime": {
          "start_time": "2020-02-08T20:11:06.976979Z",
          "end_time": "2020-02-08T20:11:07.292851Z"
        },
        "trusted": true
      },
      "cell_type": "code",
      "source": "przedmioty = ('matematyka', 'fizyka', 'chemia')\nslownik = {p: len(p) for p in przedmioty}\nslownik",
      "execution_count": 147,
      "outputs": [
        {
          "output_type": "execute_result",
          "execution_count": 147,
          "data": {
            "text/plain": "{'chemia': 6, 'fizyka': 6, 'matematyka': 10}"
          },
          "metadata": {}
        }
      ]
    },
    {
      "metadata": {},
      "cell_type": "markdown",
      "source": "# Classes"
    },
    {
      "metadata": {
        "ExecuteTime": {
          "start_time": "2020-02-08T20:11:07.308519Z",
          "end_time": "2020-02-08T20:11:07.5194Z"
        },
        "trusted": true
      },
      "cell_type": "code",
      "source": "class Circle:\n    def __init__(self, radius):\n        self.radius = radius    \n        \n    def area(self):\n        from math import pi\n        return pi * self.radius**2\n    \n    def set_radius(self, radius):\n        self.radius = radius    \n        \nc = Circle(3)\nprint(c.area())\nc.set_radius(5)     ",
      "execution_count": 148,
      "outputs": [
        {
          "output_type": "stream",
          "text": "28.274333882308138\n",
          "name": "stdout"
        }
      ]
    },
    {
      "metadata": {
        "ExecuteTime": {
          "start_time": "2020-02-08T20:11:07.531685Z",
          "end_time": "2020-02-08T20:11:07.75484Z"
        },
        "trusted": true
      },
      "cell_type": "code",
      "source": "print(c.radius)",
      "execution_count": 149,
      "outputs": [
        {
          "output_type": "stream",
          "text": "5\n",
          "name": "stdout"
        }
      ]
    },
    {
      "metadata": {
        "ExecuteTime": {
          "start_time": "2020-02-08T20:11:07.776341Z",
          "end_time": "2020-02-08T20:11:08.093041Z"
        },
        "trusted": true
      },
      "cell_type": "code",
      "source": "class Container:\n    pass\n\nc = Container()\nc.size = 12\nc.value = 10000\n\ndef compute(container):\n    return container.size ** 2\n\ncompute(c)",
      "execution_count": 150,
      "outputs": [
        {
          "output_type": "execute_result",
          "execution_count": 150,
          "data": {
            "text/plain": "144"
          },
          "metadata": {}
        }
      ]
    },
    {
      "metadata": {
        "ExecuteTime": {
          "start_time": "2020-02-08T20:11:08.100194Z",
          "end_time": "2020-02-08T20:11:08.406747Z"
        },
        "trusted": true
      },
      "cell_type": "code",
      "source": "class Przedmiot:\n    acoto = 12\n    def __init__(self, nazwa):\n        self.nazwa = nazwa\n        \np = Przedmiot('kck')\np.nazwa",
      "execution_count": 151,
      "outputs": [
        {
          "output_type": "execute_result",
          "execution_count": 151,
          "data": {
            "text/plain": "'kck'"
          },
          "metadata": {}
        }
      ]
    },
    {
      "metadata": {
        "ExecuteTime": {
          "start_time": "2020-02-08T20:11:08.427126Z",
          "end_time": "2020-02-08T20:11:08.455839Z"
        },
        "trusted": true
      },
      "cell_type": "code",
      "source": "print(p.acoto)\nprint(Przedmiot.acoto)",
      "execution_count": 152,
      "outputs": [
        {
          "output_type": "stream",
          "text": "12\n12\n",
          "name": "stdout"
        }
      ]
    },
    {
      "metadata": {
        "ExecuteTime": {
          "start_time": "2020-02-08T20:11:08.478608Z",
          "end_time": "2020-02-08T20:11:08.716824Z"
        },
        "trusted": true
      },
      "cell_type": "code",
      "source": "print(p)",
      "execution_count": 153,
      "outputs": [
        {
          "output_type": "stream",
          "text": "<__main__.Przedmiot object at 0x7efc7ed2e438>\n",
          "name": "stdout"
        }
      ]
    },
    {
      "metadata": {
        "ExecuteTime": {
          "start_time": "2020-02-08T20:11:08.726774Z",
          "end_time": "2020-02-08T20:11:09.022762Z"
        },
        "trusted": true
      },
      "cell_type": "code",
      "source": "class Przedmiot:    \n    def __init__(self, nazwa):\n        self.nazwa = nazwa\n        \n    def __repr__(self):\n        return 'Przedmiot o nazwie ' + self.nazwa\n    \np = Przedmiot('KCK')\nprint(p)",
      "execution_count": 154,
      "outputs": [
        {
          "output_type": "stream",
          "text": "Przedmiot o nazwie KCK\n",
          "name": "stdout"
        }
      ]
    },
    {
      "metadata": {},
      "cell_type": "markdown",
      "source": "## Duck typing"
    },
    {
      "metadata": {
        "ExecuteTime": {
          "start_time": "2020-02-08T20:11:09.043421Z",
          "end_time": "2020-02-08T20:11:09.262627Z"
        },
        "trusted": true
      },
      "cell_type": "code",
      "source": "class Circle:\n    def __init__(self, radius):\n        self.radius = radius            \n    def area(self):\n        from math import pi\n        return pi * self.radius**2\n\nclass Square:\n    def __init__(self, w):\n        self.w = w\n    def area(self):\n        return self.w**2\n    \ndef get_shape():\n    from random import choice\n    return choice([Square(4), Circle(4)])\n    \nshape = get_shape()\nshape.area()",
      "execution_count": 155,
      "outputs": [
        {
          "output_type": "execute_result",
          "execution_count": 155,
          "data": {
            "text/plain": "16"
          },
          "metadata": {}
        }
      ]
    },
    {
      "metadata": {},
      "cell_type": "markdown",
      "source": "# Files"
    },
    {
      "metadata": {
        "ExecuteTime": {
          "start_time": "2020-02-08T20:11:09.270181Z",
          "end_time": "2020-02-08T20:11:09.715773Z"
        },
        "trusted": true
      },
      "cell_type": "code",
      "source": "f = open('test.txt','w')\nfor i in range(6):\n    f.write('To jest linia {}\\n'.format(i))\nf.close()",
      "execution_count": 156,
      "outputs": []
    },
    {
      "metadata": {
        "ExecuteTime": {
          "start_time": "2020-02-08T20:11:09.738845Z",
          "end_time": "2020-02-08T20:11:14.512362Z"
        },
        "trusted": true
      },
      "cell_type": "code",
      "source": "cat test.txt",
      "execution_count": 157,
      "outputs": [
        {
          "output_type": "stream",
          "text": "To jest linia 0\r\nTo jest linia 1\r\nTo jest linia 2\r\nTo jest linia 3\r\nTo jest linia 4\r\nTo jest linia 5\r\n",
          "name": "stdout"
        }
      ]
    },
    {
      "metadata": {
        "ExecuteTime": {
          "start_time": "2020-02-08T20:11:14.549424Z",
          "end_time": "2020-02-08T20:11:14.691418Z"
        },
        "trusted": true
      },
      "cell_type": "code",
      "source": "f = open('test.txt')\nfor line in f:\n    print(line, end='')\nf.close()",
      "execution_count": 158,
      "outputs": [
        {
          "output_type": "stream",
          "text": "To jest linia 0\nTo jest linia 1\nTo jest linia 2\nTo jest linia 3\nTo jest linia 4\nTo jest linia 5\n",
          "name": "stdout"
        }
      ]
    },
    {
      "metadata": {
        "ExecuteTime": {
          "start_time": "2020-02-08T20:11:14.71333Z",
          "end_time": "2020-02-08T20:11:15.053853Z"
        },
        "trusted": true
      },
      "cell_type": "code",
      "source": "with open('test.txt') as f:\n    for line in f:\n        print(line, end='')",
      "execution_count": 159,
      "outputs": [
        {
          "output_type": "stream",
          "text": "To jest linia 0\nTo jest linia 1\nTo jest linia 2\nTo jest linia 3\nTo jest linia 4\nTo jest linia 5\n",
          "name": "stdout"
        }
      ]
    },
    {
      "metadata": {
        "ExecuteTime": {
          "start_time": "2020-02-08T20:11:15.06196Z",
          "end_time": "2020-02-08T20:11:15.582051Z"
        },
        "trusted": true
      },
      "cell_type": "code",
      "source": "with open('test.txt') as f:\n    lines = f.readlines()\nlines[1]",
      "execution_count": 160,
      "outputs": [
        {
          "output_type": "execute_result",
          "execution_count": 160,
          "data": {
            "text/plain": "'To jest linia 1\\n'"
          },
          "metadata": {}
        }
      ]
    }
  ],
  "metadata": {
    "kernelspec": {
      "name": "python3",
      "display_name": "Python 3",
      "language": "python"
    },
    "language_info": {
      "mimetype": "text/x-python",
      "nbconvert_exporter": "python",
      "name": "python",
      "pygments_lexer": "ipython3",
      "version": "3.5.4",
      "file_extension": ".py",
      "codemirror_mode": {
        "version": 3,
        "name": "ipython"
      }
    }
  },
  "nbformat": 4,
  "nbformat_minor": 1
}