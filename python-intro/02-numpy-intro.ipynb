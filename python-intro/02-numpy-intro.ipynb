{
  "cells": [
    {
      "metadata": {
        "ExecuteTime": {
          "start_time": "2019-12-01T00:00:30.486765Z",
          "end_time": "2019-12-01T00:00:43.347259Z"
        },
        "trusted": true
      },
      "cell_type": "code",
      "source": "import subprocess\nimport sys\nreqs = subprocess.check_output([sys.executable, '-m', 'pip', 'freeze'])\ninstalled_packages = [r.decode().split('==')[0] for r in reqs.split()]\n\nimport sys",
      "execution_count": 7,
      "outputs": []
    },
    {
      "metadata": {
        "ExecuteTime": {
          "start_time": "2019-12-01T00:00:43.374466Z",
          "end_time": "2019-12-01T00:00:43.395785Z"
        },
        "trusted": true
      },
      "cell_type": "code",
      "source": "from IPython.core.interactiveshell import InteractiveShell\nInteractiveShell.ast_node_interactivity = \"all\"",
      "execution_count": 8,
      "outputs": []
    },
    {
      "metadata": {
        "ExecuteTime": {
          "start_time": "2019-12-01T00:00:43.412486Z",
          "end_time": "2019-12-01T00:00:43.617751Z"
        },
        "trusted": true
      },
      "cell_type": "code",
      "source": "#  numpy\nif  not 'numpy' in installed_packages:\n  !pip install numpy",
      "execution_count": 9,
      "outputs": []
    },
    {
      "metadata": {
        "ExecuteTime": {
          "start_time": "2019-12-01T00:00:43.637552Z",
          "end_time": "2019-12-01T00:00:43.837698Z"
        },
        "trusted": true
      },
      "cell_type": "code",
      "source": "import numpy as np\n\nprint(\"Numpy version: \",np.__version__)",
      "execution_count": 10,
      "outputs": [
        {
          "output_type": "stream",
          "text": "Numpy version:  1.16.2\n",
          "name": "stdout"
        }
      ]
    },
    {
      "metadata": {
        "ExecuteTime": {
          "start_time": "2019-12-01T00:09:30.21345Z",
          "end_time": "2019-12-01T00:09:30.315662Z"
        },
        "trusted": true
      },
      "cell_type": "code",
      "source": "L = np.random.random(100)\nsum(L)",
      "execution_count": 11,
      "outputs": [
        {
          "output_type": "execute_result",
          "execution_count": 11,
          "data": {
            "text/plain": "53.486706451024546"
          },
          "metadata": {}
        }
      ]
    },
    {
      "metadata": {
        "ExecuteTime": {
          "start_time": "2019-12-01T00:09:55.694183Z",
          "end_time": "2019-12-01T00:09:55.745048Z"
        },
        "trusted": true
      },
      "cell_type": "code",
      "source": "np.sum(L)",
      "execution_count": 12,
      "outputs": [
        {
          "output_type": "execute_result",
          "execution_count": 12,
          "data": {
            "text/plain": "53.48670645102455"
          },
          "metadata": {}
        }
      ]
    },
    {
      "metadata": {
        "ExecuteTime": {
          "start_time": "2019-12-01T00:10:18.354841Z",
          "end_time": "2019-12-01T00:10:26.647797Z"
        },
        "trusted": true
      },
      "cell_type": "code",
      "source": "big_array = np.random.rand(1000000)\n%timeit sum(big_array)\n%timeit np.sum(big_array)",
      "execution_count": 13,
      "outputs": [
        {
          "output_type": "stream",
          "text": "670 ms ± 9.98 ms per loop (mean ± std. dev. of 7 runs, 1 loop each)\n3.38 ms ± 270 µs per loop (mean ± std. dev. of 7 runs, 100 loops each)\n",
          "name": "stdout"
        }
      ]
    },
    {
      "metadata": {
        "trusted": true
      },
      "cell_type": "code",
      "source": "",
      "execution_count": null,
      "outputs": []
    }
  ],
  "metadata": {
    "kernelspec": {
      "name": "python36",
      "display_name": "Python 3.6",
      "language": "python"
    },
    "language_info": {
      "mimetype": "text/x-python",
      "nbconvert_exporter": "python",
      "name": "python",
      "pygments_lexer": "ipython3",
      "version": "3.6.6",
      "file_extension": ".py",
      "codemirror_mode": {
        "version": 3,
        "name": "ipython"
      }
    }
  },
  "nbformat": 4,
  "nbformat_minor": 2
}