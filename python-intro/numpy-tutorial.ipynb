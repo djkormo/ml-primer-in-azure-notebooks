{
  "cells": [
    {
      "metadata": {
        "ExecuteTime": {
          "start_time": "2020-02-08T21:35:03.386358Z",
          "end_time": "2020-02-08T21:35:14.393476Z"
        },
        "trusted": true
      },
      "cell_type": "code",
      "source": "import subprocess\nimport sys\nreqs = subprocess.check_output([sys.executable, '-m', 'pip', 'freeze'])\ninstalled_packages = [r.decode().split('==')[0] for r in reqs.split()]",
      "execution_count": 1,
      "outputs": []
    },
    {
      "metadata": {
        "ExecuteTime": {
          "start_time": "2020-02-08T21:35:14.410159Z",
          "end_time": "2020-02-08T21:35:14.430135Z"
        },
        "trusted": true
      },
      "cell_type": "code",
      "source": "from IPython.core.interactiveshell import InteractiveShell\nInteractiveShell.ast_node_interactivity = \"all\"",
      "execution_count": 2,
      "outputs": []
    },
    {
      "metadata": {
        "ExecuteTime": {
          "start_time": "2020-02-08T21:35:14.440283Z",
          "end_time": "2020-02-08T21:35:15.050271Z"
        },
        "trusted": true
      },
      "cell_type": "code",
      "source": "#  numpy\nif  not 'numpy' in installed_packages:\n  !pip install numpy",
      "execution_count": 3,
      "outputs": []
    },
    {
      "metadata": {
        "ExecuteTime": {
          "start_time": "2020-02-08T21:35:15.076138Z",
          "end_time": "2020-02-08T21:35:18.314299Z"
        },
        "trusted": true
      },
      "cell_type": "code",
      "source": "import numpy as np\n\nprint(\"Numpy version: \",np.__version__)",
      "execution_count": 4,
      "outputs": [
        {
          "output_type": "stream",
          "text": "Numpy version:  1.17.3\n",
          "name": "stdout"
        }
      ]
    },
    {
      "metadata": {
        "ExecuteTime": {
          "start_time": "2020-02-08T21:35:18.335877Z",
          "end_time": "2020-02-08T21:35:18.40965Z"
        },
        "trusted": true
      },
      "cell_type": "code",
      "source": "import numpy as np\n\nx = [1, 2, 3, 4, 5, 6 ]\nv = np.array(x)\nprint(v)",
      "execution_count": 5,
      "outputs": [
        {
          "output_type": "stream",
          "text": "[1 2 3 4 5 6]\n",
          "name": "stdout"
        }
      ]
    },
    {
      "metadata": {
        "ExecuteTime": {
          "start_time": "2020-02-08T21:35:18.422183Z",
          "end_time": "2020-02-08T21:35:18.716581Z"
        },
        "trusted": true
      },
      "cell_type": "code",
      "source": "M = np.array([[1,2], [3,4]])\nprint(M)",
      "execution_count": 6,
      "outputs": [
        {
          "output_type": "stream",
          "text": "[[1 2]\n [3 4]]\n",
          "name": "stdout"
        }
      ]
    },
    {
      "metadata": {
        "ExecuteTime": {
          "start_time": "2020-02-08T21:35:18.727476Z",
          "end_time": "2020-02-08T21:35:19.300052Z"
        },
        "trusted": true
      },
      "cell_type": "code",
      "source": "type(v), type(M)",
      "execution_count": 7,
      "outputs": [
        {
          "output_type": "execute_result",
          "execution_count": 7,
          "data": {
            "text/plain": "(numpy.ndarray, numpy.ndarray)"
          },
          "metadata": {}
        }
      ]
    },
    {
      "metadata": {
        "ExecuteTime": {
          "start_time": "2020-02-08T21:35:19.306388Z",
          "end_time": "2020-02-08T21:35:19.510537Z"
        },
        "trusted": true
      },
      "cell_type": "code",
      "source": "print(v.shape)",
      "execution_count": 8,
      "outputs": [
        {
          "output_type": "stream",
          "text": "(6,)\n",
          "name": "stdout"
        }
      ]
    },
    {
      "metadata": {
        "ExecuteTime": {
          "start_time": "2020-02-08T21:35:19.524947Z",
          "end_time": "2020-02-08T21:35:19.715673Z"
        },
        "trusted": true
      },
      "cell_type": "code",
      "source": "print(M.shape)",
      "execution_count": 9,
      "outputs": [
        {
          "output_type": "stream",
          "text": "(2, 2)\n",
          "name": "stdout"
        }
      ]
    },
    {
      "metadata": {
        "ExecuteTime": {
          "start_time": "2020-02-08T21:35:19.734968Z",
          "end_time": "2020-02-08T21:35:20.481687Z"
        },
        "trusted": true
      },
      "cell_type": "code",
      "source": "print(\"v.size = \",v.size)\nprint(\"M.size = \",M.size)",
      "execution_count": 10,
      "outputs": [
        {
          "output_type": "stream",
          "text": "v.size =  6\nM.size =  4\n",
          "name": "stdout"
        }
      ]
    },
    {
      "metadata": {
        "ExecuteTime": {
          "start_time": "2020-02-08T21:35:20.494051Z",
          "end_time": "2020-02-08T21:35:20.953192Z"
        },
        "trusted": true
      },
      "cell_type": "code",
      "source": "print(\"v.dtype \",v.dtype)\nprint(\"M.dtype \",M.dtype)",
      "execution_count": 11,
      "outputs": [
        {
          "output_type": "stream",
          "text": "v.dtype  int64\nM.dtype  int64\n",
          "name": "stdout"
        }
      ]
    },
    {
      "metadata": {
        "ExecuteTime": {
          "start_time": "2020-02-08T21:35:20.970131Z",
          "end_time": "2020-02-08T21:35:21.270552Z"
        },
        "trusted": true
      },
      "cell_type": "code",
      "source": "np.random.rand(5,3)",
      "execution_count": 12,
      "outputs": [
        {
          "output_type": "execute_result",
          "execution_count": 12,
          "data": {
            "text/plain": "array([[0.97753334, 0.83618427, 0.13213999],\n       [0.31541191, 0.77015013, 0.90596881],\n       [0.05881015, 0.71513708, 0.84145011],\n       [0.96653363, 0.22868327, 0.74169601],\n       [0.40267661, 0.76883175, 0.17051181]])"
          },
          "metadata": {}
        }
      ]
    },
    {
      "metadata": {
        "ExecuteTime": {
          "start_time": "2020-02-08T21:35:21.272212Z",
          "end_time": "2020-02-08T21:35:21.795472Z"
        },
        "trusted": true
      },
      "cell_type": "code",
      "source": "np.zeros([5,3])",
      "execution_count": 13,
      "outputs": [
        {
          "output_type": "execute_result",
          "execution_count": 13,
          "data": {
            "text/plain": "array([[0., 0., 0.],\n       [0., 0., 0.],\n       [0., 0., 0.],\n       [0., 0., 0.],\n       [0., 0., 0.]])"
          },
          "metadata": {}
        }
      ]
    },
    {
      "metadata": {
        "ExecuteTime": {
          "start_time": "2020-02-08T21:35:21.8256Z",
          "end_time": "2020-02-08T21:35:22.243173Z"
        },
        "trusted": true
      },
      "cell_type": "code",
      "source": "M = np.array([[1,2,3], [4,5,6]])\nN = np.array([[1,1,1], [2,2,2]])\nprint(N)\nprint(M)",
      "execution_count": 14,
      "outputs": [
        {
          "output_type": "stream",
          "text": "[[1 1 1]\n [2 2 2]]\n[[1 2 3]\n [4 5 6]]\n",
          "name": "stdout"
        }
      ]
    },
    {
      "metadata": {
        "ExecuteTime": {
          "start_time": "2020-02-08T21:35:22.267323Z",
          "end_time": "2020-02-08T21:35:22.478428Z"
        },
        "trusted": true
      },
      "cell_type": "code",
      "source": "S = M + N\nprint(S)",
      "execution_count": 15,
      "outputs": [
        {
          "output_type": "stream",
          "text": "[[2 3 4]\n [6 7 8]]\n",
          "name": "stdout"
        }
      ]
    },
    {
      "metadata": {
        "ExecuteTime": {
          "start_time": "2020-02-08T21:35:22.499205Z",
          "end_time": "2020-02-08T21:35:22.65172Z"
        },
        "trusted": true
      },
      "cell_type": "code",
      "source": "MM=5*M\nprint(MM)",
      "execution_count": 16,
      "outputs": [
        {
          "output_type": "stream",
          "text": "[[ 5 10 15]\n [20 25 30]]\n",
          "name": "stdout"
        }
      ]
    },
    {
      "metadata": {
        "ExecuteTime": {
          "start_time": "2020-02-08T21:35:22.668387Z",
          "end_time": "2020-02-08T21:35:22.971121Z"
        },
        "trusted": true
      },
      "cell_type": "code",
      "source": "MN = M*N",
      "execution_count": 17,
      "outputs": []
    },
    {
      "metadata": {
        "ExecuteTime": {
          "start_time": "2020-02-08T21:35:22.988571Z",
          "end_time": "2020-02-08T21:35:23.404144Z"
        },
        "trusted": true
      },
      "cell_type": "code",
      "source": "# Mnożenie macierzy\ntry:\n    M.dot(N)\nexcept Exception as e:\n    print('Exception:',e)",
      "execution_count": 18,
      "outputs": [
        {
          "output_type": "stream",
          "text": "Exception: shapes (2,3) and (2,3) not aligned: 3 (dim 1) != 2 (dim 0)\n",
          "name": "stdout"
        }
      ]
    },
    {
      "metadata": {
        "ExecuteTime": {
          "start_time": "2020-02-08T21:35:23.434159Z",
          "end_time": "2020-02-08T21:35:23.998945Z"
        },
        "trusted": true
      },
      "cell_type": "code",
      "source": "# Transpozycja\nM.dot(N.T)",
      "execution_count": 19,
      "outputs": [
        {
          "output_type": "execute_result",
          "execution_count": 19,
          "data": {
            "text/plain": "array([[ 6, 12],\n       [15, 30]])"
          },
          "metadata": {}
        }
      ]
    },
    {
      "metadata": {
        "ExecuteTime": {
          "start_time": "2020-02-08T21:35:24.019019Z",
          "end_time": "2020-02-08T21:35:24.348634Z"
        },
        "trusted": true
      },
      "cell_type": "code",
      "source": "v=np.linspace(0,10,21)\nv",
      "execution_count": 20,
      "outputs": [
        {
          "output_type": "execute_result",
          "execution_count": 20,
          "data": {
            "text/plain": "array([ 0. ,  0.5,  1. ,  1.5,  2. ,  2.5,  3. ,  3.5,  4. ,  4.5,  5. ,\n        5.5,  6. ,  6.5,  7. ,  7.5,  8. ,  8.5,  9. ,  9.5, 10. ])"
          },
          "metadata": {}
        }
      ]
    },
    {
      "metadata": {
        "ExecuteTime": {
          "start_time": "2020-02-08T21:35:24.359408Z",
          "end_time": "2020-02-08T21:35:24.710038Z"
        },
        "trusted": true
      },
      "cell_type": "code",
      "source": "np.sin(v)",
      "execution_count": 21,
      "outputs": [
        {
          "output_type": "execute_result",
          "execution_count": 21,
          "data": {
            "text/plain": "array([ 0.        ,  0.47942554,  0.84147098,  0.99749499,  0.90929743,\n        0.59847214,  0.14112001, -0.35078323, -0.7568025 , -0.97753012,\n       -0.95892427, -0.70554033, -0.2794155 ,  0.21511999,  0.6569866 ,\n        0.93799998,  0.98935825,  0.79848711,  0.41211849, -0.07515112,\n       -0.54402111])"
          },
          "metadata": {}
        }
      ]
    },
    {
      "metadata": {
        "ExecuteTime": {
          "start_time": "2020-02-08T21:35:24.720448Z",
          "end_time": "2020-02-08T21:35:29.562228Z"
        },
        "trusted": true
      },
      "cell_type": "code",
      "source": "%matplotlib inline\nfrom matplotlib import pyplot as plt\nplt.plot(v, np.sin(v))",
      "execution_count": 22,
      "outputs": [
        {
          "output_type": "execute_result",
          "execution_count": 22,
          "data": {
            "text/plain": "[<matplotlib.lines.Line2D at 0x7f1ee7913898>]"
          },
          "metadata": {}
        },
        {
          "output_type": "display_data",
          "data": {
            "image/png": "[encoded data removed]",
            "text/plain": "<matplotlib.figure.Figure at 0x7f1ee93190f0>"
          },
          "metadata": {}
        }
      ]
    },
    {
      "metadata": {
        "ExecuteTime": {
          "start_time": "2020-02-08T21:35:29.579089Z",
          "end_time": "2020-02-08T21:35:29.655593Z"
        },
        "trusted": true
      },
      "cell_type": "code",
      "source": "M = np.array([[1,2,3,4], [5,6,7,8], [9,10,11,12], [13,14,15,16]])\nM",
      "execution_count": 23,
      "outputs": [
        {
          "output_type": "execute_result",
          "execution_count": 23,
          "data": {
            "text/plain": "array([[ 1,  2,  3,  4],\n       [ 5,  6,  7,  8],\n       [ 9, 10, 11, 12],\n       [13, 14, 15, 16]])"
          },
          "metadata": {}
        }
      ]
    },
    {
      "metadata": {
        "ExecuteTime": {
          "start_time": "2020-02-08T21:35:29.672091Z",
          "end_time": "2020-02-08T21:35:30.044434Z"
        },
        "trusted": true
      },
      "cell_type": "code",
      "source": "M[:,2]",
      "execution_count": 24,
      "outputs": [
        {
          "output_type": "execute_result",
          "execution_count": 24,
          "data": {
            "text/plain": "array([ 3,  7, 11, 15])"
          },
          "metadata": {}
        }
      ]
    },
    {
      "metadata": {
        "ExecuteTime": {
          "start_time": "2020-02-08T21:35:30.064416Z",
          "end_time": "2020-02-08T21:35:30.33473Z"
        },
        "trusted": true
      },
      "cell_type": "code",
      "source": "M[2,1:3]",
      "execution_count": 25,
      "outputs": [
        {
          "output_type": "execute_result",
          "execution_count": 25,
          "data": {
            "text/plain": "array([10, 11])"
          },
          "metadata": {}
        }
      ]
    },
    {
      "metadata": {
        "ExecuteTime": {
          "start_time": "2020-02-08T21:35:30.344664Z",
          "end_time": "2020-02-08T21:35:30.454055Z"
        },
        "trusted": true
      },
      "cell_type": "code",
      "source": "M[1:3,2:4]",
      "execution_count": 26,
      "outputs": [
        {
          "output_type": "execute_result",
          "execution_count": 26,
          "data": {
            "text/plain": "array([[ 7,  8],\n       [11, 12]])"
          },
          "metadata": {}
        }
      ]
    },
    {
      "metadata": {
        "ExecuteTime": {
          "start_time": "2020-02-08T21:35:30.479133Z",
          "end_time": "2020-02-08T21:35:30.661706Z"
        },
        "trusted": true
      },
      "cell_type": "code",
      "source": "M[::2,:]",
      "execution_count": 27,
      "outputs": [
        {
          "output_type": "execute_result",
          "execution_count": 27,
          "data": {
            "text/plain": "array([[ 1,  2,  3,  4],\n       [ 9, 10, 11, 12]])"
          },
          "metadata": {}
        }
      ]
    },
    {
      "metadata": {
        "ExecuteTime": {
          "start_time": "2020-02-08T21:35:30.674391Z",
          "end_time": "2020-02-08T21:35:30.873352Z"
        },
        "trusted": true
      },
      "cell_type": "code",
      "source": "M",
      "execution_count": 28,
      "outputs": [
        {
          "output_type": "execute_result",
          "execution_count": 28,
          "data": {
            "text/plain": "array([[ 1,  2,  3,  4],\n       [ 5,  6,  7,  8],\n       [ 9, 10, 11, 12],\n       [13, 14, 15, 16]])"
          },
          "metadata": {}
        }
      ]
    },
    {
      "metadata": {
        "ExecuteTime": {
          "start_time": "2020-02-08T21:35:30.890968Z",
          "end_time": "2020-02-08T21:35:31.164783Z"
        },
        "trusted": true
      },
      "cell_type": "code",
      "source": "M[::2,::2]=0\nM",
      "execution_count": 29,
      "outputs": [
        {
          "output_type": "execute_result",
          "execution_count": 29,
          "data": {
            "text/plain": "array([[ 0,  2,  0,  4],\n       [ 5,  6,  7,  8],\n       [ 0, 10,  0, 12],\n       [13, 14, 15, 16]])"
          },
          "metadata": {}
        }
      ]
    },
    {
      "metadata": {},
      "cell_type": "markdown",
      "source": "### The Basics\nhttps://github.com/KeithGalli/NumPy/blob/master/NumPy%20Tutorial.ipynb"
    },
    {
      "metadata": {
        "ExecuteTime": {
          "start_time": "2020-02-08T21:35:31.170201Z",
          "end_time": "2020-02-08T21:35:31.517073Z"
        },
        "trusted": true
      },
      "cell_type": "code",
      "source": "a = np.array([1,2,3], dtype='int32')\nprint(a)",
      "execution_count": 30,
      "outputs": [
        {
          "output_type": "stream",
          "text": "[1 2 3]\n",
          "name": "stdout"
        }
      ]
    },
    {
      "metadata": {
        "ExecuteTime": {
          "start_time": "2020-02-08T21:35:31.531213Z",
          "end_time": "2020-02-08T21:35:31.733898Z"
        },
        "trusted": true
      },
      "cell_type": "code",
      "source": "b = np.array([[9.0,8.0,7.0],[6.0,5.0,4.0]])\nprint(b)",
      "execution_count": 31,
      "outputs": [
        {
          "output_type": "stream",
          "text": "[[9. 8. 7.]\n [6. 5. 4.]]\n",
          "name": "stdout"
        }
      ]
    },
    {
      "metadata": {
        "ExecuteTime": {
          "start_time": "2020-02-08T21:35:31.742723Z",
          "end_time": "2020-02-08T21:35:31.992756Z"
        },
        "trusted": true
      },
      "cell_type": "code",
      "source": "# Get Dimension\na.ndim",
      "execution_count": 32,
      "outputs": [
        {
          "output_type": "execute_result",
          "execution_count": 32,
          "data": {
            "text/plain": "1"
          },
          "metadata": {}
        }
      ]
    },
    {
      "metadata": {
        "ExecuteTime": {
          "start_time": "2020-02-08T21:35:32.002405Z",
          "end_time": "2020-02-08T21:35:32.258972Z"
        },
        "trusted": true
      },
      "cell_type": "code",
      "source": "# Get Shape\nb.shape",
      "execution_count": 33,
      "outputs": [
        {
          "output_type": "execute_result",
          "execution_count": 33,
          "data": {
            "text/plain": "(2, 3)"
          },
          "metadata": {}
        }
      ]
    },
    {
      "metadata": {
        "ExecuteTime": {
          "start_time": "2020-02-08T21:35:32.261228Z",
          "end_time": "2020-02-08T21:35:32.62183Z"
        },
        "trusted": true
      },
      "cell_type": "code",
      "source": "# Get Type\na.dtype",
      "execution_count": 34,
      "outputs": [
        {
          "output_type": "execute_result",
          "execution_count": 34,
          "data": {
            "text/plain": "dtype('int32')"
          },
          "metadata": {}
        }
      ]
    },
    {
      "metadata": {
        "ExecuteTime": {
          "start_time": "2020-02-08T21:35:32.627205Z",
          "end_time": "2020-02-08T21:35:33.1244Z"
        },
        "trusted": true
      },
      "cell_type": "code",
      "source": "# Get Size\na.itemsize",
      "execution_count": 35,
      "outputs": [
        {
          "output_type": "execute_result",
          "execution_count": 35,
          "data": {
            "text/plain": "4"
          },
          "metadata": {}
        }
      ]
    },
    {
      "metadata": {
        "ExecuteTime": {
          "start_time": "2020-02-08T21:35:33.144478Z",
          "end_time": "2020-02-08T21:35:33.533392Z"
        },
        "trusted": true
      },
      "cell_type": "code",
      "source": "# Get total size\na.nbytes",
      "execution_count": 36,
      "outputs": [
        {
          "output_type": "execute_result",
          "execution_count": 36,
          "data": {
            "text/plain": "12"
          },
          "metadata": {}
        }
      ]
    },
    {
      "metadata": {
        "ExecuteTime": {
          "start_time": "2020-02-08T21:35:33.562612Z",
          "end_time": "2020-02-08T21:35:33.847621Z"
        },
        "trusted": true
      },
      "cell_type": "code",
      "source": "# Get number of elements\na.size",
      "execution_count": 37,
      "outputs": [
        {
          "output_type": "execute_result",
          "execution_count": 37,
          "data": {
            "text/plain": "3"
          },
          "metadata": {}
        }
      ]
    },
    {
      "metadata": {},
      "cell_type": "markdown",
      "source": "### Accessing/Changing specific elements, rows, columns, etc"
    },
    {
      "metadata": {
        "ExecuteTime": {
          "start_time": "2020-02-08T21:35:33.858612Z",
          "end_time": "2020-02-08T21:35:34.284102Z"
        },
        "trusted": true
      },
      "cell_type": "code",
      "source": "a = np.array([[1,2,3,4,5,6,7],[8,9,10,11,12,13,14]])\nprint(a)",
      "execution_count": 38,
      "outputs": [
        {
          "output_type": "stream",
          "text": "[[ 1  2  3  4  5  6  7]\n [ 8  9 10 11 12 13 14]]\n",
          "name": "stdout"
        }
      ]
    },
    {
      "metadata": {
        "ExecuteTime": {
          "start_time": "2020-02-08T21:35:34.29866Z",
          "end_time": "2020-02-08T21:35:34.753911Z"
        },
        "trusted": true
      },
      "cell_type": "code",
      "source": "# Get a specific element [r, c]\na[1, 5]",
      "execution_count": 39,
      "outputs": [
        {
          "output_type": "execute_result",
          "execution_count": 39,
          "data": {
            "text/plain": "13"
          },
          "metadata": {}
        }
      ]
    },
    {
      "metadata": {
        "ExecuteTime": {
          "start_time": "2020-02-08T21:35:34.768589Z",
          "end_time": "2020-02-08T21:35:35.017413Z"
        },
        "trusted": true
      },
      "cell_type": "code",
      "source": "# Get a specific row \na[0, :]",
      "execution_count": 40,
      "outputs": [
        {
          "output_type": "execute_result",
          "execution_count": 40,
          "data": {
            "text/plain": "array([1, 2, 3, 4, 5, 6, 7])"
          },
          "metadata": {}
        }
      ]
    },
    {
      "metadata": {
        "ExecuteTime": {
          "start_time": "2020-02-08T21:35:35.034859Z",
          "end_time": "2020-02-08T21:35:35.190874Z"
        },
        "trusted": true
      },
      "cell_type": "code",
      "source": "# Get a specific column\na[:, 2]",
      "execution_count": 41,
      "outputs": [
        {
          "output_type": "execute_result",
          "execution_count": 41,
          "data": {
            "text/plain": "array([ 3, 10])"
          },
          "metadata": {}
        }
      ]
    },
    {
      "metadata": {
        "ExecuteTime": {
          "start_time": "2020-02-08T21:35:35.206805Z",
          "end_time": "2020-02-08T21:35:35.396374Z"
        },
        "trusted": true
      },
      "cell_type": "code",
      "source": "# Getting a little more fancy [startindex:endindex:stepsize]\na[0, 1:-1:2]",
      "execution_count": 42,
      "outputs": [
        {
          "output_type": "execute_result",
          "execution_count": 42,
          "data": {
            "text/plain": "array([2, 4, 6])"
          },
          "metadata": {}
        }
      ]
    },
    {
      "metadata": {
        "ExecuteTime": {
          "start_time": "2020-02-08T21:35:35.398392Z",
          "end_time": "2020-02-08T21:35:35.855136Z"
        },
        "trusted": true
      },
      "cell_type": "code",
      "source": "a[1,5] = 20\n\na[:,2] = [1,2]\nprint(a)",
      "execution_count": 43,
      "outputs": [
        {
          "output_type": "stream",
          "text": "[[ 1  2  1  4  5  6  7]\n [ 8  9  2 11 12 20 14]]\n",
          "name": "stdout"
        }
      ]
    },
    {
      "metadata": {
        "ExecuteTime": {
          "start_time": "2020-02-08T21:35:35.859495Z",
          "end_time": "2020-02-08T21:35:36.106268Z"
        },
        "trusted": true
      },
      "cell_type": "code",
      "source": "b = np.array([[[1,2],[3,4]],[[5,6],[7,8]]])\nprint(b)",
      "execution_count": 44,
      "outputs": [
        {
          "output_type": "stream",
          "text": "[[[1 2]\n  [3 4]]\n\n [[5 6]\n  [7 8]]]\n",
          "name": "stdout"
        }
      ]
    },
    {
      "metadata": {
        "ExecuteTime": {
          "start_time": "2020-02-08T21:35:36.112669Z",
          "end_time": "2020-02-08T21:35:36.534493Z"
        },
        "trusted": true
      },
      "cell_type": "code",
      "source": "# Get specific element (work outside in)\nb[0,1,1]",
      "execution_count": 45,
      "outputs": [
        {
          "output_type": "execute_result",
          "execution_count": 45,
          "data": {
            "text/plain": "4"
          },
          "metadata": {}
        }
      ]
    },
    {
      "metadata": {
        "ExecuteTime": {
          "start_time": "2020-02-08T21:35:36.550241Z",
          "end_time": "2020-02-08T21:35:37.633101Z"
        },
        "trusted": true
      },
      "cell_type": "code",
      "source": "# replace \nb[:,1,:] = [[9,9,9],[8,8]]",
      "execution_count": 46,
      "outputs": [
        {
          "output_type": "error",
          "ename": "ValueError",
          "evalue": "setting an array element with a sequence.",
          "traceback": [
            "\u001b[0;31m---------------------------------------------------------------------------\u001b[0m",
            "\u001b[0;31mValueError\u001b[0m                                Traceback (most recent call last)",
            "\u001b[0;32m<ipython-input-46-db1aebb5daad>\u001b[0m in \u001b[0;36m<module>\u001b[0;34m()\u001b[0m\n\u001b[1;32m      1\u001b[0m \u001b[0;31m# replace\u001b[0m\u001b[0;34m\u001b[0m\u001b[0;34m\u001b[0m\u001b[0m\n\u001b[0;32m----> 2\u001b[0;31m \u001b[0mb\u001b[0m\u001b[0;34m[\u001b[0m\u001b[0;34m:\u001b[0m\u001b[0;34m,\u001b[0m\u001b[0;36m1\u001b[0m\u001b[0;34m,\u001b[0m\u001b[0;34m:\u001b[0m\u001b[0;34m]\u001b[0m \u001b[0;34m=\u001b[0m \u001b[0;34m[\u001b[0m\u001b[0;34m[\u001b[0m\u001b[0;36m9\u001b[0m\u001b[0;34m,\u001b[0m\u001b[0;36m9\u001b[0m\u001b[0;34m,\u001b[0m\u001b[0;36m9\u001b[0m\u001b[0;34m]\u001b[0m\u001b[0;34m,\u001b[0m\u001b[0;34m[\u001b[0m\u001b[0;36m8\u001b[0m\u001b[0;34m,\u001b[0m\u001b[0;36m8\u001b[0m\u001b[0;34m]\u001b[0m\u001b[0;34m]\u001b[0m\u001b[0;34m\u001b[0m\u001b[0m\n\u001b[0m",
            "\u001b[0;31mValueError\u001b[0m: setting an array element with a sequence."
          ]
        }
      ]
    },
    {
      "metadata": {
        "ExecuteTime": {
          "start_time": "2020-02-08T21:36:02.397513Z",
          "end_time": "2020-02-08T21:36:02.418461Z"
        },
        "trusted": true
      },
      "cell_type": "code",
      "source": "print(b)",
      "execution_count": 47,
      "outputs": [
        {
          "output_type": "stream",
          "text": "[[[1 2]\n  [3 4]]\n\n [[5 6]\n  [7 8]]]\n",
          "name": "stdout"
        }
      ]
    },
    {
      "metadata": {},
      "cell_type": "markdown",
      "source": "### Initializing Different Types of Arrays"
    },
    {
      "metadata": {
        "ExecuteTime": {
          "start_time": "2020-02-08T21:36:08.260668Z",
          "end_time": "2020-02-08T21:36:08.310051Z"
        },
        "trusted": true
      },
      "cell_type": "code",
      "source": "# All 0s matrix\nnp.zeros((2,3))",
      "execution_count": 48,
      "outputs": [
        {
          "output_type": "execute_result",
          "execution_count": 48,
          "data": {
            "text/plain": "array([[0., 0., 0.],\n       [0., 0., 0.]])"
          },
          "metadata": {}
        }
      ]
    },
    {
      "metadata": {
        "ExecuteTime": {
          "start_time": "2020-02-08T21:36:08.325753Z",
          "end_time": "2020-02-08T21:36:08.616763Z"
        },
        "trusted": true
      },
      "cell_type": "code",
      "source": "# All 1s matrix\nnp.ones((4,2,2), dtype='int32')",
      "execution_count": 49,
      "outputs": [
        {
          "output_type": "execute_result",
          "execution_count": 49,
          "data": {
            "text/plain": "array([[[1, 1],\n        [1, 1]],\n\n       [[1, 1],\n        [1, 1]],\n\n       [[1, 1],\n        [1, 1]],\n\n       [[1, 1],\n        [1, 1]]], dtype=int32)"
          },
          "metadata": {}
        }
      ]
    },
    {
      "metadata": {
        "ExecuteTime": {
          "start_time": "2020-02-08T21:36:08.620202Z",
          "end_time": "2020-02-08T21:36:08.973064Z"
        },
        "trusted": true
      },
      "cell_type": "code",
      "source": "# Any other number\nnp.full((2,2), 99)",
      "execution_count": 50,
      "outputs": [
        {
          "output_type": "execute_result",
          "execution_count": 50,
          "data": {
            "text/plain": "array([[99, 99],\n       [99, 99]])"
          },
          "metadata": {}
        }
      ]
    },
    {
      "metadata": {
        "ExecuteTime": {
          "start_time": "2020-02-08T21:36:09.000224Z",
          "end_time": "2020-02-08T21:36:09.143088Z"
        },
        "trusted": true
      },
      "cell_type": "code",
      "source": "# Any other number (full_like)\nnp.full_like(a, 4)",
      "execution_count": 51,
      "outputs": [
        {
          "output_type": "execute_result",
          "execution_count": 51,
          "data": {
            "text/plain": "array([[4, 4, 4, 4, 4, 4, 4],\n       [4, 4, 4, 4, 4, 4, 4]])"
          },
          "metadata": {}
        }
      ]
    },
    {
      "metadata": {
        "ExecuteTime": {
          "start_time": "2020-02-08T21:36:09.159191Z",
          "end_time": "2020-02-08T21:36:09.326974Z"
        },
        "trusted": true
      },
      "cell_type": "code",
      "source": "# Random decimal numbers\nnp.random.rand(4,2)",
      "execution_count": 52,
      "outputs": [
        {
          "output_type": "execute_result",
          "execution_count": 52,
          "data": {
            "text/plain": "array([[0.56721098, 0.0939328 ],\n       [0.11449824, 0.31317402],\n       [0.74201044, 0.42910765],\n       [0.20609135, 0.48631883]])"
          },
          "metadata": {}
        }
      ]
    },
    {
      "metadata": {
        "ExecuteTime": {
          "start_time": "2020-02-08T21:36:09.336261Z",
          "end_time": "2020-02-08T21:36:09.501489Z"
        },
        "trusted": true
      },
      "cell_type": "code",
      "source": "# Random Integer values\nnp.random.randint(-4,8, size=(3,3))",
      "execution_count": 53,
      "outputs": [
        {
          "output_type": "execute_result",
          "execution_count": 53,
          "data": {
            "text/plain": "array([[ 2,  1,  3],\n       [-3, -1, -1],\n       [ 6,  4,  4]])"
          },
          "metadata": {}
        }
      ]
    },
    {
      "metadata": {
        "ExecuteTime": {
          "start_time": "2020-02-08T21:36:09.513132Z",
          "end_time": "2020-02-08T21:36:09.626755Z"
        },
        "trusted": true
      },
      "cell_type": "code",
      "source": "# The identity matrix\nnp.identity(5)",
      "execution_count": 54,
      "outputs": [
        {
          "output_type": "execute_result",
          "execution_count": 54,
          "data": {
            "text/plain": "array([[1., 0., 0., 0., 0.],\n       [0., 1., 0., 0., 0.],\n       [0., 0., 1., 0., 0.],\n       [0., 0., 0., 1., 0.],\n       [0., 0., 0., 0., 1.]])"
          },
          "metadata": {}
        }
      ]
    },
    {
      "metadata": {
        "ExecuteTime": {
          "start_time": "2020-02-08T21:36:09.63614Z",
          "end_time": "2020-02-08T21:36:09.745701Z"
        },
        "trusted": true
      },
      "cell_type": "code",
      "source": "# Repeat an array\narr = np.array([[1,2,3]])\nr1 = np.repeat(arr,3, axis=0)\nprint(r1)",
      "execution_count": 55,
      "outputs": [
        {
          "output_type": "stream",
          "text": "[[1 2 3]\n [1 2 3]\n [1 2 3]]\n",
          "name": "stdout"
        }
      ]
    },
    {
      "metadata": {
        "ExecuteTime": {
          "start_time": "2020-02-08T21:36:09.763431Z",
          "end_time": "2020-02-08T21:36:09.923756Z"
        },
        "trusted": true
      },
      "cell_type": "code",
      "source": "output = np.ones((5,5))\nprint(output)\n\nz = np.zeros((3,3))\nz[1,1] = 9\nprint(z)\n\noutput[1:-1,1:-1] = z\nprint(output)",
      "execution_count": 56,
      "outputs": [
        {
          "output_type": "stream",
          "text": "[[1. 1. 1. 1. 1.]\n [1. 1. 1. 1. 1.]\n [1. 1. 1. 1. 1.]\n [1. 1. 1. 1. 1.]\n [1. 1. 1. 1. 1.]]\n[[0. 0. 0.]\n [0. 9. 0.]\n [0. 0. 0.]]\n[[1. 1. 1. 1. 1.]\n [1. 0. 0. 0. 1.]\n [1. 0. 9. 0. 1.]\n [1. 0. 0. 0. 1.]\n [1. 1. 1. 1. 1.]]\n",
          "name": "stdout"
        }
      ]
    },
    {
      "metadata": {},
      "cell_type": "markdown",
      "source": "#### Be careful when copying arrays!!!"
    },
    {
      "metadata": {
        "ExecuteTime": {
          "start_time": "2020-02-08T21:36:09.934474Z",
          "end_time": "2020-02-08T21:36:10.095879Z"
        },
        "trusted": true
      },
      "cell_type": "code",
      "source": "a = np.array([1,2,3])\nb = a.copy()\nb[0] = 100\n\nprint(a)",
      "execution_count": 57,
      "outputs": [
        {
          "output_type": "stream",
          "text": "[1 2 3]\n",
          "name": "stdout"
        }
      ]
    },
    {
      "metadata": {},
      "cell_type": "markdown",
      "source": "### Mathematics"
    },
    {
      "metadata": {
        "ExecuteTime": {
          "start_time": "2020-02-08T21:36:10.119267Z",
          "end_time": "2020-02-08T21:36:10.257477Z"
        },
        "trusted": true
      },
      "cell_type": "code",
      "source": "a = np.array([1,2,3,4])\nprint(a)",
      "execution_count": 58,
      "outputs": [
        {
          "output_type": "stream",
          "text": "[1 2 3 4]\n",
          "name": "stdout"
        }
      ]
    },
    {
      "metadata": {
        "ExecuteTime": {
          "start_time": "2020-02-08T21:36:10.263355Z",
          "end_time": "2020-02-08T21:36:10.4186Z"
        },
        "trusted": true
      },
      "cell_type": "code",
      "source": "a + 2",
      "execution_count": 59,
      "outputs": [
        {
          "output_type": "execute_result",
          "execution_count": 59,
          "data": {
            "text/plain": "array([3, 4, 5, 6])"
          },
          "metadata": {}
        }
      ]
    },
    {
      "metadata": {
        "ExecuteTime": {
          "start_time": "2020-02-08T21:36:10.429227Z",
          "end_time": "2020-02-08T21:36:10.534037Z"
        },
        "trusted": true
      },
      "cell_type": "code",
      "source": "a - 2",
      "execution_count": 60,
      "outputs": [
        {
          "output_type": "execute_result",
          "execution_count": 60,
          "data": {
            "text/plain": "array([-1,  0,  1,  2])"
          },
          "metadata": {}
        }
      ]
    },
    {
      "metadata": {
        "ExecuteTime": {
          "start_time": "2020-02-08T21:36:10.550467Z",
          "end_time": "2020-02-08T21:36:10.683811Z"
        },
        "trusted": true
      },
      "cell_type": "code",
      "source": "a * 2",
      "execution_count": 61,
      "outputs": [
        {
          "output_type": "execute_result",
          "execution_count": 61,
          "data": {
            "text/plain": "array([2, 4, 6, 8])"
          },
          "metadata": {}
        }
      ]
    },
    {
      "metadata": {
        "ExecuteTime": {
          "start_time": "2020-02-08T21:36:10.703487Z",
          "end_time": "2020-02-08T21:36:10.822805Z"
        },
        "trusted": true
      },
      "cell_type": "code",
      "source": "a /2 ",
      "execution_count": 62,
      "outputs": [
        {
          "output_type": "execute_result",
          "execution_count": 62,
          "data": {
            "text/plain": "array([0.5, 1. , 1.5, 2. ])"
          },
          "metadata": {}
        }
      ]
    },
    {
      "metadata": {
        "ExecuteTime": {
          "start_time": "2020-02-08T21:36:10.842055Z",
          "end_time": "2020-02-08T21:36:11.044492Z"
        },
        "trusted": true
      },
      "cell_type": "code",
      "source": "b = np.array([1,0,1,0])\na + b",
      "execution_count": 63,
      "outputs": [
        {
          "output_type": "execute_result",
          "execution_count": 63,
          "data": {
            "text/plain": "array([2, 2, 4, 4])"
          },
          "metadata": {}
        }
      ]
    },
    {
      "metadata": {
        "ExecuteTime": {
          "start_time": "2020-02-08T21:36:11.05457Z",
          "end_time": "2020-02-08T21:36:11.465714Z"
        },
        "trusted": true
      },
      "cell_type": "code",
      "source": "a ** 2",
      "execution_count": 64,
      "outputs": [
        {
          "output_type": "execute_result",
          "execution_count": 64,
          "data": {
            "text/plain": "array([ 1,  4,  9, 16])"
          },
          "metadata": {}
        }
      ]
    },
    {
      "metadata": {
        "ExecuteTime": {
          "start_time": "2020-02-08T21:36:11.47423Z",
          "end_time": "2020-02-08T21:36:11.650587Z"
        },
        "trusted": true
      },
      "cell_type": "code",
      "source": "# Take the sin\nnp.cos(a)",
      "execution_count": 65,
      "outputs": [
        {
          "output_type": "execute_result",
          "execution_count": 65,
          "data": {
            "text/plain": "array([ 0.54030231, -0.41614684, -0.9899925 , -0.65364362])"
          },
          "metadata": {}
        }
      ]
    },
    {
      "metadata": {},
      "cell_type": "markdown",
      "source": "#### For a lot more (https://docs.scipy.org/doc/numpy/reference/routines.math.html)"
    },
    {
      "metadata": {},
      "cell_type": "markdown",
      "source": "### Linear Algebra"
    },
    {
      "metadata": {
        "ExecuteTime": {
          "start_time": "2020-02-08T21:36:11.655572Z",
          "end_time": "2020-02-08T21:36:11.875223Z"
        },
        "trusted": true
      },
      "cell_type": "code",
      "source": "a = np.ones((2,3))\nprint(a)\n\nb = np.full((3,2), 2)\nprint(b)\n\nnp.matmul(a,b)",
      "execution_count": 66,
      "outputs": [
        {
          "output_type": "stream",
          "text": "[[1. 1. 1.]\n [1. 1. 1.]]\n[[2 2]\n [2 2]\n [2 2]]\n",
          "name": "stdout"
        },
        {
          "output_type": "execute_result",
          "execution_count": 66,
          "data": {
            "text/plain": "array([[6., 6.],\n       [6., 6.]])"
          },
          "metadata": {}
        }
      ]
    },
    {
      "metadata": {
        "ExecuteTime": {
          "start_time": "2020-02-08T21:36:11.885621Z",
          "end_time": "2020-02-08T21:36:12.050399Z"
        },
        "trusted": true
      },
      "cell_type": "code",
      "source": "# Find the determinant\nc = np.identity(3)\nnp.linalg.det(c)",
      "execution_count": 67,
      "outputs": [
        {
          "output_type": "execute_result",
          "execution_count": 67,
          "data": {
            "text/plain": "1.0"
          },
          "metadata": {}
        }
      ]
    },
    {
      "metadata": {},
      "cell_type": "markdown",
      "source": "#### Reference docs (https://docs.scipy.org/doc/numpy/reference/routines.linalg.html)\n\n##### Determinant\n##### Trace\n##### Singular Vector Decomposition\n##### Eigenvalues\n##### Matrix Norm\n##### Inverse\n##### Etc..."
    },
    {
      "metadata": {
        "ExecuteTime": {
          "start_time": "2020-02-08T21:36:12.061527Z",
          "end_time": "2020-02-08T21:36:12.358789Z"
        },
        "trusted": true
      },
      "cell_type": "code",
      "source": "stats = np.array([[1,2,3],[4,5,6]])\nstats",
      "execution_count": 68,
      "outputs": [
        {
          "output_type": "execute_result",
          "execution_count": 68,
          "data": {
            "text/plain": "array([[1, 2, 3],\n       [4, 5, 6]])"
          },
          "metadata": {}
        }
      ]
    },
    {
      "metadata": {
        "ExecuteTime": {
          "start_time": "2020-02-08T21:36:12.36495Z",
          "end_time": "2020-02-08T21:36:12.62405Z"
        },
        "trusted": true
      },
      "cell_type": "code",
      "source": "np.min(stats)",
      "execution_count": 69,
      "outputs": [
        {
          "output_type": "execute_result",
          "execution_count": 69,
          "data": {
            "text/plain": "1"
          },
          "metadata": {}
        }
      ]
    },
    {
      "metadata": {
        "ExecuteTime": {
          "start_time": "2020-02-08T21:36:12.642978Z",
          "end_time": "2020-02-08T21:36:12.772091Z"
        },
        "trusted": true
      },
      "cell_type": "code",
      "source": "np.max(stats, axis=1)",
      "execution_count": 70,
      "outputs": [
        {
          "output_type": "execute_result",
          "execution_count": 70,
          "data": {
            "text/plain": "array([3, 6])"
          },
          "metadata": {}
        }
      ]
    },
    {
      "metadata": {
        "ExecuteTime": {
          "start_time": "2020-02-08T21:36:12.774126Z",
          "end_time": "2020-02-08T21:36:13.633313Z"
        },
        "trusted": true
      },
      "cell_type": "code",
      "source": "np.sum(stats, axis=0)",
      "execution_count": 71,
      "outputs": [
        {
          "output_type": "execute_result",
          "execution_count": 71,
          "data": {
            "text/plain": "array([5, 7, 9])"
          },
          "metadata": {}
        }
      ]
    },
    {
      "metadata": {
        "ExecuteTime": {
          "start_time": "2020-02-08T21:37:33.125483Z",
          "end_time": "2020-02-08T21:37:33.171979Z"
        },
        "trusted": true
      },
      "cell_type": "code",
      "source": "before = np.array([[1,2,3,4],[5,6,7,8]])\nprint(before)\n\nafter = before.reshape((1,8))\nprint(after)",
      "execution_count": 76,
      "outputs": [
        {
          "output_type": "stream",
          "text": "[[1 2 3 4]\n [5 6 7 8]]\n[[1 2 3 4 5 6 7 8]]\n",
          "name": "stdout"
        }
      ]
    },
    {
      "metadata": {
        "ExecuteTime": {
          "start_time": "2020-02-08T21:37:47.265482Z",
          "end_time": "2020-02-08T21:37:47.315594Z"
        },
        "trusted": true
      },
      "cell_type": "code",
      "source": "# Vertically stacking vectors\nv1 = np.array([1,2,3,4])\nv2 = np.array([5,6,7,8])\n\nnp.vstack([v1,v2,v1,v2])",
      "execution_count": 77,
      "outputs": [
        {
          "output_type": "execute_result",
          "execution_count": 77,
          "data": {
            "text/plain": "array([[1, 2, 3, 4],\n       [5, 6, 7, 8],\n       [1, 2, 3, 4],\n       [5, 6, 7, 8]])"
          },
          "metadata": {}
        }
      ]
    },
    {
      "metadata": {
        "ExecuteTime": {
          "start_time": "2020-02-08T21:37:49.807545Z",
          "end_time": "2020-02-08T21:37:49.847582Z"
        },
        "trusted": true
      },
      "cell_type": "code",
      "source": "# Horizontal  stack\nh1 = np.ones((2,4))\nh2 = np.zeros((2,2))\n\nnp.hstack((h1,h2))",
      "execution_count": 78,
      "outputs": [
        {
          "output_type": "execute_result",
          "execution_count": 78,
          "data": {
            "text/plain": "array([[1., 1., 1., 1., 0., 0.],\n       [1., 1., 1., 1., 0., 0.]])"
          },
          "metadata": {}
        }
      ]
    },
    {
      "metadata": {},
      "cell_type": "markdown",
      "source": "### Miscellaneous"
    },
    {
      "metadata": {},
      "cell_type": "markdown",
      "source": "#### Load Data from File"
    },
    {
      "metadata": {
        "ExecuteTime": {
          "start_time": "2020-02-08T21:37:52.866892Z",
          "end_time": "2020-02-08T21:37:53.152903Z"
        },
        "trusted": true
      },
      "cell_type": "code",
      "source": "filedata = np.genfromtxt('data.txt', delimiter=',')\nfiledata = filedata.astype('int32')\nprint(filedata)",
      "execution_count": 79,
      "outputs": [
        {
          "output_type": "stream",
          "text": "[[  1  13  21  11 196  75   4   3  34   6   7   8   0   1   2   3   4   5]\n [  3  42  12  33 766  75   4  55   6   4   3   4   5   6   7   0  11  12]\n [  1  22  33  11 999  11   2   1  78   0   1   2   9   8   7   1  76  88]]\n",
          "name": "stdout"
        }
      ]
    },
    {
      "metadata": {},
      "cell_type": "markdown",
      "source": "#### Boolean Masking and Advanced Indexing"
    },
    {
      "metadata": {
        "ExecuteTime": {
          "start_time": "2020-02-08T21:37:56.942065Z",
          "end_time": "2020-02-08T21:37:56.98178Z"
        },
        "trusted": true
      },
      "cell_type": "code",
      "source": "(~((filedata > 50) & (filedata < 100)))",
      "execution_count": 80,
      "outputs": [
        {
          "output_type": "execute_result",
          "execution_count": 80,
          "data": {
            "text/plain": "array([[ True,  True,  True,  True,  True, False,  True,  True,  True,\n         True,  True,  True,  True,  True,  True,  True,  True,  True],\n       [ True,  True,  True,  True,  True, False,  True, False,  True,\n         True,  True,  True,  True,  True,  True,  True,  True,  True],\n       [ True,  True,  True,  True,  True,  True,  True,  True, False,\n         True,  True,  True,  True,  True,  True,  True, False, False]])"
          },
          "metadata": {}
        }
      ]
    },
    {
      "metadata": {
        "trusted": true
      },
      "cell_type": "code",
      "source": "",
      "execution_count": null,
      "outputs": []
    },
    {
      "metadata": {
        "trusted": true
      },
      "cell_type": "code",
      "source": "",
      "execution_count": null,
      "outputs": []
    }
  ],
  "metadata": {
    "kernelspec": {
      "name": "python3",
      "display_name": "Python 3",
      "language": "python"
    },
    "language_info": {
      "mimetype": "text/x-python",
      "nbconvert_exporter": "python",
      "name": "python",
      "pygments_lexer": "ipython3",
      "version": "3.5.4",
      "file_extension": ".py",
      "codemirror_mode": {
        "version": 3,
        "name": "ipython"
      }
    }
  },
  "nbformat": 4,
  "nbformat_minor": 1
}