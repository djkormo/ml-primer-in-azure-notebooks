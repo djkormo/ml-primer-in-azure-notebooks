{
  "cells": [
    {
      "metadata": {},
      "cell_type": "markdown",
      "source": "# IPython's Rich Display System"
    },
    {
      "metadata": {},
      "cell_type": "markdown",
      "source": "In Python, objects can declare their textual representation using the `__repr__` method.  IPython expands on this idea and allows objects to declare other, richer representations including:\n\n* HTML\n* JSON\n* PNG\n* JPEG\n* SVG\n* LaTeX\n\nA single object can declare some or all of these representations; all are handled by IPython's *display system*. This Notebook shows how you can use this display system to incorporate a broad range of content into your Notebooks."
    },
    {
      "metadata": {},
      "cell_type": "markdown",
      "source": "## Basic display imports"
    },
    {
      "metadata": {},
      "cell_type": "markdown",
      "source": "The `display` function is a general purpose tool for displaying different representations of objects. Think of it as `print` for these rich representations."
    },
    {
      "metadata": {
        "ExecuteTime": {
          "start_time": "2020-02-08T21:39:29.393978Z",
          "end_time": "2020-02-08T21:39:29.42135Z"
        },
        "trusted": true
      },
      "cell_type": "code",
      "source": "from IPython.display import display",
      "execution_count": 1,
      "outputs": []
    },
    {
      "metadata": {},
      "cell_type": "markdown",
      "source": "A few points:\n\n* Calling `display` on an object will send **all** possible representations to the Notebook.\n* These representations are stored in the Notebook document.\n* In general the Notebook will use the richest available representation.\n\nIf you want to display a particular representation, there are specific functions for that:"
    },
    {
      "metadata": {
        "ExecuteTime": {
          "start_time": "2020-02-08T21:39:34.608754Z",
          "end_time": "2020-02-08T21:39:34.624198Z"
        },
        "trusted": true
      },
      "cell_type": "code",
      "source": "from IPython.display import display_pretty, display_html, display_jpeg, display_png, display_json, display_latex, display_svg",
      "execution_count": 2,
      "outputs": []
    },
    {
      "metadata": {},
      "cell_type": "markdown",
      "source": "## Images"
    },
    {
      "metadata": {},
      "cell_type": "markdown",
      "source": "To work with images (JPEG, PNG) use the `Image` class."
    },
    {
      "metadata": {
        "ExecuteTime": {
          "start_time": "2020-02-08T21:39:37.996776Z",
          "end_time": "2020-02-08T21:39:38.014336Z"
        },
        "trusted": true
      },
      "cell_type": "code",
      "source": "from IPython.display import Image",
      "execution_count": 3,
      "outputs": []
    },
    {
      "metadata": {
        "ExecuteTime": {
          "start_time": "2020-02-08T21:39:41.112315Z",
          "end_time": "2020-02-08T21:39:41.136454Z"
        },
        "trusted": true
      },
      "cell_type": "code",
      "source": "i = Image(url='img/python-logo.gif')",
      "execution_count": 4,
      "outputs": []
    },
    {
      "metadata": {},
      "cell_type": "markdown",
      "source": "Returning an `Image` object from an expression will automatically display it:"
    },
    {
      "metadata": {
        "ExecuteTime": {
          "start_time": "2020-02-08T21:39:45.247042Z",
          "end_time": "2020-02-08T21:39:45.343041Z"
        },
        "trusted": true
      },
      "cell_type": "code",
      "source": "i",
      "execution_count": 5,
      "outputs": [
        {
          "output_type": "execute_result",
          "execution_count": 5,
          "data": {
            "text/plain": "<IPython.core.display.Image object>",
            "text/html": "<img src=\"img/python-logo.gif\"/>"
          },
          "metadata": {}
        }
      ]
    },
    {
      "metadata": {},
      "cell_type": "markdown",
      "source": "Or you can pass it to `display`:"
    },
    {
      "metadata": {
        "ExecuteTime": {
          "start_time": "2020-02-08T21:39:50.613237Z",
          "end_time": "2020-02-08T21:39:50.656454Z"
        },
        "trusted": true
      },
      "cell_type": "code",
      "source": "display(i)",
      "execution_count": 6,
      "outputs": [
        {
          "output_type": "display_data",
          "data": {
            "text/plain": "<IPython.core.display.Image object>",
            "text/html": "<img src=\"img/python-logo.gif\"/>"
          },
          "metadata": {}
        }
      ]
    },
    {
      "metadata": {},
      "cell_type": "markdown",
      "source": "An image can also be displayed from raw data or a url"
    },
    {
      "metadata": {
        "ExecuteTime": {
          "start_time": "2020-02-08T21:39:54.62913Z",
          "end_time": "2020-02-08T21:39:54.669659Z"
        },
        "trusted": true
      },
      "cell_type": "code",
      "source": "Image(url='http://python.org/images/python-logo.gif')",
      "execution_count": 7,
      "outputs": [
        {
          "output_type": "execute_result",
          "execution_count": 7,
          "data": {
            "text/plain": "<IPython.core.display.Image object>",
            "text/html": "<img src=\"http://python.org/images/python-logo.gif\"/>"
          },
          "metadata": {}
        }
      ]
    },
    {
      "metadata": {},
      "cell_type": "markdown",
      "source": "SVG images are also supported out of the box (since modern browsers do a good job of rendering them):"
    },
    {
      "metadata": {
        "ExecuteTime": {
          "start_time": "2020-02-08T21:40:31.169372Z",
          "end_time": "2020-02-08T21:40:33.335354Z"
        },
        "trusted": true
      },
      "cell_type": "code",
      "source": "from IPython.display import SVG\nSVG(filename='img/python-logo.svg')",
      "execution_count": 8,
      "outputs": [
        {
          "output_type": "error",
          "ename": "FileNotFoundError",
          "evalue": "[Errno 2] No such file or directory: 'img/python-logo.svg'",
          "traceback": [
            "\u001b[0;31m---------------------------------------------------------------------------\u001b[0m",
            "\u001b[0;31mFileNotFoundError\u001b[0m                         Traceback (most recent call last)",
            "\u001b[0;32m<ipython-input-8-b16820647e60>\u001b[0m in \u001b[0;36m<module>\u001b[0;34m()\u001b[0m\n\u001b[1;32m      1\u001b[0m \u001b[0;32mfrom\u001b[0m \u001b[0mIPython\u001b[0m\u001b[0;34m.\u001b[0m\u001b[0mdisplay\u001b[0m \u001b[0;32mimport\u001b[0m \u001b[0mSVG\u001b[0m\u001b[0;34m\u001b[0m\u001b[0m\n\u001b[0;32m----> 2\u001b[0;31m \u001b[0mSVG\u001b[0m\u001b[0;34m(\u001b[0m\u001b[0mfilename\u001b[0m\u001b[0;34m=\u001b[0m\u001b[0;34m'img/python-logo.svg'\u001b[0m\u001b[0;34m)\u001b[0m\u001b[0;34m\u001b[0m\u001b[0m\n\u001b[0m",
            "\u001b[0;32m~/anaconda3_420/lib/python3.5/site-packages/IPython/core/display.py\u001b[0m in \u001b[0;36m__init__\u001b[0;34m(self, data, url, filename, metadata)\u001b[0m\n\u001b[1;32m    606\u001b[0m             \u001b[0mself\u001b[0m\u001b[0;34m.\u001b[0m\u001b[0mmetadata\u001b[0m \u001b[0;34m=\u001b[0m \u001b[0;34m{\u001b[0m\u001b[0;34m}\u001b[0m\u001b[0;34m\u001b[0m\u001b[0m\n\u001b[1;32m    607\u001b[0m \u001b[0;34m\u001b[0m\u001b[0m\n\u001b[0;32m--> 608\u001b[0;31m         \u001b[0mself\u001b[0m\u001b[0;34m.\u001b[0m\u001b[0mreload\u001b[0m\u001b[0;34m(\u001b[0m\u001b[0;34m)\u001b[0m\u001b[0;34m\u001b[0m\u001b[0m\n\u001b[0m\u001b[1;32m    609\u001b[0m         \u001b[0mself\u001b[0m\u001b[0;34m.\u001b[0m\u001b[0m_check_data\u001b[0m\u001b[0;34m(\u001b[0m\u001b[0;34m)\u001b[0m\u001b[0;34m\u001b[0m\u001b[0m\n\u001b[1;32m    610\u001b[0m \u001b[0;34m\u001b[0m\u001b[0m\n",
            "\u001b[0;32m~/anaconda3_420/lib/python3.5/site-packages/IPython/core/display.py\u001b[0m in \u001b[0;36mreload\u001b[0;34m(self)\u001b[0m\n\u001b[1;32m    631\u001b[0m         \u001b[0;34m\"\"\"Reload the raw data from file or URL.\"\"\"\u001b[0m\u001b[0;34m\u001b[0m\u001b[0m\n\u001b[1;32m    632\u001b[0m         \u001b[0;32mif\u001b[0m \u001b[0mself\u001b[0m\u001b[0;34m.\u001b[0m\u001b[0mfilename\u001b[0m \u001b[0;32mis\u001b[0m \u001b[0;32mnot\u001b[0m \u001b[0;32mNone\u001b[0m\u001b[0;34m:\u001b[0m\u001b[0;34m\u001b[0m\u001b[0m\n\u001b[0;32m--> 633\u001b[0;31m             \u001b[0;32mwith\u001b[0m \u001b[0mopen\u001b[0m\u001b[0;34m(\u001b[0m\u001b[0mself\u001b[0m\u001b[0;34m.\u001b[0m\u001b[0mfilename\u001b[0m\u001b[0;34m,\u001b[0m \u001b[0mself\u001b[0m\u001b[0;34m.\u001b[0m\u001b[0m_read_flags\u001b[0m\u001b[0;34m)\u001b[0m \u001b[0;32mas\u001b[0m \u001b[0mf\u001b[0m\u001b[0;34m:\u001b[0m\u001b[0;34m\u001b[0m\u001b[0m\n\u001b[0m\u001b[1;32m    634\u001b[0m                 \u001b[0mself\u001b[0m\u001b[0;34m.\u001b[0m\u001b[0mdata\u001b[0m \u001b[0;34m=\u001b[0m \u001b[0mf\u001b[0m\u001b[0;34m.\u001b[0m\u001b[0mread\u001b[0m\u001b[0;34m(\u001b[0m\u001b[0;34m)\u001b[0m\u001b[0;34m\u001b[0m\u001b[0m\n\u001b[1;32m    635\u001b[0m         \u001b[0;32melif\u001b[0m \u001b[0mself\u001b[0m\u001b[0;34m.\u001b[0m\u001b[0murl\u001b[0m \u001b[0;32mis\u001b[0m \u001b[0;32mnot\u001b[0m \u001b[0;32mNone\u001b[0m\u001b[0;34m:\u001b[0m\u001b[0;34m\u001b[0m\u001b[0m\n",
            "\u001b[0;31mFileNotFoundError\u001b[0m: [Errno 2] No such file or directory: 'img/python-logo.svg'"
          ]
        }
      ]
    },
    {
      "metadata": {},
      "cell_type": "markdown",
      "source": "## Links to local files"
    },
    {
      "metadata": {},
      "cell_type": "markdown",
      "source": "If we want to create a link to one of them, we can call use the `FileLink` object."
    },
    {
      "metadata": {
        "trusted": false
      },
      "cell_type": "code",
      "source": "from IPython.display import FileLink, FileLinks\nFileLink('Part 1 - Running Code.ipynb')",
      "execution_count": null,
      "outputs": []
    },
    {
      "metadata": {},
      "cell_type": "markdown",
      "source": "Alternatively, if we want to link to all of the files in a directory, we can use the `FileLinks` object, passing `'.'` to indicate that we want links generated for the current working directory. Note that if there were other directories under the current directory, `FileLinks` would work in a recursive manner creating links to files in all sub-directories as well."
    },
    {
      "metadata": {
        "trusted": false
      },
      "cell_type": "code",
      "source": "FileLinks('.')",
      "execution_count": null,
      "outputs": []
    },
    {
      "metadata": {},
      "cell_type": "markdown",
      "source": "### Embedded vs Non-embedded Images"
    },
    {
      "metadata": {},
      "cell_type": "markdown",
      "source": "By default, image data is embedded in the Notebook document so that the images can be viewed offline. However it is also possible to tell the `Image` class to only store a *link* to the image. Let's see how this works using a webcam at Berkeley."
    },
    {
      "metadata": {
        "trusted": false
      },
      "cell_type": "code",
      "source": "from IPython.display import Image\n\n# by default Image data are embedded\nEmbed      = Image(    'https://upload.wikimedia.org/wikipedia/commons/1/1e/Stonehenge.jpg')\n\n# if kwarg `url` is given, the embedding is assumed to be false\nSoftLinked = Image(url='https://upload.wikimedia.org/wikipedia/commons/1/1e/Stonehenge.jpg')\n\n# In each case, embed can be specified explicitly with the `embed` kwarg\n# ForceEmbed = Image(url='http://scienceview.berkeley.edu/view/images/newview.jpg', embed=True)",
      "execution_count": null,
      "outputs": []
    },
    {
      "metadata": {},
      "cell_type": "markdown",
      "source": "Here is the embedded version. Note that this image was pulled from the webcam when this code cell was originally run and stored in the Notebook. Unless we rerun this cell, this is not todays image."
    },
    {
      "metadata": {
        "trusted": false
      },
      "cell_type": "code",
      "source": "Embed",
      "execution_count": null,
      "outputs": []
    },
    {
      "metadata": {},
      "cell_type": "markdown",
      "source": "Here is today's image from same webcam at Berkeley, (refreshed every minutes, if you reload the notebook), visible only with an active internet connection, that should be different from the previous one. Notebooks saved with this kind of image will be lighter and always reflect the current version of the source, but the image won't display offline."
    },
    {
      "metadata": {
        "trusted": false
      },
      "cell_type": "code",
      "source": "SoftLinked",
      "execution_count": null,
      "outputs": []
    },
    {
      "metadata": {},
      "cell_type": "markdown",
      "source": "Of course, if you re-run this Notebook, the two images will be the same again."
    },
    {
      "metadata": {},
      "cell_type": "markdown",
      "source": "## Video"
    },
    {
      "metadata": {},
      "cell_type": "markdown",
      "source": "More exotic objects can also be displayed, as long as their representation supports the IPython display protocol.  For example, videos hosted externally on YouTube are easy to load (and writing a similar wrapper for other hosted content is trivial):"
    },
    {
      "metadata": {
        "trusted": false
      },
      "cell_type": "code",
      "source": "from IPython.display import YouTubeVideo\n# a talk about IPython at Sage Days at U. Washington, Seattle.\n# Video credit: William Stein.\nYouTubeVideo('1j_HxD4iLn8')",
      "execution_count": null,
      "outputs": []
    },
    {
      "metadata": {},
      "cell_type": "markdown",
      "source": "Using the nascent video capabilities of modern browsers, you may also be able to display local\nvideos.  At the moment this doesn't work very well in all browsers, so it may or may not work for you;\nwe will continue testing this and looking for ways to make it more robust.  \n\nThe following cell loads a local file called  `animation.m4v`, encodes the raw video as base64 for http\ntransport, and uses the HTML5 video tag to load it. On Chrome 15 it works correctly, displaying a control\nbar at the bottom with a play/pause button and a location slider."
    },
    {
      "metadata": {
        "trusted": false
      },
      "cell_type": "code",
      "source": "from IPython.display import HTML\nfrom base64 import b64encode\nvideo = open(\"img/animation.m4v\", \"rb\").read()\nvideo_encoded = b64encode(video)\nvideo_tag = '<video controls alt=\"test\" src=\"data:video/x-m4v;base64,{0}\">'.format(video_encoded)\nHTML(data=video_tag)",
      "execution_count": null,
      "outputs": []
    },
    {
      "metadata": {},
      "cell_type": "markdown",
      "source": "## HTML"
    },
    {
      "metadata": {},
      "cell_type": "markdown",
      "source": "Python objects can declare HTML representations that will be displayed in the Notebook. If you have some HTML you want to display, simply use the `HTML` class."
    },
    {
      "metadata": {
        "trusted": false
      },
      "cell_type": "code",
      "source": "from IPython.display import HTML",
      "execution_count": null,
      "outputs": []
    },
    {
      "metadata": {
        "trusted": false
      },
      "cell_type": "code",
      "source": "s = \"\"\"<table>\n<tr>\n<th>Header 1</th>\n<th>Header 2</th>\n</tr>\n<tr>\n<td>row 1, cell 1</td>\n<td>row 1, cell 2</td>\n</tr>\n<tr>\n<td>row 2, cell 1</td>\n<td>row 2, cell 2</td>\n</tr>\n</table>\"\"\"",
      "execution_count": null,
      "outputs": []
    },
    {
      "metadata": {
        "trusted": false
      },
      "cell_type": "code",
      "source": "h = HTML(s); h",
      "execution_count": null,
      "outputs": []
    },
    {
      "metadata": {},
      "cell_type": "markdown",
      "source": "Pandas makes use of this capability to allow `DataFrames` to be represented as HTML tables."
    },
    {
      "metadata": {
        "trusted": false
      },
      "cell_type": "code",
      "source": "import pandas",
      "execution_count": null,
      "outputs": []
    },
    {
      "metadata": {},
      "cell_type": "markdown",
      "source": "By default, `DataFrames` will be represented as text; to enable HTML representations we need to set a print option:"
    },
    {
      "metadata": {
        "trusted": false
      },
      "cell_type": "code",
      "source": "pandas.set_option('display.notebook_repr_html', True)",
      "execution_count": null,
      "outputs": []
    },
    {
      "metadata": {},
      "cell_type": "markdown",
      "source": "Here is a small amount of stock data for APPL:"
    },
    {
      "metadata": {
        "trusted": false
      },
      "cell_type": "code",
      "source": "%%file data.csv\nDate,Open,High,Low,Close,Volume,Adj Close\n2012-06-01,569.16,590.00,548.50,584.00,14077000,581.50\n2012-05-01,584.90,596.76,522.18,577.73,18827900,575.26\n2012-04-02,601.83,644.00,555.00,583.98,28759100,581.48\n2012-03-01,548.17,621.45,516.22,599.55,26486000,596.99\n2012-02-01,458.41,547.61,453.98,542.44,22001000,540.12\n2012-01-03,409.40,458.24,409.00,456.48,12949100,454.53",
      "execution_count": null,
      "outputs": []
    },
    {
      "metadata": {},
      "cell_type": "markdown",
      "source": "Read this as into a `DataFrame`:"
    },
    {
      "metadata": {
        "trusted": false
      },
      "cell_type": "code",
      "source": "df = pandas.read_csv('data.csv')",
      "execution_count": null,
      "outputs": []
    },
    {
      "metadata": {},
      "cell_type": "markdown",
      "source": "And view the HTML representation:"
    },
    {
      "metadata": {
        "trusted": false
      },
      "cell_type": "code",
      "source": "df",
      "execution_count": null,
      "outputs": []
    },
    {
      "metadata": {},
      "cell_type": "markdown",
      "source": "## External sites"
    },
    {
      "metadata": {},
      "cell_type": "markdown",
      "source": "You can even embed an entire page from another site in an iframe; for example this is today's Wikipedia\npage for mobile users:"
    },
    {
      "metadata": {
        "trusted": false
      },
      "cell_type": "code",
      "source": "from IPython.display import HTML\nHTML('<iframe src=http://wikipedia.org width=700 height=350></iframe>')",
      "execution_count": null,
      "outputs": []
    },
    {
      "metadata": {},
      "cell_type": "markdown",
      "source": "## LaTeX"
    },
    {
      "metadata": {},
      "cell_type": "markdown",
      "source": "And we also support the display of mathematical expressions typeset in LaTeX, which is rendered\nin the browser thanks to the [MathJax library](http://mathjax.org)."
    },
    {
      "metadata": {
        "trusted": false
      },
      "cell_type": "code",
      "source": "from IPython.display import Math\nMath(r'F(k) = \\int_{-\\infty}^{\\infty} f(x) e^{2\\pi i k} dx')",
      "execution_count": null,
      "outputs": []
    },
    {
      "metadata": {},
      "cell_type": "markdown",
      "source": "With the `Latex` class, you have to include the delimiters yourself.  This allows you to use other LaTeX modes such as `eqnarray`:"
    },
    {
      "metadata": {
        "trusted": false
      },
      "cell_type": "code",
      "source": "from IPython.display import Latex\nLatex(r\"\"\"\\begin{eqnarray}\n\\nabla \\times \\vec{\\mathbf{B}} -\\, \\frac1c\\, \\frac{\\partial\\vec{\\mathbf{E}}}{\\partial t} & = \\frac{4\\pi}{c}\\vec{\\mathbf{j}} \\\\\n\\nabla \\cdot \\vec{\\mathbf{E}} & = 4 \\pi \\rho \\\\\n\\nabla \\times \\vec{\\mathbf{E}}\\, +\\, \\frac1c\\, \\frac{\\partial\\vec{\\mathbf{B}}}{\\partial t} & = \\vec{\\mathbf{0}} \\\\\n\\nabla \\cdot \\vec{\\mathbf{B}} & = 0 \n\\end{eqnarray}\"\"\")",
      "execution_count": null,
      "outputs": []
    },
    {
      "metadata": {},
      "cell_type": "markdown",
      "source": "Or you can enter latex directly with the `%%latex` cell magic:"
    }
  ],
  "metadata": {
    "kernelspec": {
      "name": "python3",
      "display_name": "Python 3",
      "language": "python"
    },
    "language_info": {
      "mimetype": "text/x-python",
      "nbconvert_exporter": "python",
      "name": "python",
      "file_extension": ".py",
      "version": "3.5.4",
      "pygments_lexer": "ipython3",
      "codemirror_mode": {
        "version": 3,
        "name": "ipython"
      }
    }
  },
  "nbformat": 4,
  "nbformat_minor": 1
}