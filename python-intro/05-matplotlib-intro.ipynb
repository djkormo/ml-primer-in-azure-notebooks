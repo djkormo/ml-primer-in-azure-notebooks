{
  "cells": [
    {
      "metadata": {
        "ExecuteTime": {
          "start_time": "2019-12-01T00:26:17.495803Z",
          "end_time": "2019-12-01T00:26:43.96878Z"
        },
        "trusted": true
      },
      "cell_type": "code",
      "source": "import subprocess\nimport sys\nreqs = subprocess.check_output([sys.executable, '-m', 'pip', 'freeze'])\ninstalled_packages = [r.decode().split('==')[0] for r in reqs.split()]\n\nimport sys",
      "execution_count": 1,
      "outputs": []
    },
    {
      "metadata": {
        "ExecuteTime": {
          "start_time": "2019-12-01T00:26:43.978267Z",
          "end_time": "2019-12-01T00:26:44.065345Z"
        },
        "trusted": true
      },
      "cell_type": "code",
      "source": "from IPython.core.interactiveshell import InteractiveShell\nInteractiveShell.ast_node_interactivity = \"all\"",
      "execution_count": 2,
      "outputs": []
    },
    {
      "metadata": {
        "ExecuteTime": {
          "start_time": "2019-12-01T00:26:44.084665Z",
          "end_time": "2019-12-01T00:26:44.219491Z"
        },
        "trusted": true
      },
      "cell_type": "code",
      "source": "#  scipy\nif  not 'matplotlib' in installed_packages:\n  !pip install matplotlib",
      "execution_count": 3,
      "outputs": []
    },
    {
      "metadata": {
        "ExecuteTime": {
          "start_time": "2019-12-01T00:26:44.233133Z",
          "end_time": "2019-12-01T00:27:16.117124Z"
        },
        "trusted": true
      },
      "cell_type": "code",
      "source": "import matplotlib.pyplot as plt",
      "execution_count": 4,
      "outputs": [
        {
          "output_type": "stream",
          "text": "/home/nbuser/anaconda3_501/lib/python3.6/site-packages/matplotlib/font_manager.py:229: UserWarning: Matplotlib is building the font cache using fc-list. This may take a moment.\n  'Matplotlib is building the font cache using fc-list. '\n",
          "name": "stderr"
        }
      ]
    },
    {
      "metadata": {
        "ExecuteTime": {
          "start_time": "2019-12-01T00:27:49.566291Z",
          "end_time": "2019-12-01T00:27:53.159866Z"
        },
        "trusted": true
      },
      "cell_type": "code",
      "source": "x = [0,1,2]\ny = [0,1,4]\n\nfig = plt.figure()\naxes = fig.add_subplot(111)\naxes.plot(x, y)\nplt.show()\n",
      "execution_count": 5,
      "outputs": [
        {
          "output_type": "execute_result",
          "execution_count": 5,
          "data": {
            "text/plain": "[<matplotlib.lines.Line2D at 0x7fd56ba4c400>]"
          },
          "metadata": {}
        },
        {
          "output_type": "display_data",
          "data": {
            "image/png": "[encoded data removed]",
            "text/plain": "<Figure size 432x288 with 1 Axes>"
          },
          "metadata": {
            "needs_background": "light"
          }
        }
      ]
    },
    {
      "metadata": {
        "trusted": true
      },
      "cell_type": "code",
      "source": "",
      "execution_count": null,
      "outputs": []
    }
  ],
  "metadata": {
    "kernelspec": {
      "name": "python36",
      "display_name": "Python 3.6",
      "language": "python"
    },
    "language_info": {
      "mimetype": "text/x-python",
      "nbconvert_exporter": "python",
      "name": "python",
      "pygments_lexer": "ipython3",
      "version": "3.6.6",
      "file_extension": ".py",
      "codemirror_mode": {
        "version": 3,
        "name": "ipython"
      }
    }
  },
  "nbformat": 4,
  "nbformat_minor": 2
}