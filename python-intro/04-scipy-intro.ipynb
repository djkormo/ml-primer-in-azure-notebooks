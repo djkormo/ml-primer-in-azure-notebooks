{
  "cells": [
    {
      "metadata": {
        "ExecuteTime": {
          "start_time": "2019-12-01T00:14:04.941218Z",
          "end_time": "2019-12-01T00:14:30.167738Z"
        },
        "trusted": true
      },
      "cell_type": "code",
      "source": "import subprocess\nimport sys\nreqs = subprocess.check_output([sys.executable, '-m', 'pip', 'freeze'])\ninstalled_packages = [r.decode().split('==')[0] for r in reqs.split()]\n\nimport sys",
      "execution_count": 1,
      "outputs": []
    },
    {
      "metadata": {
        "ExecuteTime": {
          "start_time": "2019-12-01T00:14:30.185919Z",
          "end_time": "2019-12-01T00:14:30.206177Z"
        },
        "trusted": true
      },
      "cell_type": "code",
      "source": "from IPython.core.interactiveshell import InteractiveShell\nInteractiveShell.ast_node_interactivity = \"all\"",
      "execution_count": 2,
      "outputs": []
    },
    {
      "metadata": {
        "ExecuteTime": {
          "start_time": "2019-12-01T00:14:30.223008Z",
          "end_time": "2019-12-01T00:14:30.462824Z"
        },
        "trusted": true
      },
      "cell_type": "code",
      "source": "#  scipy\nif  not 'scipy' in installed_packages:\n  !pip install scipy",
      "execution_count": 3,
      "outputs": []
    },
    {
      "metadata": {
        "ExecuteTime": {
          "start_time": "2019-12-01T00:15:01.971425Z",
          "end_time": "2019-12-01T00:15:02.002744Z"
        },
        "trusted": true
      },
      "cell_type": "code",
      "source": "import scipy as sp\n\nprint(\"Scipy version: \",sp.__version__)",
      "execution_count": 5,
      "outputs": [
        {
          "output_type": "stream",
          "text": "Scipy version:  1.1.0\n",
          "name": "stdout"
        }
      ]
    },
    {
      "metadata": {
        "trusted": true
      },
      "cell_type": "code",
      "source": "",
      "execution_count": null,
      "outputs": []
    }
  ],
  "metadata": {
    "kernelspec": {
      "name": "python36",
      "display_name": "Python 3.6",
      "language": "python"
    },
    "language_info": {
      "mimetype": "text/x-python",
      "nbconvert_exporter": "python",
      "name": "python",
      "pygments_lexer": "ipython3",
      "version": "3.6.6",
      "file_extension": ".py",
      "codemirror_mode": {
        "version": 3,
        "name": "ipython"
      }
    }
  },
  "nbformat": 4,
  "nbformat_minor": 2
}