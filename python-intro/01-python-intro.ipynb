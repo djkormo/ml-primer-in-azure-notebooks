{
 "cells": [
  {
   "cell_type": "code",
   "execution_count": 1,
   "metadata": {
    "collapsed": false
   },
   "outputs": [
    {
     "name": "stdout",
     "output_type": "stream",
     "text": [
      "Powitanie!\n"
     ]
    }
   ],
   "source": [
    "print(\"Powitanie!\")"
   ]
  },
  {
   "cell_type": "markdown",
   "metadata": {},
   "source": [
    "### Podstawowe typy danych\n",
    "#### całkowite\n",
    "#### rzeczywiste\n",
    "#### logiczne\n",
    "#### napisy "
   ]
  },
  {
   "cell_type": "code",
   "execution_count": 2,
   "metadata": {
    "collapsed": false
   },
   "outputs": [
    {
     "data": {
      "text/plain": [
       "3"
      ]
     },
     "execution_count": 2,
     "metadata": {},
     "output_type": "execute_result"
    }
   ],
   "source": [
    "# Python jako kalkulator\n",
    "\n",
    "1+2"
   ]
  },
  {
   "cell_type": "code",
   "execution_count": 3,
   "metadata": {
    "collapsed": false
   },
   "outputs": [
    {
     "data": {
      "text/plain": [
       "7"
      ]
     },
     "execution_count": 3,
     "metadata": {},
     "output_type": "execute_result"
    }
   ],
   "source": [
    "# Priorytety operatorów  dodawania i mnożenia\n",
    "\n",
    "1+2*3"
   ]
  },
  {
   "cell_type": "code",
   "execution_count": 4,
   "metadata": {
    "collapsed": false
   },
   "outputs": [
    {
     "data": {
      "text/plain": [
       "9"
      ]
     },
     "execution_count": 4,
     "metadata": {},
     "output_type": "execute_result"
    }
   ],
   "source": [
    "# wymuszanie priorytetow operacji\n",
    "\n",
    "(1+2)*3"
   ]
  },
  {
   "cell_type": "code",
   "execution_count": 5,
   "metadata": {
    "collapsed": false
   },
   "outputs": [
    {
     "data": {
      "text/plain": [
       "0.5"
      ]
     },
     "execution_count": 5,
     "metadata": {},
     "output_type": "execute_result"
    }
   ],
   "source": [
    "# dzielenie\n",
    "\n",
    "1/2"
   ]
  },
  {
   "cell_type": "code",
   "execution_count": 6,
   "metadata": {
    "collapsed": false
   },
   "outputs": [
    {
     "data": {
      "text/plain": [
       "2.0"
      ]
     },
     "execution_count": 6,
     "metadata": {},
     "output_type": "execute_result"
    }
   ],
   "source": [
    "# dzielenie, ktorego wynikiem jest wartość rzeczywista\n",
    "\n",
    "4.0/2.0"
   ]
  },
  {
   "cell_type": "code",
   "execution_count": 7,
   "metadata": {
    "collapsed": false
   },
   "outputs": [
    {
     "data": {
      "text/plain": [
       "2"
      ]
     },
     "execution_count": 7,
     "metadata": {},
     "output_type": "execute_result"
    }
   ],
   "source": [
    "# dzielenie calkowite\n",
    "\n",
    "5//2"
   ]
  },
  {
   "cell_type": "code",
   "execution_count": 8,
   "metadata": {
    "collapsed": false
   },
   "outputs": [
    {
     "data": {
      "text/plain": [
       "1"
      ]
     },
     "execution_count": 8,
     "metadata": {},
     "output_type": "execute_result"
    }
   ],
   "source": [
    "# nie mylić dzielenia całkowitego // z resztą z dzielenia całkowitego %\n",
    "5%2"
   ]
  },
  {
   "cell_type": "code",
   "execution_count": 9,
   "metadata": {
    "collapsed": false
   },
   "outputs": [
    {
     "data": {
      "text/plain": [
       "int"
      ]
     },
     "execution_count": 9,
     "metadata": {},
     "output_type": "execute_result"
    }
   ],
   "source": [
    "# typ całkowity\n",
    "\n",
    "type(2)"
   ]
  },
  {
   "cell_type": "code",
   "execution_count": 10,
   "metadata": {
    "collapsed": false
   },
   "outputs": [
    {
     "data": {
      "text/plain": [
       "float"
      ]
     },
     "execution_count": 10,
     "metadata": {},
     "output_type": "execute_result"
    }
   ],
   "source": [
    "# typ rzeczywisty\n",
    "\n",
    "type(2.0)"
   ]
  },
  {
   "cell_type": "code",
   "execution_count": 11,
   "metadata": {
    "collapsed": false
   },
   "outputs": [
    {
     "data": {
      "text/plain": [
       "1.0"
      ]
     },
     "execution_count": 11,
     "metadata": {},
     "output_type": "execute_result"
    }
   ],
   "source": [
    "# konwersja typu całkowitego na rzeczywisty\n",
    "\n",
    "float(1)"
   ]
  },
  {
   "cell_type": "code",
   "execution_count": 12,
   "metadata": {
    "collapsed": false
   },
   "outputs": [
    {
     "data": {
      "text/plain": [
       "1"
      ]
     },
     "execution_count": 12,
     "metadata": {},
     "output_type": "execute_result"
    }
   ],
   "source": [
    "# konwersja typu rzeczywistego na całkowity\n",
    "\n",
    "int(1.0)"
   ]
  },
  {
   "cell_type": "code",
   "execution_count": 13,
   "metadata": {
    "collapsed": false
   },
   "outputs": [
    {
     "name": "stdout",
     "output_type": "stream",
     "text": [
      "1\n",
      "<class 'int'>\n"
     ]
    }
   ],
   "source": [
    "# zapiszmy wartość w zmiennej a\n",
    "\n",
    "a=1\n",
    "\n",
    "# wyświetlamy jej wartość\n",
    "\n",
    "print(a)\n",
    "\n",
    "# wyświetlamy jej typ\n",
    "\n",
    "print(type(a))"
   ]
  },
  {
   "cell_type": "code",
   "execution_count": 14,
   "metadata": {
    "collapsed": false
   },
   "outputs": [
    {
     "name": "stdout",
     "output_type": "stream",
     "text": [
      "2.1\n",
      "<class 'float'>\n"
     ]
    }
   ],
   "source": [
    "# python jest typowany dynamiczne, typ zmiennej a moze się zmieniać w czasie\n",
    "\n",
    "a=2.1\n",
    "\n",
    "# wyswietlmy jej wartość\n",
    "\n",
    "print(a)\n",
    "\n",
    "# wyswietlmy jej typ\n",
    "\n",
    "print(type(a))"
   ]
  },
  {
   "cell_type": "code",
   "execution_count": 15,
   "metadata": {
    "collapsed": false
   },
   "outputs": [
    {
     "name": "stdout",
     "output_type": "stream",
     "text": [
      "2.5\n"
     ]
    },
    {
     "ename": "NameError",
     "evalue": "name 'a' is not defined",
     "output_type": "error",
     "traceback": [
      "\u001b[0;31m---------------------------------------------------------------------------\u001b[0m",
      "\u001b[0;31mNameError\u001b[0m                                 Traceback (most recent call last)",
      "\u001b[0;32m<ipython-input-15-a90c5f43f700>\u001b[0m in \u001b[0;36m<module>\u001b[0;34m()\u001b[0m\n\u001b[1;32m     10\u001b[0m \u001b[1;31m#uzycie usuniętej zmiennej konczy się błędem\u001b[0m\u001b[1;33m\u001b[0m\u001b[1;33m\u001b[0m\u001b[0m\n\u001b[1;32m     11\u001b[0m \u001b[1;33m\u001b[0m\u001b[0m\n\u001b[0;32m---> 12\u001b[0;31m \u001b[0mprint\u001b[0m\u001b[1;33m(\u001b[0m\u001b[0ma\u001b[0m\u001b[1;33m)\u001b[0m\u001b[1;33m\u001b[0m\u001b[0m\n\u001b[0m",
      "\u001b[0;31mNameError\u001b[0m: name 'a' is not defined"
     ]
    }
   ],
   "source": [
    "#usuwanie zmiennych\n",
    "\n",
    "a=2.5\n",
    "print(a)\n",
    "\n",
    "#usuwamy zmienną a\n",
    "\n",
    "del a\n",
    "\n",
    "#uzycie usuniętej zmiennej konczy się błędem\n",
    "\n",
    "print(a)"
   ]
  },
  {
   "cell_type": "code",
   "execution_count": 16,
   "metadata": {
    "collapsed": false
   },
   "outputs": [
    {
     "ename": "NameError",
     "evalue": "name 'B' is not defined",
     "output_type": "error",
     "traceback": [
      "\u001b[0;31m---------------------------------------------------------------------------\u001b[0m",
      "\u001b[0;31mNameError\u001b[0m                                 Traceback (most recent call last)",
      "\u001b[0;32m<ipython-input-16-6d77e211bb3c>\u001b[0m in \u001b[0;36m<module>\u001b[0;34m()\u001b[0m\n\u001b[1;32m      2\u001b[0m \u001b[1;33m\u001b[0m\u001b[0m\n\u001b[1;32m      3\u001b[0m \u001b[0mb\u001b[0m\u001b[1;33m=\u001b[0m\u001b[1;36m1.0\u001b[0m\u001b[1;33m\u001b[0m\u001b[0m\n\u001b[0;32m----> 4\u001b[0;31m \u001b[0mprint\u001b[0m\u001b[1;33m(\u001b[0m\u001b[0mB\u001b[0m\u001b[1;33m)\u001b[0m \u001b[1;31m#name 'B' is not defined\u001b[0m\u001b[1;33m\u001b[0m\u001b[0m\n\u001b[0m",
      "\u001b[0;31mNameError\u001b[0m: name 'B' is not defined"
     ]
    }
   ],
   "source": [
    "#Python rozróżnia duże i małe litery\n",
    "\n",
    "b=1.0\n",
    "print(B) #name 'B' is not defined\n"
   ]
  },
  {
   "cell_type": "code",
   "execution_count": 17,
   "metadata": {
    "collapsed": false
   },
   "outputs": [
    {
     "name": "stdout",
     "output_type": "stream",
     "text": [
      "1.0 <class 'float'> 102 <class 'int'>\n"
     ]
    }
   ],
   "source": [
    "# dwie różne zmienne  o dwóch różnych typach\n",
    "\n",
    "b=1.0\n",
    "B=102\n",
    "print(b,type(b),B,type(B))"
   ]
  },
  {
   "cell_type": "code",
   "execution_count": 18,
   "metadata": {
    "collapsed": false
   },
   "outputs": [
    {
     "name": "stdout",
     "output_type": "stream",
     "text": [
      "NApis1NApis1NApis1NApis1NApis1\n",
      "NApis1 Napis2\n",
      "13\n",
      "NAPIS1 NAPIS2\n",
      "napis1 napis2\n",
      "Napis1 napis2\n",
      "NNApis1 NNapis2\n",
      "       NApis1 Napis2\n",
      "NApis1 Napis2       \n",
      "   NApis1 Napis2    \n",
      "napis ze spacjami po obu stronach\n",
      "Witamy w roku 2018\n"
     ]
    }
   ],
   "source": [
    "# utworzenie zmiennych typu napis, możemy stosować jak ograniczniki znaki \" jak rownież '\n",
    "\n",
    "s1=\"NApis1\"\n",
    "s2='Napis2'\n",
    "\n",
    "# powielamy pięć razy zawartość zmiennej s1 i umieszczamy całość w zmiennje s3\n",
    "\n",
    "s3=5*s1\n",
    "print(s3)\n",
    "\n",
    "# sklejanie napisów za pomocą operatora +\n",
    "\n",
    "s4=s1+\" \"+s2\n",
    "print(s4)\n",
    "\n",
    "# postawowe funkcje operujące na napisach\n",
    "\n",
    "print(len(s4)) # dlugość napisu\n",
    "print(s4.upper()) # zamiana na duze litery\n",
    "print(s4.lower()) # zamiana na male litery\n",
    "\n",
    "print(s4.capitalize())  # kapitalizacja napisu\n",
    "print(s4.replace('N', 'NN'))  #zamiana N na NN\n",
    "print(s4.rjust(20)) #dopasowanie do prawej napisu , pozostałe znaki wypełnione spacją \n",
    "print(s4.ljust(20)) #dopasowanie do lewej napisu, pozostałe znaki wypełnione spacją-\n",
    "print(s4.center(20)) #dopasowanie do lewej napisu, pozostałe znaki wypełnione spacją-\n",
    "print('  napis ze spacjami po obu stronach     '.strip())\n",
    "\n",
    "# formatowanie napisu wyjściowego\n",
    "\n",
    "s5 ='{0} {1} {2}'.format('Witamy', 'w roku',2018)\n",
    "print(s5)  "
   ]
  },
  {
   "cell_type": "code",
   "execution_count": 19,
   "metadata": {
    "collapsed": false
   },
   "outputs": [
    {
     "name": "stdout",
     "output_type": "stream",
     "text": [
      "True False\n",
      "<class 'bool'>\n",
      "False\n",
      "True\n",
      "True\n",
      "True\n"
     ]
    }
   ],
   "source": [
    "#typy logiczne przyjmują tylko dwie wartości prawda/fałsz\n",
    "\n",
    "l1=True\n",
    "l2=False\n",
    "\n",
    "#wyswietlamy wartośc obu zmiennych\n",
    "\n",
    "print(l1,l2)\n",
    "print(type(l1))\n",
    "\n",
    "#operator  iloczynu logicznego AND\n",
    "\n",
    "print(l1 and l2)\n",
    "\n",
    "#operator sumy logicznej OR\n",
    "\n",
    "print(l1 or l2)\n",
    "\n",
    "# operator negacji NOT\n",
    "\n",
    "print (not l2)\n",
    "\n",
    "# alternatywa rozłączna XOR\n",
    "\n",
    "print (l1 != l2)"
   ]
  },
  {
   "cell_type": "markdown",
   "metadata": {},
   "source": [
    "### System pomocy"
   ]
  },
  {
   "cell_type": "code",
   "execution_count": 20,
   "metadata": {
    "collapsed": false
   },
   "outputs": [
    {
     "name": "stdout",
     "output_type": "stream",
     "text": [
      "Help on built-in function print in module builtins:\n",
      "\n",
      "print(...)\n",
      "    print(value, ..., sep=' ', end='\\n', file=sys.stdout, flush=False)\n",
      "    \n",
      "    Prints the values to a stream, or to sys.stdout by default.\n",
      "    Optional keyword arguments:\n",
      "    file:  a file-like object (stream); defaults to the current sys.stdout.\n",
      "    sep:   string inserted between values, default a space.\n",
      "    end:   string appended after the last value, default a newline.\n",
      "    flush: whether to forcibly flush the stream.\n",
      "\n",
      "Help on built-in function len in module builtins:\n",
      "\n",
      "len(obj, /)\n",
      "    Return the number of items in a container.\n",
      "\n"
     ]
    }
   ],
   "source": [
    "#  polecenie help pozwala na dostęp do systemowej pomocy  Pythona\n",
    "help(print)\n",
    "help(len)"
   ]
  },
  {
   "cell_type": "code",
   "execution_count": 22,
   "metadata": {
    "collapsed": true
   },
   "outputs": [],
   "source": [
    "# istnieje też możliwość otrzymania pomocy wykorzystując składnię Jupitera. To nie jest część języka Python (!)\n",
    "\n",
    "# dodajemy znak ? przed nazwą funkcji\n",
    "\n",
    "?print\n",
    "\n",
    "# to samo jeśli dodamy znak ? po nazwie funkcji\n",
    "\n",
    "print?"
   ]
  },
  {
   "cell_type": "markdown",
   "metadata": {},
   "source": [
    "### Konwersja typów"
   ]
  },
  {
   "cell_type": "code",
   "execution_count": 23,
   "metadata": {
    "collapsed": false
   },
   "outputs": [
    {
     "name": "stdout",
     "output_type": "stream",
     "text": [
      "poczatek:  1 0\n",
      "konwersja z int:  True False True True\n",
      "konwersja z float: True False True True\n",
      "KOnwersja ze string:  False True True True\n"
     ]
    }
   ],
   "source": [
    "#konwersja typu logicznego na całkowity \n",
    "\n",
    "a1=int(True)\n",
    "a2=int(False)\n",
    "print('poczatek: ',a1,a2)\n",
    "\n",
    "#konwersja typu całkowitego na logiczny 0 -> False, pozostałe liczby -> True\n",
    "\n",
    "b1=bool(-1)\n",
    "b2=bool(0)\n",
    "b3=bool(1)\n",
    "b4=bool(2)\n",
    "print('konwersja z int: ',b1,b2,b3,b4)\n",
    "\n",
    "\n",
    "#konwersja typu  rzeczywistego na logiczny 0.0 -> False, pozostałe liczby -> True\n",
    "\n",
    "b11=bool(-1.0)\n",
    "b21=bool(0.0)\n",
    "b31=bool(1.5)\n",
    "b41=bool(5.6)\n",
    "print('konwersja z float:', b11,b21,b31,b41)\n",
    "\n",
    "\n",
    "# konwersja napisu na typ logiczny, pusty napis -> False, pozostałe -> True\n",
    "\n",
    "b12=bool('')\n",
    "b22=bool('Ala')\n",
    "b32=bool('ma')\n",
    "b42=bool('kota')\n",
    "print('KOnwersja ze string: ',b12,b22,b32,b42)\n",
    "\n"
   ]
  },
  {
   "cell_type": "code",
   "execution_count": 24,
   "metadata": {
    "collapsed": false
   },
   "outputs": [
    {
     "name": "stdout",
     "output_type": "stream",
     "text": [
      "1312\n",
      "<class 'int'>\n",
      "169\n",
      "<class 'int'>\n",
      "1143.0 <class 'float'>\n",
      "1143.0 <class 'str'>\n"
     ]
    }
   ],
   "source": [
    "#konwesja typu łańcuchowego i liczowego\n",
    "\n",
    "s1='13'\n",
    "s2='12'\n",
    "a1=int(s1+s2)\n",
    "print(a1)\n",
    "print(type(a1))\n",
    "\n",
    "# konwersja połączona z operarorem potęgowania **\n",
    "\n",
    "a2=int(s1)**2\n",
    "print(a2)\n",
    "print(type(a2))\n",
    "\n",
    "# konwersja typu łańcuchowego przez typ całowity do typu rzeczywistego\n",
    "\n",
    "f1 = float(int(a1)-int(a2))\n",
    "print(f1, type(f1))\n",
    "\n",
    "# konwersja typu rzeczywistego na łańcuchowy\n",
    "\n",
    "s3=str(f1)\n",
    "print(s3,type(s3))"
   ]
  },
  {
   "cell_type": "markdown",
   "metadata": {},
   "source": [
    "### Kilka sztuczek"
   ]
  },
  {
   "cell_type": "code",
   "execution_count": 25,
   "metadata": {
    "collapsed": false
   },
   "outputs": [
    {
     "name": "stdout",
     "output_type": "stream",
     "text": [
      "Stan wejściowy:  5 7 <class 'int'> <class 'int'>\n",
      "Stan wyjściowy  z dodatkową zmienną:  7 5 <class 'int'> <class 'int'>\n",
      "Stan wejściowy:  7 5 <class 'int'> <class 'int'>\n",
      "Stan wyjściowy z krotką:  5 7 <class 'int'> <class 'int'>\n"
     ]
    }
   ],
   "source": [
    "# zamiana wartości dwoch zmiennych\n",
    "\n",
    "z1 =5\n",
    "z2 =7\n",
    "\n",
    "print('Stan wejściowy: ',z1,z2, type(z1),type(z2))\n",
    "\n",
    "# klasycznie za pomocą dodatkowej zmiennej\n",
    "\n",
    "temp= z1\n",
    "z1  = z2\n",
    "z2  = temp\n",
    "\n",
    "print('Stan wyjściowy  z dodatkową zmienną: ',z1,z2, type(z1),type(z2))\n",
    "\n",
    "# sprytnie, bez pomocy dodatkowej zmiennej\n",
    "# tu zastosowano krotkę (tuple) \n",
    "# będzie o tym w dalszej cześć kursu\n",
    "\n",
    "print('Stan wejściowy: ',z1,z2, type(z1),type(z2))\n",
    "\n",
    "# krotka w tle\n",
    "z1, z2 = z2, z1\n",
    "\n",
    "print('Stan wyjściowy z krotką: ',z1,z2, type(z1),type(z2))\n",
    "\n"
   ]
  },
  {
   "cell_type": "code",
   "execution_count": 26,
   "metadata": {
    "collapsed": false
   },
   "outputs": [
    {
     "name": "stdout",
     "output_type": "stream",
     "text": [
      "1 2 3 4.5 Jest parno <class 'int'> <class 'int'> <class 'int'> <class 'float'> <class 'str'>\n"
     ]
    }
   ],
   "source": [
    "# Komentarze w Języku Python to znak #, po którym wszystkie znaki do końca linii sa ignorowane przez interpreter\n",
    "\n",
    "a, b,c,d,s = 1, 2,3,4.5,'Jest parno' # deklarujemy wartość kilku zmiennych w jednej linii \n",
    "# Na szczęście można też tworzyć komentarze  o zakresie wielu linii \n",
    "'''\n",
    "To jest komentarz, który można zapisać w wielu liniach.\n",
    "Często jest stosowany na początku definicji funkcji.\n",
    "'''\n",
    "print(a,b,c,d,s, type(a),type(b),type(c),type(d),type(s))\n",
    "\n"
   ]
  },
  {
   "cell_type": "code",
   "execution_count": 27,
   "metadata": {
    "collapsed": false
   },
   "outputs": [
    {
     "name": "stdout",
     "output_type": "stream",
     "text": [
      "-256\n",
      "256\n"
     ]
    }
   ],
   "source": [
    "# potegowanie ma wyższy priorytet niż mnożenie, dodawanie, ale również zmianę znaku (operator unarny) (!)\n",
    "\n",
    "print(-2**8)   # wynik -256\n",
    "\n",
    "# w takiej sytuacji zawsze można wymusić priorytet wykorzystująca nawiasy ()\n",
    "\n",
    "print((-2)**8) # wynik 256\n"
   ]
  },
  {
   "cell_type": "code",
   "execution_count": 28,
   "metadata": {
    "collapsed": false
   },
   "outputs": [
    {
     "name": "stdout",
     "output_type": "stream",
     "text": [
      "2\n",
      "-3\n",
      "1.0\n",
      "1.0999999999999999\n"
     ]
    }
   ],
   "source": [
    "# Dzielenie modulo % i // ma zastosowanie nie tylko dla liczb całkowitych dodatnich, ale również dla liczb całkowitych ujemnych\n",
    "# a nawet liczb rzeczywistych\n",
    "\n",
    "# Dzielenie całkowite dla liczb całkowitych ujemnych\n",
    "\n",
    "print(-13//-5)\n",
    "\n",
    "# Dzielenie całkowite dla liczb całkowitych ujemnych\n",
    "\n",
    "print(-13%-5)\n",
    "\n",
    "\n",
    "# Dzielenie całkowite dla liczb rzeczywistych\n",
    "\n",
    "print(2.4//1.3)\n",
    "\n",
    "# Dzielenie modulo  dla liczb rzeczywistych\n",
    "\n",
    "print(2.4%1.3)\n",
    "\n",
    "\n"
   ]
  },
  {
   "cell_type": "code",
   "execution_count": 29,
   "metadata": {
    "collapsed": false
   },
   "outputs": [
    {
     "name": "stdout",
     "output_type": "stream",
     "text": [
      "(2+5j) (2-4j) <class 'complex'> <class 'complex'>\n",
      "(4+1j) 9j (24+2j) (-0.8+0.9j) <class 'complex'> <class 'complex'> <class 'complex'> <class 'complex'>\n",
      "5.0\n",
      "(-21+20j)\n",
      "2.0 <class 'float'>\n",
      "5.0 <class 'float'>\n",
      "(2-5j) <class 'complex'>\n",
      "(67.47891523845588-30.879431343588244j) <class 'complex'>\n"
     ]
    }
   ],
   "source": [
    "# Python udostępnia również odpowiednik liczb zespolonych\n",
    "\n",
    "\n",
    "c1=2+5j\n",
    "c2=2-4j\n",
    "\n",
    "print(c1,c2,type(c1),type(c2))\n",
    "\n",
    "\n",
    "# dodawanie\n",
    "\n",
    "c3=c1+c2\n",
    "\n",
    "# odejmowanie\n",
    "\n",
    "c4 =c1-c2\n",
    "\n",
    "# mnozenie \n",
    "\n",
    "c5=c1*c2\n",
    "\n",
    "# dzielenie\n",
    "\n",
    "c6=c1/c2\n",
    "\n",
    "print(c3,c4,c5,c6,type(c3),type(c4),type(c5),type(c6))\n",
    "\n",
    "# są też dostępne inne operacje\n",
    "\n",
    "# moduł \n",
    "\n",
    "print(abs(3+4j))  #   \n",
    "\n",
    "# potegowanie\n",
    "\n",
    "print(pow(c1, 2))\n",
    "\n",
    "# tworzenie zmiennej typu zespolonego\n",
    "c7=complex(2,5) # 2+5j\n",
    "print(c7.real,type(c7.real)) # część rzeczywista  2.0\n",
    "print(c7.imag,type(c7.imag)) # część urojona 5.0\n",
    "print(c7.conjugate(),type(c7.conjugate())) \n",
    "\n",
    "# do bardziej skompilowanych wyrażeń mozna wykorzystać modul cmath\n",
    "\n",
    "import cmath\n",
    "print(cmath.sin(2 + 5j), type(cmath.sin(2 + 5j)))\n"
   ]
  },
  {
   "cell_type": "code",
   "execution_count": 47,
   "metadata": {
    "collapsed": false
   },
   "outputs": [
    {
     "name": "stdout",
     "output_type": "stream",
     "text": [
      "9223372036854775807\n",
      "9223372036854775807 <class 'int'>\n",
      "340282366920938463463374607431768211456 <class 'int'>\n"
     ]
    }
   ],
   "source": [
    "import sys\n",
    "\n",
    "# maksymalnia wartość liczby całkowitej 64 bitowej\n",
    "\n",
    "print(sys.maxsize)\n",
    "\n",
    "amax=amax=2**63 -1\n",
    "\n",
    "print(amax,type(amax))\n",
    "\n",
    "# przekraczamy wartość maksymalną, czy pojawi się błąd ?\n",
    "amax=2**128\n",
    "\n",
    "print(amax,type(amax)) # nadal typu int\n"
   ]
  },
  {
   "cell_type": "code",
   "execution_count": 58,
   "metadata": {
    "collapsed": false
   },
   "outputs": [
    {
     "name": "stdout",
     "output_type": "stream",
     "text": [
      "size: 28 value: 65536\n",
      "size: 32 value: 4294967296\n",
      "size: 36 value: 18446744073709551616\n",
      "size: 44 value: 340282366920938463463374607431768211456\n",
      "size: 60 value: 115792089237316195423570985008687907853269984665640564039457584007913129639936\n"
     ]
    }
   ],
   "source": [
    "# przykład z poprzedniej komorki, który obrazuje dodawania kolejnych bajtów dla zmiennej całkowitej\n",
    "# rozszerzanie on demand\n",
    "\n",
    "#  mały przedsmak  wykorzystania pętli for\n",
    "\n",
    "x=256\n",
    "for i in range(1,6):\n",
    "  x=x*x\n",
    "  print (\"size:\", x.__sizeof__(), \"value:\", x)"
   ]
  },
  {
   "cell_type": "code",
   "execution_count": 51,
   "metadata": {
    "collapsed": false
   },
   "outputs": [
    {
     "name": "stdout",
     "output_type": "stream",
     "text": [
      "15 83 255\n"
     ]
    }
   ],
   "source": [
    "# liczby całkowite mogą stosować inne systemy niż dziesiętny\n",
    "\n",
    "# system dwójkowy -> liczbe rozpoczybamy od 0b\n",
    "\n",
    "abin=0b1111 # 1*2**3 + 1*2**2 + 1*2**1 +1*2**0 = 8 + 4 + 2 + 1 =15\n",
    "\n",
    "# system usemkowy -> liczbe rozpoczybamy od 0o\n",
    "\n",
    "aoct = 0o123 # 1*8**2 + 2*8**1 + 3 * 8**0 = 64 + 16 +3 = 83\n",
    "\n",
    "# system szestnastkowy -> liczbe rozpoczybamy od 0x\n",
    "\n",
    "ahex =0xff # 15*16**1 + 15*16**0 =  240 + 15 = 255\n",
    "\n",
    "print(abin,aoct,ahex)"
   ]
  },
  {
   "cell_type": "code",
   "execution_count": null,
   "metadata": {
    "collapsed": true
   },
   "outputs": [],
   "source": []
  }
 ],
 "metadata": {
  "kernelspec": {
   "display_name": "Python 3",
   "language": "python",
   "name": "python3"
  },
  "language_info": {
   "codemirror_mode": {
    "name": "ipython",
    "version": 3
   },
   "file_extension": ".py",
   "mimetype": "text/x-python",
   "name": "python",
   "nbconvert_exporter": "python",
   "pygments_lexer": "ipython3",
   "version": "3.6.6"
  }
 },
 "nbformat": 4,
 "nbformat_minor": 2
}
