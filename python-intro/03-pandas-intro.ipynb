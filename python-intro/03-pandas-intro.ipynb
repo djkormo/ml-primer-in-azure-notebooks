{
  "cells": [
    {
      "metadata": {},
      "cell_type": "markdown",
      "source": "## package pandas\n##### based on https://www.dataquest.io/blog/pandas-python-tutorial/"
    },
    {
      "metadata": {
        "ExecuteTime": {
          "start_time": "2019-12-01T00:07:23.031471Z",
          "end_time": "2019-12-01T00:07:36.229955Z"
        },
        "trusted": true
      },
      "cell_type": "code",
      "source": "import subprocess\nimport sys\nreqs = subprocess.check_output([sys.executable, '-m', 'pip', 'freeze'])\ninstalled_packages = [r.decode().split('==')[0] for r in reqs.split()]\n\nimport sys",
      "execution_count": 2,
      "outputs": []
    },
    {
      "metadata": {
        "ExecuteTime": {
          "start_time": "2019-12-01T00:07:36.257881Z",
          "end_time": "2019-12-01T00:07:36.276956Z"
        },
        "trusted": true
      },
      "cell_type": "code",
      "source": "from IPython.core.interactiveshell import InteractiveShell\nInteractiveShell.ast_node_interactivity = \"all\"",
      "execution_count": 1,
      "outputs": []
    },
    {
      "metadata": {
        "ExecuteTime": {
          "start_time": "2019-12-01T00:08:07.079849Z",
          "end_time": "2019-12-01T00:08:07.113063Z"
        },
        "trusted": true
      },
      "cell_type": "code",
      "source": "#  pandas\nif  not 'pandas' in installed_packages:\n  !pip install pandas",
      "execution_count": 3,
      "outputs": []
    },
    {
      "metadata": {
        "ExecuteTime": {
          "start_time": "2019-12-01T00:08:09.331129Z",
          "end_time": "2019-12-01T00:08:15.724244Z"
        },
        "trusted": true
      },
      "cell_type": "code",
      "source": "import pandas as pd\nprint(\"Pandas version: \",pd.__version__)",
      "execution_count": 4,
      "outputs": [
        {
          "output_type": "stream",
          "text": "Pandas version:  0.23.4\n",
          "name": "stdout"
        }
      ]
    },
    {
      "metadata": {
        "trusted": true
      },
      "cell_type": "markdown",
      "source": "Importing Data with Pandas"
    },
    {
      "metadata": {
        "trusted": true
      },
      "cell_type": "code",
      "source": "!wget https://www.dataquest.io/wp-content/uploads/2019/09/ign.csv -O ign.csv",
      "execution_count": 5,
      "outputs": [
        {
          "output_type": "stream",
          "text": "--2020-03-07 15:50:45--  https://www.dataquest.io/wp-content/uploads/2019/09/ign.csv\nResolving webproxy (webproxy)... 10.36.35.1\nConnecting to webproxy (webproxy)|10.36.35.1|:3128... connected.\nProxy request sent, awaiting response... 200 OK\nLength: unspecified [application/octet-stream]\nSaving to: ‘ign.csv’\n\nign.csv                 [                <=> ]   1.93M   586KB/s    in 3.4s    \n\n2020-03-07 15:50:49 (586 KB/s) - ‘ign.csv’ saved [2019628]\n\n",
          "name": "stdout"
        }
      ]
    },
    {
      "metadata": {
        "trusted": true
      },
      "cell_type": "code",
      "source": "reviews = pd.read_csv(\"ign.csv\")",
      "execution_count": 6,
      "outputs": []
    },
    {
      "metadata": {
        "trusted": true
      },
      "cell_type": "code",
      "source": "reviews.shape",
      "execution_count": 7,
      "outputs": [
        {
          "output_type": "execute_result",
          "execution_count": 7,
          "data": {
            "text/plain": "(18625, 11)"
          },
          "metadata": {}
        }
      ]
    },
    {
      "metadata": {
        "trusted": true
      },
      "cell_type": "code",
      "source": "reviews.columns",
      "execution_count": 8,
      "outputs": [
        {
          "output_type": "execute_result",
          "execution_count": 8,
          "data": {
            "text/plain": "Index(['Unnamed: 0', 'score_phrase', 'title', 'url', 'platform', 'score',\n       'genre', 'editors_choice', 'release_year', 'release_month',\n       'release_day'],\n      dtype='object')"
          },
          "metadata": {}
        }
      ]
    },
    {
      "metadata": {
        "trusted": true
      },
      "cell_type": "code",
      "source": "reviews.dtypes",
      "execution_count": 10,
      "outputs": [
        {
          "output_type": "execute_result",
          "execution_count": 10,
          "data": {
            "text/plain": "Unnamed: 0          int64\nscore_phrase       object\ntitle              object\nurl                object\nplatform           object\nscore             float64\ngenre              object\neditors_choice     object\nrelease_year        int64\nrelease_month       int64\nrelease_day         int64\ndtype: object"
          },
          "metadata": {}
        }
      ]
    },
    {
      "metadata": {},
      "cell_type": "markdown",
      "source": "### Meaning of data in columns\nscore_phrase — how IGN described the game in one word. This is linked to the score it received.\n\ntitle — the name of the game.\n\nurl — the URL where you can see the full review.\n\nplatform — the platform the game was reviewed on (PC, PS4, etc).\nscore — the score for the game, from 1.0 to 10.0.\n\ngenre — the genre of the game.\n\neditors_choice — N if the game wasn’t an editor’s choice, Y if it was. This is tied to score.\n\nrelease_year — the year the game was released.\n\nrelease_month — the month the game was released.\n\nrelease_day — the day the game was released.\n"
    },
    {
      "metadata": {},
      "cell_type": "markdown",
      "source": " Once we read in a DataFrame, it’s helpful to take a look at what we’ve got in a more visual way. Conveniently, Pandas gives us two methods that make it fast to print out the data a table. These functions are:\n\n    DataFrame.head() — prints the first N rows of a DataFrame, where N is a number you pass as an argument to the function, i.e. DataFrame.head(7). If you don’t pass any argument, the default is 5.\n    DataFrame.tail() — prints the last N rows of a DataFrame. Again, the default is 5.\n\nWe’ll use the head method to see what’s in reviews: "
    },
    {
      "metadata": {
        "trusted": true
      },
      "cell_type": "code",
      "source": "reviews.head()",
      "execution_count": 9,
      "outputs": [
        {
          "output_type": "execute_result",
          "execution_count": 9,
          "data": {
            "text/html": "<div>\n<style scoped>\n    .dataframe tbody tr th:only-of-type {\n        vertical-align: middle;\n    }\n\n    .dataframe tbody tr th {\n        vertical-align: top;\n    }\n\n    .dataframe thead th {\n        text-align: right;\n    }\n</style>\n<table border=\"1\" class=\"dataframe\">\n  <thead>\n    <tr style=\"text-align: right;\">\n      <th></th>\n      <th>Unnamed: 0</th>\n      <th>score_phrase</th>\n      <th>title</th>\n      <th>url</th>\n      <th>platform</th>\n      <th>score</th>\n      <th>genre</th>\n      <th>editors_choice</th>\n      <th>release_year</th>\n      <th>release_month</th>\n      <th>release_day</th>\n    </tr>\n  </thead>\n  <tbody>\n    <tr>\n      <th>0</th>\n      <td>0</td>\n      <td>Amazing</td>\n      <td>LittleBigPlanet PS Vita</td>\n      <td>/games/littlebigplanet-vita/vita-98907</td>\n      <td>PlayStation Vita</td>\n      <td>9.0</td>\n      <td>Platformer</td>\n      <td>Y</td>\n      <td>2012</td>\n      <td>9</td>\n      <td>12</td>\n    </tr>\n    <tr>\n      <th>1</th>\n      <td>1</td>\n      <td>Amazing</td>\n      <td>LittleBigPlanet PS Vita -- Marvel Super Hero E...</td>\n      <td>/games/littlebigplanet-ps-vita-marvel-super-he...</td>\n      <td>PlayStation Vita</td>\n      <td>9.0</td>\n      <td>Platformer</td>\n      <td>Y</td>\n      <td>2012</td>\n      <td>9</td>\n      <td>12</td>\n    </tr>\n    <tr>\n      <th>2</th>\n      <td>2</td>\n      <td>Great</td>\n      <td>Splice: Tree of Life</td>\n      <td>/games/splice/ipad-141070</td>\n      <td>iPad</td>\n      <td>8.5</td>\n      <td>Puzzle</td>\n      <td>N</td>\n      <td>2012</td>\n      <td>9</td>\n      <td>12</td>\n    </tr>\n    <tr>\n      <th>3</th>\n      <td>3</td>\n      <td>Great</td>\n      <td>NHL 13</td>\n      <td>/games/nhl-13/xbox-360-128182</td>\n      <td>Xbox 360</td>\n      <td>8.5</td>\n      <td>Sports</td>\n      <td>N</td>\n      <td>2012</td>\n      <td>9</td>\n      <td>11</td>\n    </tr>\n    <tr>\n      <th>4</th>\n      <td>4</td>\n      <td>Great</td>\n      <td>NHL 13</td>\n      <td>/games/nhl-13/ps3-128181</td>\n      <td>PlayStation 3</td>\n      <td>8.5</td>\n      <td>Sports</td>\n      <td>N</td>\n      <td>2012</td>\n      <td>9</td>\n      <td>11</td>\n    </tr>\n  </tbody>\n</table>\n</div>",
            "text/plain": "   Unnamed: 0 score_phrase                                              title  \\\n0           0      Amazing                            LittleBigPlanet PS Vita   \n1           1      Amazing  LittleBigPlanet PS Vita -- Marvel Super Hero E...   \n2           2        Great                               Splice: Tree of Life   \n3           3        Great                                             NHL 13   \n4           4        Great                                             NHL 13   \n\n                                                 url          platform  score  \\\n0             /games/littlebigplanet-vita/vita-98907  PlayStation Vita    9.0   \n1  /games/littlebigplanet-ps-vita-marvel-super-he...  PlayStation Vita    9.0   \n2                          /games/splice/ipad-141070              iPad    8.5   \n3                      /games/nhl-13/xbox-360-128182          Xbox 360    8.5   \n4                           /games/nhl-13/ps3-128181     PlayStation 3    8.5   \n\n        genre editors_choice  release_year  release_month  release_day  \n0  Platformer              Y          2012              9           12  \n1  Platformer              Y          2012              9           12  \n2      Puzzle              N          2012              9           12  \n3      Sports              N          2012              9           11  \n4      Sports              N          2012              9           11  "
          },
          "metadata": {}
        }
      ]
    },
    {
      "metadata": {},
      "cell_type": "markdown",
      "source": "### Indexing DataFrames with Pandas\n\nEarlier, we used the head method to print the first 5 rows of reviews. We could accomplish the same thing using the pandas.DataFrame.iloc method. The iloc method allows us to retrieve rows and columns by position. In order to do that, we’ll need to specify the positions of the rows that we want, and the positions of the columns that we want as well. The below code will replicate the results of our reviews.head() by selecting rows zero to five, and all of the columns in our data set: "
    },
    {
      "metadata": {
        "trusted": true
      },
      "cell_type": "code",
      "source": "reviews.iloc[0:5,:]",
      "execution_count": 11,
      "outputs": [
        {
          "output_type": "execute_result",
          "execution_count": 11,
          "data": {
            "text/html": "<div>\n<style scoped>\n    .dataframe tbody tr th:only-of-type {\n        vertical-align: middle;\n    }\n\n    .dataframe tbody tr th {\n        vertical-align: top;\n    }\n\n    .dataframe thead th {\n        text-align: right;\n    }\n</style>\n<table border=\"1\" class=\"dataframe\">\n  <thead>\n    <tr style=\"text-align: right;\">\n      <th></th>\n      <th>Unnamed: 0</th>\n      <th>score_phrase</th>\n      <th>title</th>\n      <th>url</th>\n      <th>platform</th>\n      <th>score</th>\n      <th>genre</th>\n      <th>editors_choice</th>\n      <th>release_year</th>\n      <th>release_month</th>\n      <th>release_day</th>\n    </tr>\n  </thead>\n  <tbody>\n    <tr>\n      <th>0</th>\n      <td>0</td>\n      <td>Amazing</td>\n      <td>LittleBigPlanet PS Vita</td>\n      <td>/games/littlebigplanet-vita/vita-98907</td>\n      <td>PlayStation Vita</td>\n      <td>9.0</td>\n      <td>Platformer</td>\n      <td>Y</td>\n      <td>2012</td>\n      <td>9</td>\n      <td>12</td>\n    </tr>\n    <tr>\n      <th>1</th>\n      <td>1</td>\n      <td>Amazing</td>\n      <td>LittleBigPlanet PS Vita -- Marvel Super Hero E...</td>\n      <td>/games/littlebigplanet-ps-vita-marvel-super-he...</td>\n      <td>PlayStation Vita</td>\n      <td>9.0</td>\n      <td>Platformer</td>\n      <td>Y</td>\n      <td>2012</td>\n      <td>9</td>\n      <td>12</td>\n    </tr>\n    <tr>\n      <th>2</th>\n      <td>2</td>\n      <td>Great</td>\n      <td>Splice: Tree of Life</td>\n      <td>/games/splice/ipad-141070</td>\n      <td>iPad</td>\n      <td>8.5</td>\n      <td>Puzzle</td>\n      <td>N</td>\n      <td>2012</td>\n      <td>9</td>\n      <td>12</td>\n    </tr>\n    <tr>\n      <th>3</th>\n      <td>3</td>\n      <td>Great</td>\n      <td>NHL 13</td>\n      <td>/games/nhl-13/xbox-360-128182</td>\n      <td>Xbox 360</td>\n      <td>8.5</td>\n      <td>Sports</td>\n      <td>N</td>\n      <td>2012</td>\n      <td>9</td>\n      <td>11</td>\n    </tr>\n    <tr>\n      <th>4</th>\n      <td>4</td>\n      <td>Great</td>\n      <td>NHL 13</td>\n      <td>/games/nhl-13/ps3-128181</td>\n      <td>PlayStation 3</td>\n      <td>8.5</td>\n      <td>Sports</td>\n      <td>N</td>\n      <td>2012</td>\n      <td>9</td>\n      <td>11</td>\n    </tr>\n  </tbody>\n</table>\n</div>",
            "text/plain": "   Unnamed: 0 score_phrase                                              title  \\\n0           0      Amazing                            LittleBigPlanet PS Vita   \n1           1      Amazing  LittleBigPlanet PS Vita -- Marvel Super Hero E...   \n2           2        Great                               Splice: Tree of Life   \n3           3        Great                                             NHL 13   \n4           4        Great                                             NHL 13   \n\n                                                 url          platform  score  \\\n0             /games/littlebigplanet-vita/vita-98907  PlayStation Vita    9.0   \n1  /games/littlebigplanet-ps-vita-marvel-super-he...  PlayStation Vita    9.0   \n2                          /games/splice/ipad-141070              iPad    8.5   \n3                      /games/nhl-13/xbox-360-128182          Xbox 360    8.5   \n4                           /games/nhl-13/ps3-128181     PlayStation 3    8.5   \n\n        genre editors_choice  release_year  release_month  release_day  \n0  Platformer              Y          2012              9           12  \n1  Platformer              Y          2012              9           12  \n2      Puzzle              N          2012              9           12  \n3      Sports              N          2012              9           11  \n4      Sports              N          2012              9           11  "
          },
          "metadata": {}
        }
      ]
    },
    {
      "metadata": {},
      "cell_type": "markdown",
      "source": "Let’s dig in a little deeper into our code: we specified that we wanted rows 0:5. This means that we wanted the rows from position 0 up to, but not including, position 5.\n\nThe first row is considered to be in position 0, so selecting rows 0:5 gives us the rows at positions 0, 1, 2, 3, and 4. We wanted all of the columns, too, and we used a shortcut to select them. It works like this: if we leave off the first position value, like :5, it’s assumed we mean 0. If we leave off the last position value, like 0:, it’s assumed we mean the last row or column in the DataFrame. We wanted all of the columns, so we specified just a colon (:), without any positions. This gave us the columns from 0 to the last column. Here are some indexing examples, along with the results:\n\n    reviews.iloc[:5,:] — the first 5 rows, and all of the columns for those rows.\n    reviews.iloc[:,:] — the entire DataFrame.\n    reviews.iloc[5:,5:] — rows from position 5 onwards, and columns from position 5 onwards.\n    reviews.iloc[:,0] — the first column, and all of the rows for the column.\n    reviews.iloc[9,:] — the 10th row, and all of the columns for that row.\n\nIndexing by position is very similar to NumPy indexing. If you want to learn more, you can read our NumPy tutorial. Now that we know how to index by position, let’s remove the first column, which doesn’t have any useful information: "
    },
    {
      "metadata": {
        "trusted": true
      },
      "cell_type": "code",
      "source": "reviews = reviews.iloc[:,1:]\nreviews.head()",
      "execution_count": 13,
      "outputs": [
        {
          "output_type": "execute_result",
          "execution_count": 13,
          "data": {
            "text/html": "<div>\n<style scoped>\n    .dataframe tbody tr th:only-of-type {\n        vertical-align: middle;\n    }\n\n    .dataframe tbody tr th {\n        vertical-align: top;\n    }\n\n    .dataframe thead th {\n        text-align: right;\n    }\n</style>\n<table border=\"1\" class=\"dataframe\">\n  <thead>\n    <tr style=\"text-align: right;\">\n      <th></th>\n      <th>score_phrase</th>\n      <th>title</th>\n      <th>url</th>\n      <th>platform</th>\n      <th>score</th>\n      <th>genre</th>\n      <th>editors_choice</th>\n      <th>release_year</th>\n      <th>release_month</th>\n      <th>release_day</th>\n    </tr>\n  </thead>\n  <tbody>\n    <tr>\n      <th>0</th>\n      <td>Amazing</td>\n      <td>LittleBigPlanet PS Vita</td>\n      <td>/games/littlebigplanet-vita/vita-98907</td>\n      <td>PlayStation Vita</td>\n      <td>9.0</td>\n      <td>Platformer</td>\n      <td>Y</td>\n      <td>2012</td>\n      <td>9</td>\n      <td>12</td>\n    </tr>\n    <tr>\n      <th>1</th>\n      <td>Amazing</td>\n      <td>LittleBigPlanet PS Vita -- Marvel Super Hero E...</td>\n      <td>/games/littlebigplanet-ps-vita-marvel-super-he...</td>\n      <td>PlayStation Vita</td>\n      <td>9.0</td>\n      <td>Platformer</td>\n      <td>Y</td>\n      <td>2012</td>\n      <td>9</td>\n      <td>12</td>\n    </tr>\n    <tr>\n      <th>2</th>\n      <td>Great</td>\n      <td>Splice: Tree of Life</td>\n      <td>/games/splice/ipad-141070</td>\n      <td>iPad</td>\n      <td>8.5</td>\n      <td>Puzzle</td>\n      <td>N</td>\n      <td>2012</td>\n      <td>9</td>\n      <td>12</td>\n    </tr>\n    <tr>\n      <th>3</th>\n      <td>Great</td>\n      <td>NHL 13</td>\n      <td>/games/nhl-13/xbox-360-128182</td>\n      <td>Xbox 360</td>\n      <td>8.5</td>\n      <td>Sports</td>\n      <td>N</td>\n      <td>2012</td>\n      <td>9</td>\n      <td>11</td>\n    </tr>\n    <tr>\n      <th>4</th>\n      <td>Great</td>\n      <td>NHL 13</td>\n      <td>/games/nhl-13/ps3-128181</td>\n      <td>PlayStation 3</td>\n      <td>8.5</td>\n      <td>Sports</td>\n      <td>N</td>\n      <td>2012</td>\n      <td>9</td>\n      <td>11</td>\n    </tr>\n  </tbody>\n</table>\n</div>",
            "text/plain": "  score_phrase                                              title  \\\n0      Amazing                            LittleBigPlanet PS Vita   \n1      Amazing  LittleBigPlanet PS Vita -- Marvel Super Hero E...   \n2        Great                               Splice: Tree of Life   \n3        Great                                             NHL 13   \n4        Great                                             NHL 13   \n\n                                                 url          platform  score  \\\n0             /games/littlebigplanet-vita/vita-98907  PlayStation Vita    9.0   \n1  /games/littlebigplanet-ps-vita-marvel-super-he...  PlayStation Vita    9.0   \n2                          /games/splice/ipad-141070              iPad    8.5   \n3                      /games/nhl-13/xbox-360-128182          Xbox 360    8.5   \n4                           /games/nhl-13/ps3-128181     PlayStation 3    8.5   \n\n        genre editors_choice  release_year  release_month  release_day  \n0  Platformer              Y          2012              9           12  \n1  Platformer              Y          2012              9           12  \n2      Puzzle              N          2012              9           12  \n3      Sports              N          2012              9           11  \n4      Sports              N          2012              9           11  "
          },
          "metadata": {}
        }
      ]
    },
    {
      "metadata": {},
      "cell_type": "markdown",
      "source": "### Indexing Using Labels in Python with Pandas\n\nNow that we know how to retrieve rows and columns by position, it’s worth looking into the other major way to work with DataFrames, which is to retrieve rows and columns by label. A major advantage of Pandas over NumPy is that each of the columns and rows has a label. Working with column positions is possible, but it can be hard to keep track of which number corresponds to which column.\n\nWe can work with labels using the pandas.DataFrame.loc method, which allows us to index using labels instead of positions. We can display the first five rows of reviews using the loc method like this: "
    },
    {
      "metadata": {
        "trusted": true
      },
      "cell_type": "code",
      "source": "reviews.loc[0:5,:]",
      "execution_count": 14,
      "outputs": [
        {
          "output_type": "execute_result",
          "execution_count": 14,
          "data": {
            "text/html": "<div>\n<style scoped>\n    .dataframe tbody tr th:only-of-type {\n        vertical-align: middle;\n    }\n\n    .dataframe tbody tr th {\n        vertical-align: top;\n    }\n\n    .dataframe thead th {\n        text-align: right;\n    }\n</style>\n<table border=\"1\" class=\"dataframe\">\n  <thead>\n    <tr style=\"text-align: right;\">\n      <th></th>\n      <th>score_phrase</th>\n      <th>title</th>\n      <th>url</th>\n      <th>platform</th>\n      <th>score</th>\n      <th>genre</th>\n      <th>editors_choice</th>\n      <th>release_year</th>\n      <th>release_month</th>\n      <th>release_day</th>\n    </tr>\n  </thead>\n  <tbody>\n    <tr>\n      <th>0</th>\n      <td>Amazing</td>\n      <td>LittleBigPlanet PS Vita</td>\n      <td>/games/littlebigplanet-vita/vita-98907</td>\n      <td>PlayStation Vita</td>\n      <td>9.0</td>\n      <td>Platformer</td>\n      <td>Y</td>\n      <td>2012</td>\n      <td>9</td>\n      <td>12</td>\n    </tr>\n    <tr>\n      <th>1</th>\n      <td>Amazing</td>\n      <td>LittleBigPlanet PS Vita -- Marvel Super Hero E...</td>\n      <td>/games/littlebigplanet-ps-vita-marvel-super-he...</td>\n      <td>PlayStation Vita</td>\n      <td>9.0</td>\n      <td>Platformer</td>\n      <td>Y</td>\n      <td>2012</td>\n      <td>9</td>\n      <td>12</td>\n    </tr>\n    <tr>\n      <th>2</th>\n      <td>Great</td>\n      <td>Splice: Tree of Life</td>\n      <td>/games/splice/ipad-141070</td>\n      <td>iPad</td>\n      <td>8.5</td>\n      <td>Puzzle</td>\n      <td>N</td>\n      <td>2012</td>\n      <td>9</td>\n      <td>12</td>\n    </tr>\n    <tr>\n      <th>3</th>\n      <td>Great</td>\n      <td>NHL 13</td>\n      <td>/games/nhl-13/xbox-360-128182</td>\n      <td>Xbox 360</td>\n      <td>8.5</td>\n      <td>Sports</td>\n      <td>N</td>\n      <td>2012</td>\n      <td>9</td>\n      <td>11</td>\n    </tr>\n    <tr>\n      <th>4</th>\n      <td>Great</td>\n      <td>NHL 13</td>\n      <td>/games/nhl-13/ps3-128181</td>\n      <td>PlayStation 3</td>\n      <td>8.5</td>\n      <td>Sports</td>\n      <td>N</td>\n      <td>2012</td>\n      <td>9</td>\n      <td>11</td>\n    </tr>\n    <tr>\n      <th>5</th>\n      <td>Good</td>\n      <td>Total War Battles: Shogun</td>\n      <td>/games/total-war-battles-shogun/mac-142565</td>\n      <td>Macintosh</td>\n      <td>7.0</td>\n      <td>Strategy</td>\n      <td>N</td>\n      <td>2012</td>\n      <td>9</td>\n      <td>11</td>\n    </tr>\n  </tbody>\n</table>\n</div>",
            "text/plain": "  score_phrase                                              title  \\\n0      Amazing                            LittleBigPlanet PS Vita   \n1      Amazing  LittleBigPlanet PS Vita -- Marvel Super Hero E...   \n2        Great                               Splice: Tree of Life   \n3        Great                                             NHL 13   \n4        Great                                             NHL 13   \n5         Good                          Total War Battles: Shogun   \n\n                                                 url          platform  score  \\\n0             /games/littlebigplanet-vita/vita-98907  PlayStation Vita    9.0   \n1  /games/littlebigplanet-ps-vita-marvel-super-he...  PlayStation Vita    9.0   \n2                          /games/splice/ipad-141070              iPad    8.5   \n3                      /games/nhl-13/xbox-360-128182          Xbox 360    8.5   \n4                           /games/nhl-13/ps3-128181     PlayStation 3    8.5   \n5         /games/total-war-battles-shogun/mac-142565         Macintosh    7.0   \n\n        genre editors_choice  release_year  release_month  release_day  \n0  Platformer              Y          2012              9           12  \n1  Platformer              Y          2012              9           12  \n2      Puzzle              N          2012              9           12  \n3      Sports              N          2012              9           11  \n4      Sports              N          2012              9           11  \n5    Strategy              N          2012              9           11  "
          },
          "metadata": {}
        }
      ]
    },
    {
      "metadata": {},
      "cell_type": "markdown",
      "source": "The above doesn’t actually look much different from reviews.iloc[0:5,:]. This is because while row labels can take on any values, our row labels match the positions exactly. You can see the row labels on the very left of the table above (they’re in bold). You can also see them by accessing the index property of a DataFrame. We’ll display the row indexes for reviews: "
    },
    {
      "metadata": {
        "trusted": true
      },
      "cell_type": "code",
      "source": "reviews.index",
      "execution_count": 15,
      "outputs": [
        {
          "output_type": "execute_result",
          "execution_count": 15,
          "data": {
            "text/plain": "RangeIndex(start=0, stop=18625, step=1)"
          },
          "metadata": {}
        }
      ]
    },
    {
      "metadata": {},
      "cell_type": "markdown",
      "source": "Indexes don’t always have to match up with positions, though. In the below code cell, we’ll:\nGet row 10 to row 20 of reviews, and assign the result to some_reviews.\nDisplay the first 5 rows of some_reviews.\n"
    },
    {
      "metadata": {
        "trusted": true
      },
      "cell_type": "code",
      "source": "some_reviews = reviews.iloc[10:20,]\nsome_reviews.head()",
      "execution_count": 16,
      "outputs": [
        {
          "output_type": "execute_result",
          "execution_count": 16,
          "data": {
            "text/html": "<div>\n<style scoped>\n    .dataframe tbody tr th:only-of-type {\n        vertical-align: middle;\n    }\n\n    .dataframe tbody tr th {\n        vertical-align: top;\n    }\n\n    .dataframe thead th {\n        text-align: right;\n    }\n</style>\n<table border=\"1\" class=\"dataframe\">\n  <thead>\n    <tr style=\"text-align: right;\">\n      <th></th>\n      <th>score_phrase</th>\n      <th>title</th>\n      <th>url</th>\n      <th>platform</th>\n      <th>score</th>\n      <th>genre</th>\n      <th>editors_choice</th>\n      <th>release_year</th>\n      <th>release_month</th>\n      <th>release_day</th>\n    </tr>\n  </thead>\n  <tbody>\n    <tr>\n      <th>10</th>\n      <td>Good</td>\n      <td>Tekken Tag Tournament 2</td>\n      <td>/games/tekken-tag-tournament-2/ps3-124584</td>\n      <td>PlayStation 3</td>\n      <td>7.5</td>\n      <td>Fighting</td>\n      <td>N</td>\n      <td>2012</td>\n      <td>9</td>\n      <td>11</td>\n    </tr>\n    <tr>\n      <th>11</th>\n      <td>Good</td>\n      <td>Tekken Tag Tournament 2</td>\n      <td>/games/tekken-tag-tournament-2/xbox-360-124581</td>\n      <td>Xbox 360</td>\n      <td>7.5</td>\n      <td>Fighting</td>\n      <td>N</td>\n      <td>2012</td>\n      <td>9</td>\n      <td>11</td>\n    </tr>\n    <tr>\n      <th>12</th>\n      <td>Good</td>\n      <td>Wild Blood</td>\n      <td>/games/wild-blood/iphone-139363</td>\n      <td>iPhone</td>\n      <td>7.0</td>\n      <td>NaN</td>\n      <td>N</td>\n      <td>2012</td>\n      <td>9</td>\n      <td>10</td>\n    </tr>\n    <tr>\n      <th>13</th>\n      <td>Amazing</td>\n      <td>Mark of the Ninja</td>\n      <td>/games/mark-of-the-ninja-135615/xbox-360-129276</td>\n      <td>Xbox 360</td>\n      <td>9.0</td>\n      <td>Action, Adventure</td>\n      <td>Y</td>\n      <td>2012</td>\n      <td>9</td>\n      <td>7</td>\n    </tr>\n    <tr>\n      <th>14</th>\n      <td>Amazing</td>\n      <td>Mark of the Ninja</td>\n      <td>/games/mark-of-the-ninja-135615/pc-143761</td>\n      <td>PC</td>\n      <td>9.0</td>\n      <td>Action, Adventure</td>\n      <td>Y</td>\n      <td>2012</td>\n      <td>9</td>\n      <td>7</td>\n    </tr>\n  </tbody>\n</table>\n</div>",
            "text/plain": "   score_phrase                    title  \\\n10         Good  Tekken Tag Tournament 2   \n11         Good  Tekken Tag Tournament 2   \n12         Good               Wild Blood   \n13      Amazing        Mark of the Ninja   \n14      Amazing        Mark of the Ninja   \n\n                                                url       platform  score  \\\n10        /games/tekken-tag-tournament-2/ps3-124584  PlayStation 3    7.5   \n11   /games/tekken-tag-tournament-2/xbox-360-124581       Xbox 360    7.5   \n12                  /games/wild-blood/iphone-139363         iPhone    7.0   \n13  /games/mark-of-the-ninja-135615/xbox-360-129276       Xbox 360    9.0   \n14        /games/mark-of-the-ninja-135615/pc-143761             PC    9.0   \n\n                genre editors_choice  release_year  release_month  release_day  \n10           Fighting              N          2012              9           11  \n11           Fighting              N          2012              9           11  \n12                NaN              N          2012              9           10  \n13  Action, Adventure              Y          2012              9            7  \n14  Action, Adventure              Y          2012              9            7  "
          },
          "metadata": {}
        }
      ]
    },
    {
      "metadata": {},
      "cell_type": "markdown",
      "source": "As you can see above, in some_reviews, the row indexes start at 10 and end at 20. Thus, trying loc along with numbers lower than 10 or higher than 20 will result in an error: "
    },
    {
      "metadata": {
        "trusted": true
      },
      "cell_type": "code",
      "source": "some_reviews.loc[9:21,:]",
      "execution_count": 21,
      "outputs": [
        {
          "output_type": "execute_result",
          "execution_count": 21,
          "data": {
            "text/html": "<div>\n<style scoped>\n    .dataframe tbody tr th:only-of-type {\n        vertical-align: middle;\n    }\n\n    .dataframe tbody tr th {\n        vertical-align: top;\n    }\n\n    .dataframe thead th {\n        text-align: right;\n    }\n</style>\n<table border=\"1\" class=\"dataframe\">\n  <thead>\n    <tr style=\"text-align: right;\">\n      <th></th>\n      <th>score_phrase</th>\n      <th>title</th>\n      <th>url</th>\n      <th>platform</th>\n      <th>score</th>\n      <th>genre</th>\n      <th>editors_choice</th>\n      <th>release_year</th>\n      <th>release_month</th>\n      <th>release_day</th>\n    </tr>\n  </thead>\n  <tbody>\n    <tr>\n      <th>10</th>\n      <td>Good</td>\n      <td>Tekken Tag Tournament 2</td>\n      <td>/games/tekken-tag-tournament-2/ps3-124584</td>\n      <td>PlayStation 3</td>\n      <td>7.5</td>\n      <td>Fighting</td>\n      <td>N</td>\n      <td>2012</td>\n      <td>9</td>\n      <td>11</td>\n    </tr>\n    <tr>\n      <th>11</th>\n      <td>Good</td>\n      <td>Tekken Tag Tournament 2</td>\n      <td>/games/tekken-tag-tournament-2/xbox-360-124581</td>\n      <td>Xbox 360</td>\n      <td>7.5</td>\n      <td>Fighting</td>\n      <td>N</td>\n      <td>2012</td>\n      <td>9</td>\n      <td>11</td>\n    </tr>\n    <tr>\n      <th>12</th>\n      <td>Good</td>\n      <td>Wild Blood</td>\n      <td>/games/wild-blood/iphone-139363</td>\n      <td>iPhone</td>\n      <td>7.0</td>\n      <td>NaN</td>\n      <td>N</td>\n      <td>2012</td>\n      <td>9</td>\n      <td>10</td>\n    </tr>\n    <tr>\n      <th>13</th>\n      <td>Amazing</td>\n      <td>Mark of the Ninja</td>\n      <td>/games/mark-of-the-ninja-135615/xbox-360-129276</td>\n      <td>Xbox 360</td>\n      <td>9.0</td>\n      <td>Action, Adventure</td>\n      <td>Y</td>\n      <td>2012</td>\n      <td>9</td>\n      <td>7</td>\n    </tr>\n    <tr>\n      <th>14</th>\n      <td>Amazing</td>\n      <td>Mark of the Ninja</td>\n      <td>/games/mark-of-the-ninja-135615/pc-143761</td>\n      <td>PC</td>\n      <td>9.0</td>\n      <td>Action, Adventure</td>\n      <td>Y</td>\n      <td>2012</td>\n      <td>9</td>\n      <td>7</td>\n    </tr>\n    <tr>\n      <th>15</th>\n      <td>Okay</td>\n      <td>Home: A Unique Horror Adventure</td>\n      <td>/games/home-a-unique-horror-adventure/mac-2001...</td>\n      <td>Macintosh</td>\n      <td>6.5</td>\n      <td>Adventure</td>\n      <td>N</td>\n      <td>2012</td>\n      <td>9</td>\n      <td>6</td>\n    </tr>\n    <tr>\n      <th>16</th>\n      <td>Okay</td>\n      <td>Home: A Unique Horror Adventure</td>\n      <td>/games/home-a-unique-horror-adventure/pc-137135</td>\n      <td>PC</td>\n      <td>6.5</td>\n      <td>Adventure</td>\n      <td>N</td>\n      <td>2012</td>\n      <td>9</td>\n      <td>6</td>\n    </tr>\n    <tr>\n      <th>17</th>\n      <td>Great</td>\n      <td>Avengers Initiative</td>\n      <td>/games/avengers-initiative/iphone-141579</td>\n      <td>iPhone</td>\n      <td>8.0</td>\n      <td>Action</td>\n      <td>N</td>\n      <td>2012</td>\n      <td>9</td>\n      <td>5</td>\n    </tr>\n    <tr>\n      <th>18</th>\n      <td>Mediocre</td>\n      <td>Way of the Samurai 4</td>\n      <td>/games/way-of-the-samurai-4/ps3-23516</td>\n      <td>PlayStation 3</td>\n      <td>5.5</td>\n      <td>Action, Adventure</td>\n      <td>N</td>\n      <td>2012</td>\n      <td>9</td>\n      <td>3</td>\n    </tr>\n    <tr>\n      <th>19</th>\n      <td>Good</td>\n      <td>JoJo's Bizarre Adventure HD</td>\n      <td>/games/jojos-bizarre-adventure/xbox-360-137717</td>\n      <td>Xbox 360</td>\n      <td>7.0</td>\n      <td>Fighting</td>\n      <td>N</td>\n      <td>2012</td>\n      <td>9</td>\n      <td>3</td>\n    </tr>\n  </tbody>\n</table>\n</div>",
            "text/plain": "   score_phrase                            title  \\\n10         Good          Tekken Tag Tournament 2   \n11         Good          Tekken Tag Tournament 2   \n12         Good                       Wild Blood   \n13      Amazing                Mark of the Ninja   \n14      Amazing                Mark of the Ninja   \n15         Okay  Home: A Unique Horror Adventure   \n16         Okay  Home: A Unique Horror Adventure   \n17        Great              Avengers Initiative   \n18     Mediocre             Way of the Samurai 4   \n19         Good      JoJo's Bizarre Adventure HD   \n\n                                                  url       platform  score  \\\n10          /games/tekken-tag-tournament-2/ps3-124584  PlayStation 3    7.5   \n11     /games/tekken-tag-tournament-2/xbox-360-124581       Xbox 360    7.5   \n12                    /games/wild-blood/iphone-139363         iPhone    7.0   \n13    /games/mark-of-the-ninja-135615/xbox-360-129276       Xbox 360    9.0   \n14          /games/mark-of-the-ninja-135615/pc-143761             PC    9.0   \n15  /games/home-a-unique-horror-adventure/mac-2001...      Macintosh    6.5   \n16    /games/home-a-unique-horror-adventure/pc-137135             PC    6.5   \n17           /games/avengers-initiative/iphone-141579         iPhone    8.0   \n18              /games/way-of-the-samurai-4/ps3-23516  PlayStation 3    5.5   \n19     /games/jojos-bizarre-adventure/xbox-360-137717       Xbox 360    7.0   \n\n                genre editors_choice  release_year  release_month  release_day  \n10           Fighting              N          2012              9           11  \n11           Fighting              N          2012              9           11  \n12                NaN              N          2012              9           10  \n13  Action, Adventure              Y          2012              9            7  \n14  Action, Adventure              Y          2012              9            7  \n15          Adventure              N          2012              9            6  \n16          Adventure              N          2012              9            6  \n17             Action              N          2012              9            5  \n18  Action, Adventure              N          2012              9            3  \n19           Fighting              N          2012              9            3  "
          },
          "metadata": {}
        }
      ]
    },
    {
      "metadata": {},
      "cell_type": "markdown",
      "source": "As we mentioned earlier, column labels can make life much easier when you’re working with data. We can specify column labels in the loc method to retrieve columns by label instead of by position. "
    },
    {
      "metadata": {
        "trusted": true
      },
      "cell_type": "code",
      "source": "reviews.loc[:5,\"score\"]",
      "execution_count": 22,
      "outputs": [
        {
          "output_type": "execute_result",
          "execution_count": 22,
          "data": {
            "text/plain": "0    9.0\n1    9.0\n2    8.5\n3    8.5\n4    8.5\n5    7.0\nName: score, dtype: float64"
          },
          "metadata": {}
        }
      ]
    },
    {
      "metadata": {},
      "cell_type": "markdown",
      "source": "We can also specify more than one column at a time by passing in a list: "
    },
    {
      "metadata": {
        "trusted": true
      },
      "cell_type": "code",
      "source": "reviews.loc[:5,[\"score\", \"release_year\"]]",
      "execution_count": 23,
      "outputs": [
        {
          "output_type": "execute_result",
          "execution_count": 23,
          "data": {
            "text/html": "<div>\n<style scoped>\n    .dataframe tbody tr th:only-of-type {\n        vertical-align: middle;\n    }\n\n    .dataframe tbody tr th {\n        vertical-align: top;\n    }\n\n    .dataframe thead th {\n        text-align: right;\n    }\n</style>\n<table border=\"1\" class=\"dataframe\">\n  <thead>\n    <tr style=\"text-align: right;\">\n      <th></th>\n      <th>score</th>\n      <th>release_year</th>\n    </tr>\n  </thead>\n  <tbody>\n    <tr>\n      <th>0</th>\n      <td>9.0</td>\n      <td>2012</td>\n    </tr>\n    <tr>\n      <th>1</th>\n      <td>9.0</td>\n      <td>2012</td>\n    </tr>\n    <tr>\n      <th>2</th>\n      <td>8.5</td>\n      <td>2012</td>\n    </tr>\n    <tr>\n      <th>3</th>\n      <td>8.5</td>\n      <td>2012</td>\n    </tr>\n    <tr>\n      <th>4</th>\n      <td>8.5</td>\n      <td>2012</td>\n    </tr>\n    <tr>\n      <th>5</th>\n      <td>7.0</td>\n      <td>2012</td>\n    </tr>\n  </tbody>\n</table>\n</div>",
            "text/plain": "   score  release_year\n0    9.0          2012\n1    9.0          2012\n2    8.5          2012\n3    8.5          2012\n4    8.5          2012\n5    7.0          2012"
          },
          "metadata": {}
        }
      ]
    },
    {
      "metadata": {},
      "cell_type": "markdown",
      "source": "### Pandas Series Objects\n\nWe can retrieve an individual column in Pandas a few different ways. So far, we’ve seen two types of syntax for this:\n\n    reviews.iloc[:,1] — will retrieve the second column.\n    reviews.loc[:,\"score_phrase\"] — will also retrieve the second column.\n\nThere’s a third, even easier, way to retrieve a whole column. We can just specify the column name in square brackets, like with a dictionary: "
    },
    {
      "metadata": {
        "trusted": true
      },
      "cell_type": "code",
      "source": "reviews[\"score\"]",
      "execution_count": 24,
      "outputs": [
        {
          "output_type": "execute_result",
          "execution_count": 24,
          "data": {
            "text/plain": "0         9.0\n1         9.0\n2         8.5\n3         8.5\n4         8.5\n5         7.0\n6         3.0\n7         9.0\n8         3.0\n9         7.0\n10        7.5\n11        7.5\n12        7.0\n13        9.0\n14        9.0\n15        6.5\n16        6.5\n17        8.0\n18        5.5\n19        7.0\n20        7.0\n21        7.5\n22        7.5\n23        7.5\n24        9.0\n25        7.0\n26        9.0\n27        7.5\n28        8.0\n29        6.5\n         ... \n18595     4.4\n18596     6.5\n18597     4.9\n18598     6.8\n18599     7.0\n18600     7.4\n18601     7.4\n18602     7.4\n18603     7.8\n18604     8.6\n18605     6.0\n18606     6.4\n18607     7.0\n18608     5.4\n18609     8.0\n18610     6.0\n18611     5.8\n18612     7.8\n18613     8.0\n18614     9.2\n18615     9.2\n18616     7.5\n18617     8.4\n18618     9.1\n18619     7.9\n18620     7.6\n18621     9.0\n18622     5.8\n18623    10.0\n18624    10.0\nName: score, Length: 18625, dtype: float64"
          },
          "metadata": {}
        }
      ]
    },
    {
      "metadata": {},
      "cell_type": "markdown",
      "source": "We can also use lists of columns with this method: "
    },
    {
      "metadata": {
        "trusted": true
      },
      "cell_type": "code",
      "source": "reviews[[\"score\", \"release_year\"]]",
      "execution_count": 25,
      "outputs": [
        {
          "output_type": "execute_result",
          "execution_count": 25,
          "data": {
            "text/html": "<div>\n<style scoped>\n    .dataframe tbody tr th:only-of-type {\n        vertical-align: middle;\n    }\n\n    .dataframe tbody tr th {\n        vertical-align: top;\n    }\n\n    .dataframe thead th {\n        text-align: right;\n    }\n</style>\n<table border=\"1\" class=\"dataframe\">\n  <thead>\n    <tr style=\"text-align: right;\">\n      <th></th>\n      <th>score</th>\n      <th>release_year</th>\n    </tr>\n  </thead>\n  <tbody>\n    <tr>\n      <th>0</th>\n      <td>9.0</td>\n      <td>2012</td>\n    </tr>\n    <tr>\n      <th>1</th>\n      <td>9.0</td>\n      <td>2012</td>\n    </tr>\n    <tr>\n      <th>2</th>\n      <td>8.5</td>\n      <td>2012</td>\n    </tr>\n    <tr>\n      <th>3</th>\n      <td>8.5</td>\n      <td>2012</td>\n    </tr>\n    <tr>\n      <th>4</th>\n      <td>8.5</td>\n      <td>2012</td>\n    </tr>\n    <tr>\n      <th>5</th>\n      <td>7.0</td>\n      <td>2012</td>\n    </tr>\n    <tr>\n      <th>6</th>\n      <td>3.0</td>\n      <td>2012</td>\n    </tr>\n    <tr>\n      <th>7</th>\n      <td>9.0</td>\n      <td>2012</td>\n    </tr>\n    <tr>\n      <th>8</th>\n      <td>3.0</td>\n      <td>2012</td>\n    </tr>\n    <tr>\n      <th>9</th>\n      <td>7.0</td>\n      <td>2012</td>\n    </tr>\n    <tr>\n      <th>10</th>\n      <td>7.5</td>\n      <td>2012</td>\n    </tr>\n    <tr>\n      <th>11</th>\n      <td>7.5</td>\n      <td>2012</td>\n    </tr>\n    <tr>\n      <th>12</th>\n      <td>7.0</td>\n      <td>2012</td>\n    </tr>\n    <tr>\n      <th>13</th>\n      <td>9.0</td>\n      <td>2012</td>\n    </tr>\n    <tr>\n      <th>14</th>\n      <td>9.0</td>\n      <td>2012</td>\n    </tr>\n    <tr>\n      <th>15</th>\n      <td>6.5</td>\n      <td>2012</td>\n    </tr>\n    <tr>\n      <th>16</th>\n      <td>6.5</td>\n      <td>2012</td>\n    </tr>\n    <tr>\n      <th>17</th>\n      <td>8.0</td>\n      <td>2012</td>\n    </tr>\n    <tr>\n      <th>18</th>\n      <td>5.5</td>\n      <td>2012</td>\n    </tr>\n    <tr>\n      <th>19</th>\n      <td>7.0</td>\n      <td>2012</td>\n    </tr>\n    <tr>\n      <th>20</th>\n      <td>7.0</td>\n      <td>2012</td>\n    </tr>\n    <tr>\n      <th>21</th>\n      <td>7.5</td>\n      <td>2012</td>\n    </tr>\n    <tr>\n      <th>22</th>\n      <td>7.5</td>\n      <td>2012</td>\n    </tr>\n    <tr>\n      <th>23</th>\n      <td>7.5</td>\n      <td>2012</td>\n    </tr>\n    <tr>\n      <th>24</th>\n      <td>9.0</td>\n      <td>2012</td>\n    </tr>\n    <tr>\n      <th>25</th>\n      <td>7.0</td>\n      <td>2012</td>\n    </tr>\n    <tr>\n      <th>26</th>\n      <td>9.0</td>\n      <td>2012</td>\n    </tr>\n    <tr>\n      <th>27</th>\n      <td>7.5</td>\n      <td>2012</td>\n    </tr>\n    <tr>\n      <th>28</th>\n      <td>8.0</td>\n      <td>2012</td>\n    </tr>\n    <tr>\n      <th>29</th>\n      <td>6.5</td>\n      <td>2012</td>\n    </tr>\n    <tr>\n      <th>...</th>\n      <td>...</td>\n      <td>...</td>\n    </tr>\n    <tr>\n      <th>18595</th>\n      <td>4.4</td>\n      <td>2016</td>\n    </tr>\n    <tr>\n      <th>18596</th>\n      <td>6.5</td>\n      <td>2016</td>\n    </tr>\n    <tr>\n      <th>18597</th>\n      <td>4.9</td>\n      <td>2016</td>\n    </tr>\n    <tr>\n      <th>18598</th>\n      <td>6.8</td>\n      <td>2016</td>\n    </tr>\n    <tr>\n      <th>18599</th>\n      <td>7.0</td>\n      <td>2016</td>\n    </tr>\n    <tr>\n      <th>18600</th>\n      <td>7.4</td>\n      <td>2016</td>\n    </tr>\n    <tr>\n      <th>18601</th>\n      <td>7.4</td>\n      <td>2016</td>\n    </tr>\n    <tr>\n      <th>18602</th>\n      <td>7.4</td>\n      <td>2016</td>\n    </tr>\n    <tr>\n      <th>18603</th>\n      <td>7.8</td>\n      <td>2016</td>\n    </tr>\n    <tr>\n      <th>18604</th>\n      <td>8.6</td>\n      <td>2016</td>\n    </tr>\n    <tr>\n      <th>18605</th>\n      <td>6.0</td>\n      <td>2016</td>\n    </tr>\n    <tr>\n      <th>18606</th>\n      <td>6.4</td>\n      <td>2016</td>\n    </tr>\n    <tr>\n      <th>18607</th>\n      <td>7.0</td>\n      <td>2016</td>\n    </tr>\n    <tr>\n      <th>18608</th>\n      <td>5.4</td>\n      <td>2016</td>\n    </tr>\n    <tr>\n      <th>18609</th>\n      <td>8.0</td>\n      <td>2016</td>\n    </tr>\n    <tr>\n      <th>18610</th>\n      <td>6.0</td>\n      <td>2016</td>\n    </tr>\n    <tr>\n      <th>18611</th>\n      <td>5.8</td>\n      <td>2016</td>\n    </tr>\n    <tr>\n      <th>18612</th>\n      <td>7.8</td>\n      <td>2016</td>\n    </tr>\n    <tr>\n      <th>18613</th>\n      <td>8.0</td>\n      <td>2016</td>\n    </tr>\n    <tr>\n      <th>18614</th>\n      <td>9.2</td>\n      <td>2016</td>\n    </tr>\n    <tr>\n      <th>18615</th>\n      <td>9.2</td>\n      <td>2016</td>\n    </tr>\n    <tr>\n      <th>18616</th>\n      <td>7.5</td>\n      <td>2016</td>\n    </tr>\n    <tr>\n      <th>18617</th>\n      <td>8.4</td>\n      <td>2016</td>\n    </tr>\n    <tr>\n      <th>18618</th>\n      <td>9.1</td>\n      <td>2016</td>\n    </tr>\n    <tr>\n      <th>18619</th>\n      <td>7.9</td>\n      <td>2016</td>\n    </tr>\n    <tr>\n      <th>18620</th>\n      <td>7.6</td>\n      <td>2016</td>\n    </tr>\n    <tr>\n      <th>18621</th>\n      <td>9.0</td>\n      <td>2016</td>\n    </tr>\n    <tr>\n      <th>18622</th>\n      <td>5.8</td>\n      <td>2016</td>\n    </tr>\n    <tr>\n      <th>18623</th>\n      <td>10.0</td>\n      <td>2016</td>\n    </tr>\n    <tr>\n      <th>18624</th>\n      <td>10.0</td>\n      <td>2016</td>\n    </tr>\n  </tbody>\n</table>\n<p>18625 rows × 2 columns</p>\n</div>",
            "text/plain": "       score  release_year\n0        9.0          2012\n1        9.0          2012\n2        8.5          2012\n3        8.5          2012\n4        8.5          2012\n5        7.0          2012\n6        3.0          2012\n7        9.0          2012\n8        3.0          2012\n9        7.0          2012\n10       7.5          2012\n11       7.5          2012\n12       7.0          2012\n13       9.0          2012\n14       9.0          2012\n15       6.5          2012\n16       6.5          2012\n17       8.0          2012\n18       5.5          2012\n19       7.0          2012\n20       7.0          2012\n21       7.5          2012\n22       7.5          2012\n23       7.5          2012\n24       9.0          2012\n25       7.0          2012\n26       9.0          2012\n27       7.5          2012\n28       8.0          2012\n29       6.5          2012\n...      ...           ...\n18595    4.4          2016\n18596    6.5          2016\n18597    4.9          2016\n18598    6.8          2016\n18599    7.0          2016\n18600    7.4          2016\n18601    7.4          2016\n18602    7.4          2016\n18603    7.8          2016\n18604    8.6          2016\n18605    6.0          2016\n18606    6.4          2016\n18607    7.0          2016\n18608    5.4          2016\n18609    8.0          2016\n18610    6.0          2016\n18611    5.8          2016\n18612    7.8          2016\n18613    8.0          2016\n18614    9.2          2016\n18615    9.2          2016\n18616    7.5          2016\n18617    8.4          2016\n18618    9.1          2016\n18619    7.9          2016\n18620    7.6          2016\n18621    9.0          2016\n18622    5.8          2016\n18623   10.0          2016\n18624   10.0          2016\n\n[18625 rows x 2 columns]"
          },
          "metadata": {}
        }
      ]
    },
    {
      "metadata": {},
      "cell_type": "markdown",
      "source": " When we retrieve a single column, we’re actually retrieving a Pandas Series object. A DataFrame stores tabular data, but a Series stores a single column or row of data.\n\nWe can verify that a single column is a Series: "
    },
    {
      "metadata": {
        "trusted": true
      },
      "cell_type": "code",
      "source": "type(reviews[\"score\"])",
      "execution_count": 27,
      "outputs": [
        {
          "output_type": "execute_result",
          "execution_count": 27,
          "data": {
            "text/plain": "pandas.core.series.Series"
          },
          "metadata": {}
        }
      ]
    },
    {
      "metadata": {},
      "cell_type": "markdown",
      "source": "We can create a Series manually to better understand how it works. To create a Series, we pass a list or NumPy array into the Series object when we instantiate it: "
    },
    {
      "metadata": {
        "trusted": true
      },
      "cell_type": "code",
      "source": "s1 = pd.Series([1,2])\ns1",
      "execution_count": 28,
      "outputs": [
        {
          "output_type": "execute_result",
          "execution_count": 28,
          "data": {
            "text/plain": "0    1\n1    2\ndtype: int64"
          },
          "metadata": {}
        }
      ]
    },
    {
      "metadata": {},
      "cell_type": "markdown",
      "source": "A Series can contain any type of data, including mixed types. Here, we create a Series that contains string objects: "
    },
    {
      "metadata": {
        "trusted": true
      },
      "cell_type": "code",
      "source": "s2 = pd.Series([\"Boris Yeltsin\", \"Mikhail Gorbachev\"])\ns2",
      "execution_count": 31,
      "outputs": [
        {
          "output_type": "execute_result",
          "execution_count": 31,
          "data": {
            "text/plain": "0        Boris Yeltsin\n1    Mikhail Gorbachev\ndtype: object"
          },
          "metadata": {}
        }
      ]
    },
    {
      "metadata": {},
      "cell_type": "markdown",
      "source": "### Creating A DataFrame in Pandas\n\nWe can create a DataFrame by passing multiple Series into the DataFrame class. Here, we pass in the two Series objects we just created,\n\ns1 as the first row, and s2 as the second row: "
    },
    {
      "metadata": {
        "trusted": true
      },
      "cell_type": "code",
      "source": "pd.DataFrame([s1,s2])",
      "execution_count": 32,
      "outputs": [
        {
          "output_type": "execute_result",
          "execution_count": 32,
          "data": {
            "text/html": "<div>\n<style scoped>\n    .dataframe tbody tr th:only-of-type {\n        vertical-align: middle;\n    }\n\n    .dataframe tbody tr th {\n        vertical-align: top;\n    }\n\n    .dataframe thead th {\n        text-align: right;\n    }\n</style>\n<table border=\"1\" class=\"dataframe\">\n  <thead>\n    <tr style=\"text-align: right;\">\n      <th></th>\n      <th>0</th>\n      <th>1</th>\n    </tr>\n  </thead>\n  <tbody>\n    <tr>\n      <th>0</th>\n      <td>1</td>\n      <td>2</td>\n    </tr>\n    <tr>\n      <th>1</th>\n      <td>Boris Yeltsin</td>\n      <td>Mikhail Gorbachev</td>\n    </tr>\n  </tbody>\n</table>\n</div>",
            "text/plain": "               0                  1\n0              1                  2\n1  Boris Yeltsin  Mikhail Gorbachev"
          },
          "metadata": {}
        }
      ]
    },
    {
      "metadata": {},
      "cell_type": "markdown",
      "source": "We can also accomplish the same thing with a list of lists. Each inner list is treated as a row in the resulting DataFrame: "
    },
    {
      "metadata": {
        "trusted": true
      },
      "cell_type": "code",
      "source": "pd.DataFrame(\n    [\n    [1,2],\n    [\"Boris Yeltsin\", \"Mikhail Gorbachev\"]\n    ]\n)",
      "execution_count": 33,
      "outputs": [
        {
          "output_type": "execute_result",
          "execution_count": 33,
          "data": {
            "text/html": "<div>\n<style scoped>\n    .dataframe tbody tr th:only-of-type {\n        vertical-align: middle;\n    }\n\n    .dataframe tbody tr th {\n        vertical-align: top;\n    }\n\n    .dataframe thead th {\n        text-align: right;\n    }\n</style>\n<table border=\"1\" class=\"dataframe\">\n  <thead>\n    <tr style=\"text-align: right;\">\n      <th></th>\n      <th>0</th>\n      <th>1</th>\n    </tr>\n  </thead>\n  <tbody>\n    <tr>\n      <th>0</th>\n      <td>1</td>\n      <td>2</td>\n    </tr>\n    <tr>\n      <th>1</th>\n      <td>Boris Yeltsin</td>\n      <td>Mikhail Gorbachev</td>\n    </tr>\n  </tbody>\n</table>\n</div>",
            "text/plain": "               0                  1\n0              1                  2\n1  Boris Yeltsin  Mikhail Gorbachev"
          },
          "metadata": {}
        }
      ]
    },
    {
      "metadata": {},
      "cell_type": "markdown",
      "source": "We can specify the column labels when we create a DataFrame: "
    },
    {
      "metadata": {
        "trusted": true
      },
      "cell_type": "code",
      "source": "pd.DataFrame(\n    [\n    [1,2],\n    [\"Boris Yeltsin\", \"Mikhail Gorbachev\"]\n    ],\n    columns=[\"column1\", \"column2\"]\n)",
      "execution_count": 34,
      "outputs": [
        {
          "output_type": "execute_result",
          "execution_count": 34,
          "data": {
            "text/html": "<div>\n<style scoped>\n    .dataframe tbody tr th:only-of-type {\n        vertical-align: middle;\n    }\n\n    .dataframe tbody tr th {\n        vertical-align: top;\n    }\n\n    .dataframe thead th {\n        text-align: right;\n    }\n</style>\n<table border=\"1\" class=\"dataframe\">\n  <thead>\n    <tr style=\"text-align: right;\">\n      <th></th>\n      <th>column1</th>\n      <th>column2</th>\n    </tr>\n  </thead>\n  <tbody>\n    <tr>\n      <th>0</th>\n      <td>1</td>\n      <td>2</td>\n    </tr>\n    <tr>\n      <th>1</th>\n      <td>Boris Yeltsin</td>\n      <td>Mikhail Gorbachev</td>\n    </tr>\n  </tbody>\n</table>\n</div>",
            "text/plain": "         column1            column2\n0              1                  2\n1  Boris Yeltsin  Mikhail Gorbachev"
          },
          "metadata": {}
        }
      ]
    },
    {
      "metadata": {},
      "cell_type": "markdown",
      "source": "As well as the row labels (the index): "
    },
    {
      "metadata": {
        "trusted": true
      },
      "cell_type": "code",
      "source": "frame = pd.DataFrame(\n    [\n    [1,2],\n    [\"Boris Yeltsin\", \"Mikhail Gorbachev\"]\n    ],\n    index=[\"row1\", \"row2\"],\n    columns=[\"column1\", \"column2\"]\n)\nframe",
      "execution_count": 35,
      "outputs": [
        {
          "output_type": "execute_result",
          "execution_count": 35,
          "data": {
            "text/html": "<div>\n<style scoped>\n    .dataframe tbody tr th:only-of-type {\n        vertical-align: middle;\n    }\n\n    .dataframe tbody tr th {\n        vertical-align: top;\n    }\n\n    .dataframe thead th {\n        text-align: right;\n    }\n</style>\n<table border=\"1\" class=\"dataframe\">\n  <thead>\n    <tr style=\"text-align: right;\">\n      <th></th>\n      <th>column1</th>\n      <th>column2</th>\n    </tr>\n  </thead>\n  <tbody>\n    <tr>\n      <th>row1</th>\n      <td>1</td>\n      <td>2</td>\n    </tr>\n    <tr>\n      <th>row2</th>\n      <td>Boris Yeltsin</td>\n      <td>Mikhail Gorbachev</td>\n    </tr>\n  </tbody>\n</table>\n</div>",
            "text/plain": "            column1            column2\nrow1              1                  2\nrow2  Boris Yeltsin  Mikhail Gorbachev"
          },
          "metadata": {}
        }
      ]
    },
    {
      "metadata": {},
      "cell_type": "markdown",
      "source": "Note also that the indentation and separate lines are not required. We’ve written the code this way to make it a bit easier to parse, but you’ll often encounter it all written as one line. For example, the following code will produce the exact same results as what we see in the table above this paragraph: "
    },
    {
      "metadata": {
        "trusted": true
      },
      "cell_type": "code",
      "source": "frame = pd.DataFrame([[1,2],[\"Boris Yeltsin\", \"Mikhail Gorbachev\"]],index=[\"row1\", \"row2\"],columns=[\"column1\", \"column2\"])\nframe",
      "execution_count": 37,
      "outputs": [
        {
          "output_type": "execute_result",
          "execution_count": 37,
          "data": {
            "text/html": "<div>\n<style scoped>\n    .dataframe tbody tr th:only-of-type {\n        vertical-align: middle;\n    }\n\n    .dataframe tbody tr th {\n        vertical-align: top;\n    }\n\n    .dataframe thead th {\n        text-align: right;\n    }\n</style>\n<table border=\"1\" class=\"dataframe\">\n  <thead>\n    <tr style=\"text-align: right;\">\n      <th></th>\n      <th>column1</th>\n      <th>column2</th>\n    </tr>\n  </thead>\n  <tbody>\n    <tr>\n      <th>row1</th>\n      <td>1</td>\n      <td>2</td>\n    </tr>\n    <tr>\n      <th>row2</th>\n      <td>Boris Yeltsin</td>\n      <td>Mikhail Gorbachev</td>\n    </tr>\n  </tbody>\n</table>\n</div>",
            "text/plain": "            column1            column2\nrow1              1                  2\nrow2  Boris Yeltsin  Mikhail Gorbachev"
          },
          "metadata": {}
        }
      ]
    },
    {
      "metadata": {},
      "cell_type": "markdown",
      "source": "Anyway, once we’ve added labels, we’re then able index the DataFrame using them: "
    },
    {
      "metadata": {
        "trusted": true
      },
      "cell_type": "code",
      "source": "frame.loc[\"row1\":\"row2\", \"column1\"]",
      "execution_count": 38,
      "outputs": [
        {
          "output_type": "execute_result",
          "execution_count": 38,
          "data": {
            "text/plain": "row1                1\nrow2    Boris Yeltsin\nName: column1, dtype: object"
          },
          "metadata": {}
        }
      ]
    },
    {
      "metadata": {},
      "cell_type": "markdown",
      "source": "We can skip specifying the columns keyword argument if we pass a dictionary into the DataFrame constructor. This will automatically set up column names: "
    },
    {
      "metadata": {
        "trusted": true
      },
      "cell_type": "code",
      "source": "frame = pd.DataFrame(\n    {\n    \"column1\": [1, \"Boris Yeltsin\"],\n    \"column2\": [2, \"Mikhail Gorbachev\"]\n    }\n)\nframe",
      "execution_count": 39,
      "outputs": [
        {
          "output_type": "execute_result",
          "execution_count": 39,
          "data": {
            "text/html": "<div>\n<style scoped>\n    .dataframe tbody tr th:only-of-type {\n        vertical-align: middle;\n    }\n\n    .dataframe tbody tr th {\n        vertical-align: top;\n    }\n\n    .dataframe thead th {\n        text-align: right;\n    }\n</style>\n<table border=\"1\" class=\"dataframe\">\n  <thead>\n    <tr style=\"text-align: right;\">\n      <th></th>\n      <th>column1</th>\n      <th>column2</th>\n    </tr>\n  </thead>\n  <tbody>\n    <tr>\n      <th>0</th>\n      <td>1</td>\n      <td>2</td>\n    </tr>\n    <tr>\n      <th>1</th>\n      <td>Boris Yeltsin</td>\n      <td>Mikhail Gorbachev</td>\n    </tr>\n  </tbody>\n</table>\n</div>",
            "text/plain": "         column1            column2\n0              1                  2\n1  Boris Yeltsin  Mikhail Gorbachev"
          },
          "metadata": {}
        }
      ]
    },
    {
      "metadata": {},
      "cell_type": "markdown",
      "source": "### Pandas DataFrame Methods\n\nAs we mentioned earlier, each column in a pandas DataFrame is a Series object: "
    },
    {
      "metadata": {
        "trusted": true
      },
      "cell_type": "code",
      "source": "type(reviews[\"title\"])",
      "execution_count": 40,
      "outputs": [
        {
          "output_type": "execute_result",
          "execution_count": 40,
          "data": {
            "text/plain": "pandas.core.series.Series"
          },
          "metadata": {}
        }
      ]
    },
    {
      "metadata": {},
      "cell_type": "markdown",
      "source": "We can call most of the same methods on a Series object that we can on a DataFrame, including head: "
    },
    {
      "metadata": {
        "trusted": true
      },
      "cell_type": "code",
      "source": "reviews[\"title\"].head()",
      "execution_count": 41,
      "outputs": [
        {
          "output_type": "execute_result",
          "execution_count": 41,
          "data": {
            "text/plain": "0                              LittleBigPlanet PS Vita\n1    LittleBigPlanet PS Vita -- Marvel Super Hero E...\n2                                 Splice: Tree of Life\n3                                               NHL 13\n4                                               NHL 13\nName: title, dtype: object"
          },
          "metadata": {}
        }
      ]
    },
    {
      "metadata": {},
      "cell_type": "markdown",
      "source": "Pandas Series and DataFrames also have other methods that make calculations simpler. For example, we can use the pandas.Series.mean method to find the mean of a Series: "
    },
    {
      "metadata": {
        "trusted": true
      },
      "cell_type": "code",
      "source": "reviews[\"score\"].mean()",
      "execution_count": 42,
      "outputs": [
        {
          "output_type": "execute_result",
          "execution_count": 42,
          "data": {
            "text/plain": "6.950459060402666"
          },
          "metadata": {}
        }
      ]
    },
    {
      "metadata": {},
      "cell_type": "markdown",
      "source": "We can also call the similar pandas.DataFrame.mean method, which will find the mean of each numerical column in a DataFrame by default: "
    },
    {
      "metadata": {
        "trusted": true
      },
      "cell_type": "code",
      "source": "reviews.mean()",
      "execution_count": 43,
      "outputs": [
        {
          "output_type": "execute_result",
          "execution_count": 43,
          "data": {
            "text/plain": "score               6.950459\nrelease_year     2006.515329\nrelease_month       7.138470\nrelease_day        15.603866\ndtype: float64"
          },
          "metadata": {}
        }
      ]
    },
    {
      "metadata": {},
      "cell_type": "markdown",
      "source": "We can modify the axis keyword argument to mean in order to compute the mean of each row or of each column. By default, axis is equal to 0, and will compute the mean of each column. We can also set it to 1 to compute the mean of each row. Note that this will only compute the mean of the numerical values in each row: "
    },
    {
      "metadata": {
        "trusted": true
      },
      "cell_type": "code",
      "source": "reviews.mean(axis=1)",
      "execution_count": 44,
      "outputs": [
        {
          "output_type": "execute_result",
          "execution_count": 44,
          "data": {
            "text/plain": "0        510.500\n1        510.500\n2        510.375\n3        510.125\n4        510.125\n5        509.750\n6        508.750\n7        510.250\n8        508.750\n9        509.750\n10       509.875\n11       509.875\n12       509.500\n13       509.250\n14       509.250\n15       508.375\n16       508.375\n17       508.500\n18       507.375\n19       507.750\n20       507.750\n21       514.625\n22       514.625\n23       514.625\n24       515.000\n25       514.250\n26       514.750\n27       514.125\n28       514.250\n29       513.625\n          ...   \n18595    510.850\n18596    510.875\n18597    510.225\n18598    510.700\n18599    510.750\n18600    512.600\n18601    512.600\n18602    512.600\n18603    512.450\n18604    512.400\n18605    511.500\n18606    508.600\n18607    510.750\n18608    510.350\n18609    510.750\n18610    510.250\n18611    508.700\n18612    509.200\n18613    508.000\n18614    515.050\n18615    515.050\n18616    508.375\n18617    508.600\n18618    515.025\n18619    514.725\n18620    514.650\n18621    515.000\n18622    513.950\n18623    515.000\n18624    515.000\nLength: 18625, dtype: float64"
          },
          "metadata": {}
        }
      ]
    },
    {
      "metadata": {},
      "cell_type": "markdown",
      "source": " There are quite a few methods on Series and DataFrames that behave like mean. Here are some handy ones:\n\n    pandas.DataFrame.corr — finds the correlation between columns in a DataFrame.\n    pandas.DataFrame.count — counts the number of non-null values in each DataFrame column.\n    pandas.DataFrame.max — finds the highest value in each column.\n    pandas.DataFrame.min — finds the lowest value in each column.\n    pandas.DataFrame.median — finds the median of each column.\n    pandas.DataFrame.std — finds the standard deviation of each column.\n\nFor example, we can use the corr method to see if any columns correlate with score. This would tell us if games released more recently have been getting higher reviews (release_year), or if games released towards the end of the year score better (release_month): "
    },
    {
      "metadata": {
        "trusted": true
      },
      "cell_type": "code",
      "source": "reviews.corr()",
      "execution_count": 45,
      "outputs": [
        {
          "output_type": "execute_result",
          "execution_count": 45,
          "data": {
            "text/html": "<div>\n<style scoped>\n    .dataframe tbody tr th:only-of-type {\n        vertical-align: middle;\n    }\n\n    .dataframe tbody tr th {\n        vertical-align: top;\n    }\n\n    .dataframe thead th {\n        text-align: right;\n    }\n</style>\n<table border=\"1\" class=\"dataframe\">\n  <thead>\n    <tr style=\"text-align: right;\">\n      <th></th>\n      <th>score</th>\n      <th>release_year</th>\n      <th>release_month</th>\n      <th>release_day</th>\n    </tr>\n  </thead>\n  <tbody>\n    <tr>\n      <th>score</th>\n      <td>1.000000</td>\n      <td>0.062716</td>\n      <td>0.007632</td>\n      <td>0.020079</td>\n    </tr>\n    <tr>\n      <th>release_year</th>\n      <td>0.062716</td>\n      <td>1.000000</td>\n      <td>-0.115515</td>\n      <td>0.016867</td>\n    </tr>\n    <tr>\n      <th>release_month</th>\n      <td>0.007632</td>\n      <td>-0.115515</td>\n      <td>1.000000</td>\n      <td>-0.067964</td>\n    </tr>\n    <tr>\n      <th>release_day</th>\n      <td>0.020079</td>\n      <td>0.016867</td>\n      <td>-0.067964</td>\n      <td>1.000000</td>\n    </tr>\n  </tbody>\n</table>\n</div>",
            "text/plain": "                  score  release_year  release_month  release_day\nscore          1.000000      0.062716       0.007632     0.020079\nrelease_year   0.062716      1.000000      -0.115515     0.016867\nrelease_month  0.007632     -0.115515       1.000000    -0.067964\nrelease_day    0.020079      0.016867      -0.067964     1.000000"
          },
          "metadata": {}
        }
      ]
    },
    {
      "metadata": {},
      "cell_type": "markdown",
      "source": " As we can see above, none of our numeric columns correlate with score, so we know that release timing doesn’t linearly relate to review score.\n\n### DataFrame Math with Pandas\n\nWe can also perform math operations on Series or DataFrame objects in Python with pandas. For example, we can divide every value in the score column by 2 to switch the scale from 0–10 to 0–5: "
    },
    {
      "metadata": {
        "trusted": true
      },
      "cell_type": "code",
      "source": "reviews[\"score\"] / 2",
      "execution_count": 46,
      "outputs": [
        {
          "output_type": "execute_result",
          "execution_count": 46,
          "data": {
            "text/plain": "0        4.50\n1        4.50\n2        4.25\n3        4.25\n4        4.25\n5        3.50\n6        1.50\n7        4.50\n8        1.50\n9        3.50\n10       3.75\n11       3.75\n12       3.50\n13       4.50\n14       4.50\n15       3.25\n16       3.25\n17       4.00\n18       2.75\n19       3.50\n20       3.50\n21       3.75\n22       3.75\n23       3.75\n24       4.50\n25       3.50\n26       4.50\n27       3.75\n28       4.00\n29       3.25\n         ... \n18595    2.20\n18596    3.25\n18597    2.45\n18598    3.40\n18599    3.50\n18600    3.70\n18601    3.70\n18602    3.70\n18603    3.90\n18604    4.30\n18605    3.00\n18606    3.20\n18607    3.50\n18608    2.70\n18609    4.00\n18610    3.00\n18611    2.90\n18612    3.90\n18613    4.00\n18614    4.60\n18615    4.60\n18616    3.75\n18617    4.20\n18618    4.55\n18619    3.95\n18620    3.80\n18621    4.50\n18622    2.90\n18623    5.00\n18624    5.00\nName: score, Length: 18625, dtype: float64"
          },
          "metadata": {}
        }
      ]
    },
    {
      "metadata": {},
      "cell_type": "markdown",
      "source": "All the common mathematical operators that work in Python, like +, -, *, /, and ^ \nwill work in pandas on Series or DataFrames, and will apply to each element in a DataFrame or a Series. "
    },
    {
      "metadata": {},
      "cell_type": "markdown",
      "source": "### Boolean Indexing in Pandas\n\nNow that we’ve gotten a bit of the pandas basics down, let’s move towards the meat of our analysis. We saw earlier that the mean of all the values in the score column of reviews is around 7. What if we wanted to find all the games that got an above-average score?\n\nWe could start by doing a comparison. The comparison compares each value in a Series to a specified value, then generate a Series full of Boolean values indicating the status of the comparison. For example, we can see which of the rows have a score value higher than 7"
    },
    {
      "metadata": {
        "trusted": true
      },
      "cell_type": "code",
      "source": "score_filter = reviews[\"score\"] > 7\nscore_filter",
      "execution_count": 47,
      "outputs": [
        {
          "output_type": "execute_result",
          "execution_count": 47,
          "data": {
            "text/plain": "0         True\n1         True\n2         True\n3         True\n4         True\n5        False\n6        False\n7         True\n8        False\n9        False\n10        True\n11        True\n12       False\n13        True\n14        True\n15       False\n16       False\n17        True\n18       False\n19       False\n20       False\n21        True\n22        True\n23        True\n24        True\n25       False\n26        True\n27        True\n28        True\n29       False\n         ...  \n18595    False\n18596    False\n18597    False\n18598    False\n18599    False\n18600     True\n18601     True\n18602     True\n18603     True\n18604     True\n18605    False\n18606    False\n18607    False\n18608    False\n18609     True\n18610    False\n18611    False\n18612     True\n18613     True\n18614     True\n18615     True\n18616     True\n18617     True\n18618     True\n18619     True\n18620     True\n18621     True\n18622    False\n18623     True\n18624     True\nName: score, Length: 18625, dtype: bool"
          },
          "metadata": {}
        }
      ]
    },
    {
      "metadata": {},
      "cell_type": "markdown",
      "source": "Once we have a Boolean Series, we can use it to select only rows in a DataFrame where the Series contains the value True. So, we could only select rows in reviews where score is greater than 7: "
    },
    {
      "metadata": {
        "trusted": true
      },
      "cell_type": "code",
      "source": "filtered_reviews = reviews[score_filter]\nfiltered_reviews.head()",
      "execution_count": 48,
      "outputs": [
        {
          "output_type": "execute_result",
          "execution_count": 48,
          "data": {
            "text/html": "<div>\n<style scoped>\n    .dataframe tbody tr th:only-of-type {\n        vertical-align: middle;\n    }\n\n    .dataframe tbody tr th {\n        vertical-align: top;\n    }\n\n    .dataframe thead th {\n        text-align: right;\n    }\n</style>\n<table border=\"1\" class=\"dataframe\">\n  <thead>\n    <tr style=\"text-align: right;\">\n      <th></th>\n      <th>score_phrase</th>\n      <th>title</th>\n      <th>url</th>\n      <th>platform</th>\n      <th>score</th>\n      <th>genre</th>\n      <th>editors_choice</th>\n      <th>release_year</th>\n      <th>release_month</th>\n      <th>release_day</th>\n    </tr>\n  </thead>\n  <tbody>\n    <tr>\n      <th>0</th>\n      <td>Amazing</td>\n      <td>LittleBigPlanet PS Vita</td>\n      <td>/games/littlebigplanet-vita/vita-98907</td>\n      <td>PlayStation Vita</td>\n      <td>9.0</td>\n      <td>Platformer</td>\n      <td>Y</td>\n      <td>2012</td>\n      <td>9</td>\n      <td>12</td>\n    </tr>\n    <tr>\n      <th>1</th>\n      <td>Amazing</td>\n      <td>LittleBigPlanet PS Vita -- Marvel Super Hero E...</td>\n      <td>/games/littlebigplanet-ps-vita-marvel-super-he...</td>\n      <td>PlayStation Vita</td>\n      <td>9.0</td>\n      <td>Platformer</td>\n      <td>Y</td>\n      <td>2012</td>\n      <td>9</td>\n      <td>12</td>\n    </tr>\n    <tr>\n      <th>2</th>\n      <td>Great</td>\n      <td>Splice: Tree of Life</td>\n      <td>/games/splice/ipad-141070</td>\n      <td>iPad</td>\n      <td>8.5</td>\n      <td>Puzzle</td>\n      <td>N</td>\n      <td>2012</td>\n      <td>9</td>\n      <td>12</td>\n    </tr>\n    <tr>\n      <th>3</th>\n      <td>Great</td>\n      <td>NHL 13</td>\n      <td>/games/nhl-13/xbox-360-128182</td>\n      <td>Xbox 360</td>\n      <td>8.5</td>\n      <td>Sports</td>\n      <td>N</td>\n      <td>2012</td>\n      <td>9</td>\n      <td>11</td>\n    </tr>\n    <tr>\n      <th>4</th>\n      <td>Great</td>\n      <td>NHL 13</td>\n      <td>/games/nhl-13/ps3-128181</td>\n      <td>PlayStation 3</td>\n      <td>8.5</td>\n      <td>Sports</td>\n      <td>N</td>\n      <td>2012</td>\n      <td>9</td>\n      <td>11</td>\n    </tr>\n  </tbody>\n</table>\n</div>",
            "text/plain": "  score_phrase                                              title  \\\n0      Amazing                            LittleBigPlanet PS Vita   \n1      Amazing  LittleBigPlanet PS Vita -- Marvel Super Hero E...   \n2        Great                               Splice: Tree of Life   \n3        Great                                             NHL 13   \n4        Great                                             NHL 13   \n\n                                                 url          platform  score  \\\n0             /games/littlebigplanet-vita/vita-98907  PlayStation Vita    9.0   \n1  /games/littlebigplanet-ps-vita-marvel-super-he...  PlayStation Vita    9.0   \n2                          /games/splice/ipad-141070              iPad    8.5   \n3                      /games/nhl-13/xbox-360-128182          Xbox 360    8.5   \n4                           /games/nhl-13/ps3-128181     PlayStation 3    8.5   \n\n        genre editors_choice  release_year  release_month  release_day  \n0  Platformer              Y          2012              9           12  \n1  Platformer              Y          2012              9           12  \n2      Puzzle              N          2012              9           12  \n3      Sports              N          2012              9           11  \n4      Sports              N          2012              9           11  "
          },
          "metadata": {}
        }
      ]
    },
    {
      "metadata": {},
      "cell_type": "markdown",
      "source": "It’s possible to use multiple conditions for filtering. Let’s say we want to find games released for the Xbox One that have a score of more than 7. In the below code, we:\n\n    Setup a filter with two conditions:\n\n        Check if score is greater than 7.\n        Check if platform equals Xbox One\n    Apply the filter to reviews to get only the rows we want.\n    Use the head method to print the first 5 rows of filtered_reviews.\n"
    },
    {
      "metadata": {
        "trusted": true
      },
      "cell_type": "code",
      "source": "xbox_one_filter = (reviews[\"score\"] > 7) & (reviews[\"platform\"] == \"Xbox One\")\nfiltered_reviews = reviews[xbox_one_filter]\nfiltered_reviews.head()",
      "execution_count": 49,
      "outputs": [
        {
          "output_type": "execute_result",
          "execution_count": 49,
          "data": {
            "text/html": "<div>\n<style scoped>\n    .dataframe tbody tr th:only-of-type {\n        vertical-align: middle;\n    }\n\n    .dataframe tbody tr th {\n        vertical-align: top;\n    }\n\n    .dataframe thead th {\n        text-align: right;\n    }\n</style>\n<table border=\"1\" class=\"dataframe\">\n  <thead>\n    <tr style=\"text-align: right;\">\n      <th></th>\n      <th>score_phrase</th>\n      <th>title</th>\n      <th>url</th>\n      <th>platform</th>\n      <th>score</th>\n      <th>genre</th>\n      <th>editors_choice</th>\n      <th>release_year</th>\n      <th>release_month</th>\n      <th>release_day</th>\n    </tr>\n  </thead>\n  <tbody>\n    <tr>\n      <th>17137</th>\n      <td>Amazing</td>\n      <td>Gone Home</td>\n      <td>/games/gone-home/xbox-one-20014361</td>\n      <td>Xbox One</td>\n      <td>9.5</td>\n      <td>Simulation</td>\n      <td>Y</td>\n      <td>2013</td>\n      <td>8</td>\n      <td>15</td>\n    </tr>\n    <tr>\n      <th>17197</th>\n      <td>Amazing</td>\n      <td>Rayman Legends</td>\n      <td>/games/rayman-legends/xbox-one-20008449</td>\n      <td>Xbox One</td>\n      <td>9.5</td>\n      <td>Platformer</td>\n      <td>Y</td>\n      <td>2013</td>\n      <td>8</td>\n      <td>26</td>\n    </tr>\n    <tr>\n      <th>17295</th>\n      <td>Amazing</td>\n      <td>LEGO Marvel Super Heroes</td>\n      <td>/games/lego-marvel-super-heroes/xbox-one-20000826</td>\n      <td>Xbox One</td>\n      <td>9.0</td>\n      <td>Action</td>\n      <td>Y</td>\n      <td>2013</td>\n      <td>10</td>\n      <td>22</td>\n    </tr>\n    <tr>\n      <th>17313</th>\n      <td>Great</td>\n      <td>Dead Rising 3</td>\n      <td>/games/dead-rising-3/xbox-one-124306</td>\n      <td>Xbox One</td>\n      <td>8.3</td>\n      <td>Action</td>\n      <td>N</td>\n      <td>2013</td>\n      <td>11</td>\n      <td>18</td>\n    </tr>\n    <tr>\n      <th>17317</th>\n      <td>Great</td>\n      <td>Killer Instinct</td>\n      <td>/games/killer-instinct-2013/xbox-one-20000538</td>\n      <td>Xbox One</td>\n      <td>8.4</td>\n      <td>Fighting</td>\n      <td>N</td>\n      <td>2013</td>\n      <td>11</td>\n      <td>18</td>\n    </tr>\n  </tbody>\n</table>\n</div>",
            "text/plain": "      score_phrase                     title  \\\n17137      Amazing                 Gone Home   \n17197      Amazing            Rayman Legends   \n17295      Amazing  LEGO Marvel Super Heroes   \n17313        Great             Dead Rising 3   \n17317        Great           Killer Instinct   \n\n                                                     url  platform  score  \\\n17137                 /games/gone-home/xbox-one-20014361  Xbox One    9.5   \n17197            /games/rayman-legends/xbox-one-20008449  Xbox One    9.5   \n17295  /games/lego-marvel-super-heroes/xbox-one-20000826  Xbox One    9.0   \n17313               /games/dead-rising-3/xbox-one-124306  Xbox One    8.3   \n17317      /games/killer-instinct-2013/xbox-one-20000538  Xbox One    8.4   \n\n            genre editors_choice  release_year  release_month  release_day  \n17137  Simulation              Y          2013              8           15  \n17197  Platformer              Y          2013              8           26  \n17295      Action              Y          2013             10           22  \n17313      Action              N          2013             11           18  \n17317    Fighting              N          2013             11           18  "
          },
          "metadata": {}
        }
      ]
    },
    {
      "metadata": {},
      "cell_type": "markdown",
      "source": "When filtering with multiple conditions, it’s important to put each condition in parentheses, and separate them with a single ampersand (&). "
    },
    {
      "metadata": {},
      "cell_type": "markdown",
      "source": "### Pandas Plotting\n\nNow that we know how to filter, we can create plots to observe the review distribution for the Xbox One vs the review distribution for the PlayStation 4. This will help us figure out which console has better games.\n\nWe can do this via a histogram, which will plot the frequencies for different score ranges. We can make a histogram for each console using the pandas.DataFrame.plot method. This method utilizes matplotlib, the popular Python plotting library, under the hood, to generate good-looking plots.\n\nThe plot method defaults to drawing a line graph. We’ll need to pass in the keyword argument kind=\"hist\" to draw a histogram instead. In the below code, we:\n\n    Call %matplotlib inline to set up plotting inside a Jupyter notebook.\n    Filter reviews to only have data about the Xbox One.\n    Plot the score column.\n"
    },
    {
      "metadata": {
        "trusted": true
      },
      "cell_type": "code",
      "source": "reviews[reviews[\"platform\"] == \"Xbox One\"][\"score\"].plot(kind=\"hist\")",
      "execution_count": 52,
      "outputs": [
        {
          "output_type": "execute_result",
          "execution_count": 52,
          "data": {
            "text/plain": "<matplotlib.axes._subplots.AxesSubplot at 0x7fb6f2dfbb00>"
          },
          "metadata": {}
        },
        {
          "output_type": "display_data",
          "data": {
            "image/png": "[encoded data removed]",
            "text/plain": "<Figure size 432x288 with 1 Axes>"
          },
          "metadata": {
            "needs_background": "light"
          }
        }
      ]
    },
    {
      "metadata": {},
      "cell_type": "markdown",
      "source": "We can also do the same for the PS4: "
    },
    {
      "metadata": {
        "trusted": true
      },
      "cell_type": "code",
      "source": "reviews[reviews[\"platform\"] == \"PlayStation 4\"][\"score\"].plot(kind=\"hist\")",
      "execution_count": 51,
      "outputs": [
        {
          "output_type": "execute_result",
          "execution_count": 51,
          "data": {
            "text/plain": "<matplotlib.axes._subplots.AxesSubplot at 0x7fb6f2d74320>"
          },
          "metadata": {}
        },
        {
          "output_type": "display_data",
          "data": {
            "image/png": "[encoded data removed]",
            "text/plain": "<Figure size 432x288 with 1 Axes>"
          },
          "metadata": {
            "needs_background": "light"
          }
        }
      ]
    },
    {
      "metadata": {},
      "cell_type": "markdown",
      "source": "It appears from our histogram that the PlayStation 4 has many more highly rated games than the Xbox One.\n\nObviously, this is just the tip of the iceberg when it comes to the potential directions we could take analyzing this data set, but we’re already off to a great start: we’ve imported a data set using Python and pandas, learned to select the data points we want using a variety of different indexing methods, and done some quick exploratory data analysis to answer the question we started with. "
    },
    {
      "metadata": {},
      "cell_type": "markdown",
      "source": "### Free Pandas Cheat Sheet\n\nIf you’re interested in learning more about pandas, check out our interactive course on NumPy and pandas. You can register and do the first missions for free. You also might like to take your pandas skills to the next level with our free pandas cheat sheet! \n\nhttps://s3.amazonaws.com/dq-blog-files/pandas-cheat-sheet.pdf"
    }
  ],
  "metadata": {
    "kernelspec": {
      "name": "python36",
      "display_name": "Python 3.6",
      "language": "python"
    },
    "language_info": {
      "mimetype": "text/x-python",
      "nbconvert_exporter": "python",
      "name": "python",
      "pygments_lexer": "ipython3",
      "version": "3.6.6",
      "file_extension": ".py",
      "codemirror_mode": {
        "version": 3,
        "name": "ipython"
      }
    }
  },
  "nbformat": 4,
  "nbformat_minor": 2
}